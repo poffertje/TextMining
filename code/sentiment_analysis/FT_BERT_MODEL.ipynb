{
  "nbformat": 4,
  "nbformat_minor": 0,
  "metadata": {
    "colab": {
      "name": "FT-BERT-MODEL.ipynb",
      "provenance": [],
      "machine_shape": "hm",
      "include_colab_link": true
    },
    "kernelspec": {
      "name": "python3",
      "display_name": "Python 3"
    },
    "language_info": {
      "name": "python"
    }
  },
  "cells": [
    {
      "cell_type": "markdown",
      "metadata": {
        "id": "view-in-github",
        "colab_type": "text"
      },
      "source": [
        "<a href=\"https://colab.research.google.com/github/poffertje/TextMining/blob/master/code/sentiment_analysis/FT_BERT_MODEL.ipynb\" target=\"_parent\"><img src=\"https://colab.research.google.com/assets/colab-badge.svg\" alt=\"Open In Colab\"/></a>"
      ]
    },
    {
      "cell_type": "markdown",
      "source": [
        "# Sentiment Analysis Classifier \n",
        "This code is heavily based on the tutorial from https://www.coursera.org/learn/fine-tune-bert-tensorflow/ungradedLti/ack5t/fine-tune-bert-for-text-classification-with-tensorflow\n",
        "\n"
      ],
      "metadata": {
        "id": "6pR3abXUw4hS"
      }
    },
    {
      "cell_type": "code",
      "execution_count": null,
      "metadata": {
        "colab": {
          "base_uri": "https://localhost:8080/"
        },
        "id": "Vn8a6-mohwjF",
        "outputId": "046b4b41-6357-4461-b804-a798d406a404"
      },
      "outputs": [
        {
          "output_type": "stream",
          "name": "stdout",
          "text": [
            "Drive already mounted at /content/gdrive; to attempt to forcibly remount, call drive.mount(\"/content/gdrive\", force_remount=True).\n"
          ]
        }
      ],
      "source": [
        "from google.colab import drive\n",
        "drive.mount('/content/gdrive')"
      ]
    },
    {
      "cell_type": "markdown",
      "source": [
        "**Import Requirements**"
      ],
      "metadata": {
        "id": "3Tu-s2u7kvLC"
      }
    },
    {
      "cell_type": "code",
      "source": [
        "%tensorflow_version 2.x\n",
        "import tensorflow as tf\n",
        "device_name = tf.test.gpu_device_name()\n",
        "if device_name != '/device:GPU:0':\n",
        "  raise SystemError('GPU device not found')\n",
        "print('Found GPU at: {}'.format(device_name))"
      ],
      "metadata": {
        "colab": {
          "base_uri": "https://localhost:8080/"
        },
        "id": "_rr0fY0riCfk",
        "outputId": "9b704ec1-279a-4ba4-cd11-23ec9dbfd648"
      },
      "execution_count": null,
      "outputs": [
        {
          "output_type": "stream",
          "name": "stdout",
          "text": [
            "Found GPU at: /device:GPU:0\n"
          ]
        }
      ]
    },
    {
      "cell_type": "code",
      "source": [
        "!git clone --depth 1 -b v2.3.0 https://github.com/tensorflow/models.git\n",
        "!pip install -q tf-models-official==2.4.0"
      ],
      "metadata": {
        "id": "6yL16iKuGRrG"
      },
      "execution_count": null,
      "outputs": []
    },
    {
      "cell_type": "code",
      "source": [
        "import pandas as pd\n",
        "import numpy as np\n",
        "import os\n",
        "import matplotlib.pyplot as plt\n",
        "import tensorflow_hub as hub\n",
        "from official.nlp.data import classifier_data_lib\n",
        "from official.nlp.bert import tokenization\n",
        "from official.nlp import optimization"
      ],
      "metadata": {
        "id": "Zh0V7JH1iCib"
      },
      "execution_count": null,
      "outputs": []
    },
    {
      "cell_type": "code",
      "source": [
        "print(\"TF Version: \", tf.__version__)\n",
        "print(\"Eager mode: \", tf.executing_eagerly())\n",
        "print(\"Hub version: \", hub.__version__)\n",
        "print(\"GPU is\", \"available\" if tf.config.experimental.list_physical_devices(\"GPU\") else \"NOT AVAILABLE\")"
      ],
      "metadata": {
        "id": "dG9B0QenBkp4",
        "colab": {
          "base_uri": "https://localhost:8080/"
        },
        "outputId": "2e82cd22-778c-4076-f601-8120fdac024e"
      },
      "execution_count": null,
      "outputs": [
        {
          "output_type": "stream",
          "name": "stdout",
          "text": [
            "TF Version:  2.8.0\n",
            "Eager mode:  True\n",
            "Hub version:  0.12.0\n",
            "GPU is available\n"
          ]
        }
      ]
    },
    {
      "cell_type": "code",
      "source": [
        "import os\n",
        "os.chdir('/content/gdrive/Shareddrives/Minecraft/Datasets')"
      ],
      "metadata": {
        "id": "ocWY28U5iCue"
      },
      "execution_count": null,
      "outputs": []
    },
    {
      "cell_type": "markdown",
      "source": [
        "**Import Dataset**"
      ],
      "metadata": {
        "id": "x3lNKu4Fj_3L"
      }
    },
    {
      "cell_type": "code",
      "source": [
        "yelp_dataset = pd.read_csv('8April_100k_sentiment_sample_25_75_mixed.csv')"
      ],
      "metadata": {
        "id": "lE8PcPrWijvr"
      },
      "execution_count": null,
      "outputs": []
    },
    {
      "cell_type": "code",
      "source": [
        "display(yelp_dataset)"
      ],
      "metadata": {
        "colab": {
          "base_uri": "https://localhost:8080/",
          "height": 419
        },
        "id": "ezggYRRCjzuy",
        "outputId": "78c08f49-bc5b-4fe9-e68f-0ad758484dba"
      },
      "execution_count": null,
      "outputs": [
        {
          "output_type": "display_data",
          "data": {
            "text/plain": [
              "       sentiment label  userID  productID  rating  label        date  \\\n",
              "0                    1   27044       5022     5.0      1  2014-02-08   \n",
              "1                    1   38418       3745     4.0      1  2009-11-17   \n",
              "2                    0   37316       4340     1.0      1  2011-08-01   \n",
              "3                    1   27225       3544     5.0      1  2013-06-24   \n",
              "4                    0   23707       3987     2.0      1  2011-12-30   \n",
              "...                ...     ...        ...     ...    ...         ...   \n",
              "99995                1   32153        256     5.0      1  2014-05-05   \n",
              "99996                1   22606        136     5.0      1  2014-08-07   \n",
              "99997                0   12838        139     2.0      1  2011-02-28   \n",
              "99998                1   73270        886     4.0      1  2010-05-06   \n",
              "99999                1   31227        244     4.0      1  2012-05-18   \n",
              "\n",
              "                                                  review  \n",
              "0      We sort of just stumbled upon this place by ac...  \n",
              "1      As a ramen-lover, I was so excited when this p...  \n",
              "2      this is the place that you swore off from your...  \n",
              "3      WOW! What an amazing restaurant! My girlfriend...  \n",
              "4      While my friends thought the food was excellen...  \n",
              "...                                                  ...  \n",
              "99995  Fresh delicious food!!! 9 dumplings, pineapple...  \n",
              "99996  A tasty café, with an array of vegan sandwiche...  \n",
              "99997  Went here for drinks on a Wednesday night.  Wh...  \n",
              "99998  Just ate lunch at The Spot and *yum*! We both ...  \n",
              "99999  Delicious food and friendly service. A bit slo...  \n",
              "\n",
              "[100000 rows x 7 columns]"
            ],
            "text/html": [
              "\n",
              "  <div id=\"df-fa48ded5-0504-4268-8ef2-50267519a68b\">\n",
              "    <div class=\"colab-df-container\">\n",
              "      <div>\n",
              "<style scoped>\n",
              "    .dataframe tbody tr th:only-of-type {\n",
              "        vertical-align: middle;\n",
              "    }\n",
              "\n",
              "    .dataframe tbody tr th {\n",
              "        vertical-align: top;\n",
              "    }\n",
              "\n",
              "    .dataframe thead th {\n",
              "        text-align: right;\n",
              "    }\n",
              "</style>\n",
              "<table border=\"1\" class=\"dataframe\">\n",
              "  <thead>\n",
              "    <tr style=\"text-align: right;\">\n",
              "      <th></th>\n",
              "      <th>sentiment label</th>\n",
              "      <th>userID</th>\n",
              "      <th>productID</th>\n",
              "      <th>rating</th>\n",
              "      <th>label</th>\n",
              "      <th>date</th>\n",
              "      <th>review</th>\n",
              "    </tr>\n",
              "  </thead>\n",
              "  <tbody>\n",
              "    <tr>\n",
              "      <th>0</th>\n",
              "      <td>1</td>\n",
              "      <td>27044</td>\n",
              "      <td>5022</td>\n",
              "      <td>5.0</td>\n",
              "      <td>1</td>\n",
              "      <td>2014-02-08</td>\n",
              "      <td>We sort of just stumbled upon this place by ac...</td>\n",
              "    </tr>\n",
              "    <tr>\n",
              "      <th>1</th>\n",
              "      <td>1</td>\n",
              "      <td>38418</td>\n",
              "      <td>3745</td>\n",
              "      <td>4.0</td>\n",
              "      <td>1</td>\n",
              "      <td>2009-11-17</td>\n",
              "      <td>As a ramen-lover, I was so excited when this p...</td>\n",
              "    </tr>\n",
              "    <tr>\n",
              "      <th>2</th>\n",
              "      <td>0</td>\n",
              "      <td>37316</td>\n",
              "      <td>4340</td>\n",
              "      <td>1.0</td>\n",
              "      <td>1</td>\n",
              "      <td>2011-08-01</td>\n",
              "      <td>this is the place that you swore off from your...</td>\n",
              "    </tr>\n",
              "    <tr>\n",
              "      <th>3</th>\n",
              "      <td>1</td>\n",
              "      <td>27225</td>\n",
              "      <td>3544</td>\n",
              "      <td>5.0</td>\n",
              "      <td>1</td>\n",
              "      <td>2013-06-24</td>\n",
              "      <td>WOW! What an amazing restaurant! My girlfriend...</td>\n",
              "    </tr>\n",
              "    <tr>\n",
              "      <th>4</th>\n",
              "      <td>0</td>\n",
              "      <td>23707</td>\n",
              "      <td>3987</td>\n",
              "      <td>2.0</td>\n",
              "      <td>1</td>\n",
              "      <td>2011-12-30</td>\n",
              "      <td>While my friends thought the food was excellen...</td>\n",
              "    </tr>\n",
              "    <tr>\n",
              "      <th>...</th>\n",
              "      <td>...</td>\n",
              "      <td>...</td>\n",
              "      <td>...</td>\n",
              "      <td>...</td>\n",
              "      <td>...</td>\n",
              "      <td>...</td>\n",
              "      <td>...</td>\n",
              "    </tr>\n",
              "    <tr>\n",
              "      <th>99995</th>\n",
              "      <td>1</td>\n",
              "      <td>32153</td>\n",
              "      <td>256</td>\n",
              "      <td>5.0</td>\n",
              "      <td>1</td>\n",
              "      <td>2014-05-05</td>\n",
              "      <td>Fresh delicious food!!! 9 dumplings, pineapple...</td>\n",
              "    </tr>\n",
              "    <tr>\n",
              "      <th>99996</th>\n",
              "      <td>1</td>\n",
              "      <td>22606</td>\n",
              "      <td>136</td>\n",
              "      <td>5.0</td>\n",
              "      <td>1</td>\n",
              "      <td>2014-08-07</td>\n",
              "      <td>A tasty café, with an array of vegan sandwiche...</td>\n",
              "    </tr>\n",
              "    <tr>\n",
              "      <th>99997</th>\n",
              "      <td>0</td>\n",
              "      <td>12838</td>\n",
              "      <td>139</td>\n",
              "      <td>2.0</td>\n",
              "      <td>1</td>\n",
              "      <td>2011-02-28</td>\n",
              "      <td>Went here for drinks on a Wednesday night.  Wh...</td>\n",
              "    </tr>\n",
              "    <tr>\n",
              "      <th>99998</th>\n",
              "      <td>1</td>\n",
              "      <td>73270</td>\n",
              "      <td>886</td>\n",
              "      <td>4.0</td>\n",
              "      <td>1</td>\n",
              "      <td>2010-05-06</td>\n",
              "      <td>Just ate lunch at The Spot and *yum*! We both ...</td>\n",
              "    </tr>\n",
              "    <tr>\n",
              "      <th>99999</th>\n",
              "      <td>1</td>\n",
              "      <td>31227</td>\n",
              "      <td>244</td>\n",
              "      <td>4.0</td>\n",
              "      <td>1</td>\n",
              "      <td>2012-05-18</td>\n",
              "      <td>Delicious food and friendly service. A bit slo...</td>\n",
              "    </tr>\n",
              "  </tbody>\n",
              "</table>\n",
              "<p>100000 rows × 7 columns</p>\n",
              "</div>\n",
              "      <button class=\"colab-df-convert\" onclick=\"convertToInteractive('df-fa48ded5-0504-4268-8ef2-50267519a68b')\"\n",
              "              title=\"Convert this dataframe to an interactive table.\"\n",
              "              style=\"display:none;\">\n",
              "        \n",
              "  <svg xmlns=\"http://www.w3.org/2000/svg\" height=\"24px\"viewBox=\"0 0 24 24\"\n",
              "       width=\"24px\">\n",
              "    <path d=\"M0 0h24v24H0V0z\" fill=\"none\"/>\n",
              "    <path d=\"M18.56 5.44l.94 2.06.94-2.06 2.06-.94-2.06-.94-.94-2.06-.94 2.06-2.06.94zm-11 1L8.5 8.5l.94-2.06 2.06-.94-2.06-.94L8.5 2.5l-.94 2.06-2.06.94zm10 10l.94 2.06.94-2.06 2.06-.94-2.06-.94-.94-2.06-.94 2.06-2.06.94z\"/><path d=\"M17.41 7.96l-1.37-1.37c-.4-.4-.92-.59-1.43-.59-.52 0-1.04.2-1.43.59L10.3 9.45l-7.72 7.72c-.78.78-.78 2.05 0 2.83L4 21.41c.39.39.9.59 1.41.59.51 0 1.02-.2 1.41-.59l7.78-7.78 2.81-2.81c.8-.78.8-2.07 0-2.86zM5.41 20L4 18.59l7.72-7.72 1.47 1.35L5.41 20z\"/>\n",
              "  </svg>\n",
              "      </button>\n",
              "      \n",
              "  <style>\n",
              "    .colab-df-container {\n",
              "      display:flex;\n",
              "      flex-wrap:wrap;\n",
              "      gap: 12px;\n",
              "    }\n",
              "\n",
              "    .colab-df-convert {\n",
              "      background-color: #E8F0FE;\n",
              "      border: none;\n",
              "      border-radius: 50%;\n",
              "      cursor: pointer;\n",
              "      display: none;\n",
              "      fill: #1967D2;\n",
              "      height: 32px;\n",
              "      padding: 0 0 0 0;\n",
              "      width: 32px;\n",
              "    }\n",
              "\n",
              "    .colab-df-convert:hover {\n",
              "      background-color: #E2EBFA;\n",
              "      box-shadow: 0px 1px 2px rgba(60, 64, 67, 0.3), 0px 1px 3px 1px rgba(60, 64, 67, 0.15);\n",
              "      fill: #174EA6;\n",
              "    }\n",
              "\n",
              "    [theme=dark] .colab-df-convert {\n",
              "      background-color: #3B4455;\n",
              "      fill: #D2E3FC;\n",
              "    }\n",
              "\n",
              "    [theme=dark] .colab-df-convert:hover {\n",
              "      background-color: #434B5C;\n",
              "      box-shadow: 0px 1px 3px 1px rgba(0, 0, 0, 0.15);\n",
              "      filter: drop-shadow(0px 1px 2px rgba(0, 0, 0, 0.3));\n",
              "      fill: #FFFFFF;\n",
              "    }\n",
              "  </style>\n",
              "\n",
              "      <script>\n",
              "        const buttonEl =\n",
              "          document.querySelector('#df-fa48ded5-0504-4268-8ef2-50267519a68b button.colab-df-convert');\n",
              "        buttonEl.style.display =\n",
              "          google.colab.kernel.accessAllowed ? 'block' : 'none';\n",
              "\n",
              "        async function convertToInteractive(key) {\n",
              "          const element = document.querySelector('#df-fa48ded5-0504-4268-8ef2-50267519a68b');\n",
              "          const dataTable =\n",
              "            await google.colab.kernel.invokeFunction('convertToInteractive',\n",
              "                                                     [key], {});\n",
              "          if (!dataTable) return;\n",
              "\n",
              "          const docLinkHtml = 'Like what you see? Visit the ' +\n",
              "            '<a target=\"_blank\" href=https://colab.research.google.com/notebooks/data_table.ipynb>data table notebook</a>'\n",
              "            + ' to learn more about interactive tables.';\n",
              "          element.innerHTML = '';\n",
              "          dataTable['output_type'] = 'display_data';\n",
              "          await google.colab.output.renderOutput(dataTable, element);\n",
              "          const docLink = document.createElement('div');\n",
              "          docLink.innerHTML = docLinkHtml;\n",
              "          element.appendChild(docLink);\n",
              "        }\n",
              "      </script>\n",
              "    </div>\n",
              "  </div>\n",
              "  "
            ]
          },
          "metadata": {}
        }
      ]
    },
    {
      "cell_type": "markdown",
      "source": [
        "**Splitting the Dataset into Training and Validation**"
      ],
      "metadata": {
        "id": "JFG4CAH0k5DO"
      }
    },
    {
      "cell_type": "code",
      "source": [
        "training_data = yelp_dataset.sample(frac=0.9, random_state=25)\n",
        "val_data = yelp_dataset.drop(training_data.index)\n",
        "display(training_data)\n",
        "display(val_data)"
      ],
      "metadata": {
        "colab": {
          "base_uri": "https://localhost:8080/",
          "height": 821
        },
        "id": "A8JvBkJ-lBlk",
        "outputId": "d97b8310-e211-4fb2-931b-469e36bbf30e"
      },
      "execution_count": null,
      "outputs": [
        {
          "output_type": "display_data",
          "data": {
            "text/plain": [
              "       sentiment label  userID  productID  rating  label        date  \\\n",
              "43469                1   83587        983     5.0      1  2013-08-26   \n",
              "20973                0  108187       4267     3.0      1  2010-01-05   \n",
              "42833                0    7015         56     3.0      1  2013-07-04   \n",
              "1568                 1   23277       2017     5.0      1  2012-09-29   \n",
              "83899                1  166202       2657     5.0      1  2011-02-06   \n",
              "...                ...     ...        ...     ...    ...         ...   \n",
              "82033                1   16255       2440     4.0      1  2014-11-20   \n",
              "2849                 1   36490       2642     5.0      1  2014-06-25   \n",
              "37187                1   41634        395     4.0      1  2010-01-28   \n",
              "89359                0   58103       4752     3.0      1  2013-06-30   \n",
              "96146                1  232090       4133     4.0      1  2015-01-08   \n",
              "\n",
              "                                                  review  \n",
              "43469  Authentic Japanese cuisine. Had to try their s...  \n",
              "20973  I'm only giving this place 3 stars because the...  \n",
              "42833  Many of the vendors are good, but there are ab...  \n",
              "1568   If someone ever demands me to take him \"somewh...  \n",
              "83899  Went here I think on a Sunday afternoon, the p...  \n",
              "...                                                  ...  \n",
              "82033  Huge fan of Blend in the neighborhood, so I wa...  \n",
              "2849   Never though I would like vegan sushi but I di...  \n",
              "37187  I went to Cookshop for Sunday brunch with a gr...  \n",
              "89359  We came for Saturday brunch as part of my brot...  \n",
              "96146  This place is delicious. Chicken taco salad wa...  \n",
              "\n",
              "[90000 rows x 7 columns]"
            ],
            "text/html": [
              "\n",
              "  <div id=\"df-63584e09-c3d6-4b1c-bbdd-60841d246199\">\n",
              "    <div class=\"colab-df-container\">\n",
              "      <div>\n",
              "<style scoped>\n",
              "    .dataframe tbody tr th:only-of-type {\n",
              "        vertical-align: middle;\n",
              "    }\n",
              "\n",
              "    .dataframe tbody tr th {\n",
              "        vertical-align: top;\n",
              "    }\n",
              "\n",
              "    .dataframe thead th {\n",
              "        text-align: right;\n",
              "    }\n",
              "</style>\n",
              "<table border=\"1\" class=\"dataframe\">\n",
              "  <thead>\n",
              "    <tr style=\"text-align: right;\">\n",
              "      <th></th>\n",
              "      <th>sentiment label</th>\n",
              "      <th>userID</th>\n",
              "      <th>productID</th>\n",
              "      <th>rating</th>\n",
              "      <th>label</th>\n",
              "      <th>date</th>\n",
              "      <th>review</th>\n",
              "    </tr>\n",
              "  </thead>\n",
              "  <tbody>\n",
              "    <tr>\n",
              "      <th>43469</th>\n",
              "      <td>1</td>\n",
              "      <td>83587</td>\n",
              "      <td>983</td>\n",
              "      <td>5.0</td>\n",
              "      <td>1</td>\n",
              "      <td>2013-08-26</td>\n",
              "      <td>Authentic Japanese cuisine. Had to try their s...</td>\n",
              "    </tr>\n",
              "    <tr>\n",
              "      <th>20973</th>\n",
              "      <td>0</td>\n",
              "      <td>108187</td>\n",
              "      <td>4267</td>\n",
              "      <td>3.0</td>\n",
              "      <td>1</td>\n",
              "      <td>2010-01-05</td>\n",
              "      <td>I'm only giving this place 3 stars because the...</td>\n",
              "    </tr>\n",
              "    <tr>\n",
              "      <th>42833</th>\n",
              "      <td>0</td>\n",
              "      <td>7015</td>\n",
              "      <td>56</td>\n",
              "      <td>3.0</td>\n",
              "      <td>1</td>\n",
              "      <td>2013-07-04</td>\n",
              "      <td>Many of the vendors are good, but there are ab...</td>\n",
              "    </tr>\n",
              "    <tr>\n",
              "      <th>1568</th>\n",
              "      <td>1</td>\n",
              "      <td>23277</td>\n",
              "      <td>2017</td>\n",
              "      <td>5.0</td>\n",
              "      <td>1</td>\n",
              "      <td>2012-09-29</td>\n",
              "      <td>If someone ever demands me to take him \"somewh...</td>\n",
              "    </tr>\n",
              "    <tr>\n",
              "      <th>83899</th>\n",
              "      <td>1</td>\n",
              "      <td>166202</td>\n",
              "      <td>2657</td>\n",
              "      <td>5.0</td>\n",
              "      <td>1</td>\n",
              "      <td>2011-02-06</td>\n",
              "      <td>Went here I think on a Sunday afternoon, the p...</td>\n",
              "    </tr>\n",
              "    <tr>\n",
              "      <th>...</th>\n",
              "      <td>...</td>\n",
              "      <td>...</td>\n",
              "      <td>...</td>\n",
              "      <td>...</td>\n",
              "      <td>...</td>\n",
              "      <td>...</td>\n",
              "      <td>...</td>\n",
              "    </tr>\n",
              "    <tr>\n",
              "      <th>82033</th>\n",
              "      <td>1</td>\n",
              "      <td>16255</td>\n",
              "      <td>2440</td>\n",
              "      <td>4.0</td>\n",
              "      <td>1</td>\n",
              "      <td>2014-11-20</td>\n",
              "      <td>Huge fan of Blend in the neighborhood, so I wa...</td>\n",
              "    </tr>\n",
              "    <tr>\n",
              "      <th>2849</th>\n",
              "      <td>1</td>\n",
              "      <td>36490</td>\n",
              "      <td>2642</td>\n",
              "      <td>5.0</td>\n",
              "      <td>1</td>\n",
              "      <td>2014-06-25</td>\n",
              "      <td>Never though I would like vegan sushi but I di...</td>\n",
              "    </tr>\n",
              "    <tr>\n",
              "      <th>37187</th>\n",
              "      <td>1</td>\n",
              "      <td>41634</td>\n",
              "      <td>395</td>\n",
              "      <td>4.0</td>\n",
              "      <td>1</td>\n",
              "      <td>2010-01-28</td>\n",
              "      <td>I went to Cookshop for Sunday brunch with a gr...</td>\n",
              "    </tr>\n",
              "    <tr>\n",
              "      <th>89359</th>\n",
              "      <td>0</td>\n",
              "      <td>58103</td>\n",
              "      <td>4752</td>\n",
              "      <td>3.0</td>\n",
              "      <td>1</td>\n",
              "      <td>2013-06-30</td>\n",
              "      <td>We came for Saturday brunch as part of my brot...</td>\n",
              "    </tr>\n",
              "    <tr>\n",
              "      <th>96146</th>\n",
              "      <td>1</td>\n",
              "      <td>232090</td>\n",
              "      <td>4133</td>\n",
              "      <td>4.0</td>\n",
              "      <td>1</td>\n",
              "      <td>2015-01-08</td>\n",
              "      <td>This place is delicious. Chicken taco salad wa...</td>\n",
              "    </tr>\n",
              "  </tbody>\n",
              "</table>\n",
              "<p>90000 rows × 7 columns</p>\n",
              "</div>\n",
              "      <button class=\"colab-df-convert\" onclick=\"convertToInteractive('df-63584e09-c3d6-4b1c-bbdd-60841d246199')\"\n",
              "              title=\"Convert this dataframe to an interactive table.\"\n",
              "              style=\"display:none;\">\n",
              "        \n",
              "  <svg xmlns=\"http://www.w3.org/2000/svg\" height=\"24px\"viewBox=\"0 0 24 24\"\n",
              "       width=\"24px\">\n",
              "    <path d=\"M0 0h24v24H0V0z\" fill=\"none\"/>\n",
              "    <path d=\"M18.56 5.44l.94 2.06.94-2.06 2.06-.94-2.06-.94-.94-2.06-.94 2.06-2.06.94zm-11 1L8.5 8.5l.94-2.06 2.06-.94-2.06-.94L8.5 2.5l-.94 2.06-2.06.94zm10 10l.94 2.06.94-2.06 2.06-.94-2.06-.94-.94-2.06-.94 2.06-2.06.94z\"/><path d=\"M17.41 7.96l-1.37-1.37c-.4-.4-.92-.59-1.43-.59-.52 0-1.04.2-1.43.59L10.3 9.45l-7.72 7.72c-.78.78-.78 2.05 0 2.83L4 21.41c.39.39.9.59 1.41.59.51 0 1.02-.2 1.41-.59l7.78-7.78 2.81-2.81c.8-.78.8-2.07 0-2.86zM5.41 20L4 18.59l7.72-7.72 1.47 1.35L5.41 20z\"/>\n",
              "  </svg>\n",
              "      </button>\n",
              "      \n",
              "  <style>\n",
              "    .colab-df-container {\n",
              "      display:flex;\n",
              "      flex-wrap:wrap;\n",
              "      gap: 12px;\n",
              "    }\n",
              "\n",
              "    .colab-df-convert {\n",
              "      background-color: #E8F0FE;\n",
              "      border: none;\n",
              "      border-radius: 50%;\n",
              "      cursor: pointer;\n",
              "      display: none;\n",
              "      fill: #1967D2;\n",
              "      height: 32px;\n",
              "      padding: 0 0 0 0;\n",
              "      width: 32px;\n",
              "    }\n",
              "\n",
              "    .colab-df-convert:hover {\n",
              "      background-color: #E2EBFA;\n",
              "      box-shadow: 0px 1px 2px rgba(60, 64, 67, 0.3), 0px 1px 3px 1px rgba(60, 64, 67, 0.15);\n",
              "      fill: #174EA6;\n",
              "    }\n",
              "\n",
              "    [theme=dark] .colab-df-convert {\n",
              "      background-color: #3B4455;\n",
              "      fill: #D2E3FC;\n",
              "    }\n",
              "\n",
              "    [theme=dark] .colab-df-convert:hover {\n",
              "      background-color: #434B5C;\n",
              "      box-shadow: 0px 1px 3px 1px rgba(0, 0, 0, 0.15);\n",
              "      filter: drop-shadow(0px 1px 2px rgba(0, 0, 0, 0.3));\n",
              "      fill: #FFFFFF;\n",
              "    }\n",
              "  </style>\n",
              "\n",
              "      <script>\n",
              "        const buttonEl =\n",
              "          document.querySelector('#df-63584e09-c3d6-4b1c-bbdd-60841d246199 button.colab-df-convert');\n",
              "        buttonEl.style.display =\n",
              "          google.colab.kernel.accessAllowed ? 'block' : 'none';\n",
              "\n",
              "        async function convertToInteractive(key) {\n",
              "          const element = document.querySelector('#df-63584e09-c3d6-4b1c-bbdd-60841d246199');\n",
              "          const dataTable =\n",
              "            await google.colab.kernel.invokeFunction('convertToInteractive',\n",
              "                                                     [key], {});\n",
              "          if (!dataTable) return;\n",
              "\n",
              "          const docLinkHtml = 'Like what you see? Visit the ' +\n",
              "            '<a target=\"_blank\" href=https://colab.research.google.com/notebooks/data_table.ipynb>data table notebook</a>'\n",
              "            + ' to learn more about interactive tables.';\n",
              "          element.innerHTML = '';\n",
              "          dataTable['output_type'] = 'display_data';\n",
              "          await google.colab.output.renderOutput(dataTable, element);\n",
              "          const docLink = document.createElement('div');\n",
              "          docLink.innerHTML = docLinkHtml;\n",
              "          element.appendChild(docLink);\n",
              "        }\n",
              "      </script>\n",
              "    </div>\n",
              "  </div>\n",
              "  "
            ]
          },
          "metadata": {}
        },
        {
          "output_type": "display_data",
          "data": {
            "text/plain": [
              "       sentiment label  userID  productID  rating  label        date  \\\n",
              "20                   1   16675       4616     5.0      1  2013-06-05   \n",
              "22                   1   13463       4995     4.0      1  2012-04-29   \n",
              "49                   1   74813       3176     5.0      1  2009-03-16   \n",
              "50                   1   71252       4745     5.0      1  2011-03-20   \n",
              "62                   0   84204       2409     2.0      1  2012-11-09   \n",
              "...                ...     ...        ...     ...    ...         ...   \n",
              "99920                1   11048       1364     4.0      1  2009-02-20   \n",
              "99925                1   45088        458     5.0      1  2013-07-14   \n",
              "99927                0   15843       3767     3.0      1  2010-12-23   \n",
              "99953                0   27207       4552     2.0      1  2014-04-30   \n",
              "99998                1   73270        886     4.0      1  2010-05-06   \n",
              "\n",
              "                                                  review  \n",
              "20     Holy mackerel. Best. Meal. Ever. And I don't s...  \n",
              "22     Banh mi oh my!  Definitely had one of the best...  \n",
              "49     Every dish I had here was the best of its kind...  \n",
              "50       Solid, spicy Cambodian food.  #14 is delicious.  \n",
              "62     It pains me to write this. I have been going t...  \n",
              "...                                                  ...  \n",
              "99920  In these troubled times, we need a place where...  \n",
              "99925  One of my favorite restaurants in fort greene....  \n",
              "99927  Came here originally for Soba-ya's handmade so...  \n",
              "99953  This is an okay place overall and if it were n...  \n",
              "99998  Just ate lunch at The Spot and *yum*! We both ...  \n",
              "\n",
              "[10000 rows x 7 columns]"
            ],
            "text/html": [
              "\n",
              "  <div id=\"df-d4871163-a778-4da9-a081-86f6ee86b4bd\">\n",
              "    <div class=\"colab-df-container\">\n",
              "      <div>\n",
              "<style scoped>\n",
              "    .dataframe tbody tr th:only-of-type {\n",
              "        vertical-align: middle;\n",
              "    }\n",
              "\n",
              "    .dataframe tbody tr th {\n",
              "        vertical-align: top;\n",
              "    }\n",
              "\n",
              "    .dataframe thead th {\n",
              "        text-align: right;\n",
              "    }\n",
              "</style>\n",
              "<table border=\"1\" class=\"dataframe\">\n",
              "  <thead>\n",
              "    <tr style=\"text-align: right;\">\n",
              "      <th></th>\n",
              "      <th>sentiment label</th>\n",
              "      <th>userID</th>\n",
              "      <th>productID</th>\n",
              "      <th>rating</th>\n",
              "      <th>label</th>\n",
              "      <th>date</th>\n",
              "      <th>review</th>\n",
              "    </tr>\n",
              "  </thead>\n",
              "  <tbody>\n",
              "    <tr>\n",
              "      <th>20</th>\n",
              "      <td>1</td>\n",
              "      <td>16675</td>\n",
              "      <td>4616</td>\n",
              "      <td>5.0</td>\n",
              "      <td>1</td>\n",
              "      <td>2013-06-05</td>\n",
              "      <td>Holy mackerel. Best. Meal. Ever. And I don't s...</td>\n",
              "    </tr>\n",
              "    <tr>\n",
              "      <th>22</th>\n",
              "      <td>1</td>\n",
              "      <td>13463</td>\n",
              "      <td>4995</td>\n",
              "      <td>4.0</td>\n",
              "      <td>1</td>\n",
              "      <td>2012-04-29</td>\n",
              "      <td>Banh mi oh my!  Definitely had one of the best...</td>\n",
              "    </tr>\n",
              "    <tr>\n",
              "      <th>49</th>\n",
              "      <td>1</td>\n",
              "      <td>74813</td>\n",
              "      <td>3176</td>\n",
              "      <td>5.0</td>\n",
              "      <td>1</td>\n",
              "      <td>2009-03-16</td>\n",
              "      <td>Every dish I had here was the best of its kind...</td>\n",
              "    </tr>\n",
              "    <tr>\n",
              "      <th>50</th>\n",
              "      <td>1</td>\n",
              "      <td>71252</td>\n",
              "      <td>4745</td>\n",
              "      <td>5.0</td>\n",
              "      <td>1</td>\n",
              "      <td>2011-03-20</td>\n",
              "      <td>Solid, spicy Cambodian food.  #14 is delicious.</td>\n",
              "    </tr>\n",
              "    <tr>\n",
              "      <th>62</th>\n",
              "      <td>0</td>\n",
              "      <td>84204</td>\n",
              "      <td>2409</td>\n",
              "      <td>2.0</td>\n",
              "      <td>1</td>\n",
              "      <td>2012-11-09</td>\n",
              "      <td>It pains me to write this. I have been going t...</td>\n",
              "    </tr>\n",
              "    <tr>\n",
              "      <th>...</th>\n",
              "      <td>...</td>\n",
              "      <td>...</td>\n",
              "      <td>...</td>\n",
              "      <td>...</td>\n",
              "      <td>...</td>\n",
              "      <td>...</td>\n",
              "      <td>...</td>\n",
              "    </tr>\n",
              "    <tr>\n",
              "      <th>99920</th>\n",
              "      <td>1</td>\n",
              "      <td>11048</td>\n",
              "      <td>1364</td>\n",
              "      <td>4.0</td>\n",
              "      <td>1</td>\n",
              "      <td>2009-02-20</td>\n",
              "      <td>In these troubled times, we need a place where...</td>\n",
              "    </tr>\n",
              "    <tr>\n",
              "      <th>99925</th>\n",
              "      <td>1</td>\n",
              "      <td>45088</td>\n",
              "      <td>458</td>\n",
              "      <td>5.0</td>\n",
              "      <td>1</td>\n",
              "      <td>2013-07-14</td>\n",
              "      <td>One of my favorite restaurants in fort greene....</td>\n",
              "    </tr>\n",
              "    <tr>\n",
              "      <th>99927</th>\n",
              "      <td>0</td>\n",
              "      <td>15843</td>\n",
              "      <td>3767</td>\n",
              "      <td>3.0</td>\n",
              "      <td>1</td>\n",
              "      <td>2010-12-23</td>\n",
              "      <td>Came here originally for Soba-ya's handmade so...</td>\n",
              "    </tr>\n",
              "    <tr>\n",
              "      <th>99953</th>\n",
              "      <td>0</td>\n",
              "      <td>27207</td>\n",
              "      <td>4552</td>\n",
              "      <td>2.0</td>\n",
              "      <td>1</td>\n",
              "      <td>2014-04-30</td>\n",
              "      <td>This is an okay place overall and if it were n...</td>\n",
              "    </tr>\n",
              "    <tr>\n",
              "      <th>99998</th>\n",
              "      <td>1</td>\n",
              "      <td>73270</td>\n",
              "      <td>886</td>\n",
              "      <td>4.0</td>\n",
              "      <td>1</td>\n",
              "      <td>2010-05-06</td>\n",
              "      <td>Just ate lunch at The Spot and *yum*! We both ...</td>\n",
              "    </tr>\n",
              "  </tbody>\n",
              "</table>\n",
              "<p>10000 rows × 7 columns</p>\n",
              "</div>\n",
              "      <button class=\"colab-df-convert\" onclick=\"convertToInteractive('df-d4871163-a778-4da9-a081-86f6ee86b4bd')\"\n",
              "              title=\"Convert this dataframe to an interactive table.\"\n",
              "              style=\"display:none;\">\n",
              "        \n",
              "  <svg xmlns=\"http://www.w3.org/2000/svg\" height=\"24px\"viewBox=\"0 0 24 24\"\n",
              "       width=\"24px\">\n",
              "    <path d=\"M0 0h24v24H0V0z\" fill=\"none\"/>\n",
              "    <path d=\"M18.56 5.44l.94 2.06.94-2.06 2.06-.94-2.06-.94-.94-2.06-.94 2.06-2.06.94zm-11 1L8.5 8.5l.94-2.06 2.06-.94-2.06-.94L8.5 2.5l-.94 2.06-2.06.94zm10 10l.94 2.06.94-2.06 2.06-.94-2.06-.94-.94-2.06-.94 2.06-2.06.94z\"/><path d=\"M17.41 7.96l-1.37-1.37c-.4-.4-.92-.59-1.43-.59-.52 0-1.04.2-1.43.59L10.3 9.45l-7.72 7.72c-.78.78-.78 2.05 0 2.83L4 21.41c.39.39.9.59 1.41.59.51 0 1.02-.2 1.41-.59l7.78-7.78 2.81-2.81c.8-.78.8-2.07 0-2.86zM5.41 20L4 18.59l7.72-7.72 1.47 1.35L5.41 20z\"/>\n",
              "  </svg>\n",
              "      </button>\n",
              "      \n",
              "  <style>\n",
              "    .colab-df-container {\n",
              "      display:flex;\n",
              "      flex-wrap:wrap;\n",
              "      gap: 12px;\n",
              "    }\n",
              "\n",
              "    .colab-df-convert {\n",
              "      background-color: #E8F0FE;\n",
              "      border: none;\n",
              "      border-radius: 50%;\n",
              "      cursor: pointer;\n",
              "      display: none;\n",
              "      fill: #1967D2;\n",
              "      height: 32px;\n",
              "      padding: 0 0 0 0;\n",
              "      width: 32px;\n",
              "    }\n",
              "\n",
              "    .colab-df-convert:hover {\n",
              "      background-color: #E2EBFA;\n",
              "      box-shadow: 0px 1px 2px rgba(60, 64, 67, 0.3), 0px 1px 3px 1px rgba(60, 64, 67, 0.15);\n",
              "      fill: #174EA6;\n",
              "    }\n",
              "\n",
              "    [theme=dark] .colab-df-convert {\n",
              "      background-color: #3B4455;\n",
              "      fill: #D2E3FC;\n",
              "    }\n",
              "\n",
              "    [theme=dark] .colab-df-convert:hover {\n",
              "      background-color: #434B5C;\n",
              "      box-shadow: 0px 1px 3px 1px rgba(0, 0, 0, 0.15);\n",
              "      filter: drop-shadow(0px 1px 2px rgba(0, 0, 0, 0.3));\n",
              "      fill: #FFFFFF;\n",
              "    }\n",
              "  </style>\n",
              "\n",
              "      <script>\n",
              "        const buttonEl =\n",
              "          document.querySelector('#df-d4871163-a778-4da9-a081-86f6ee86b4bd button.colab-df-convert');\n",
              "        buttonEl.style.display =\n",
              "          google.colab.kernel.accessAllowed ? 'block' : 'none';\n",
              "\n",
              "        async function convertToInteractive(key) {\n",
              "          const element = document.querySelector('#df-d4871163-a778-4da9-a081-86f6ee86b4bd');\n",
              "          const dataTable =\n",
              "            await google.colab.kernel.invokeFunction('convertToInteractive',\n",
              "                                                     [key], {});\n",
              "          if (!dataTable) return;\n",
              "\n",
              "          const docLinkHtml = 'Like what you see? Visit the ' +\n",
              "            '<a target=\"_blank\" href=https://colab.research.google.com/notebooks/data_table.ipynb>data table notebook</a>'\n",
              "            + ' to learn more about interactive tables.';\n",
              "          element.innerHTML = '';\n",
              "          dataTable['output_type'] = 'display_data';\n",
              "          await google.colab.output.renderOutput(dataTable, element);\n",
              "          const docLink = document.createElement('div');\n",
              "          docLink.innerHTML = docLinkHtml;\n",
              "          element.appendChild(docLink);\n",
              "        }\n",
              "      </script>\n",
              "    </div>\n",
              "  </div>\n",
              "  "
            ]
          },
          "metadata": {}
        }
      ]
    },
    {
      "cell_type": "code",
      "source": [
        "print(training_data.value_counts('sentiment label'))\n",
        "print(val_data.value_counts('sentiment label'))"
      ],
      "metadata": {
        "colab": {
          "base_uri": "https://localhost:8080/"
        },
        "id": "_5mn6-iY-XEA",
        "outputId": "61b90475-9d3f-4380-c4aa-5ca37230abfb"
      },
      "execution_count": null,
      "outputs": [
        {
          "output_type": "stream",
          "name": "stdout",
          "text": [
            "sentiment label\n",
            "1    66926\n",
            "0    23074\n",
            "dtype: int64\n",
            "sentiment label\n",
            "1    7387\n",
            "0    2613\n",
            "dtype: int64\n"
          ]
        }
      ]
    },
    {
      "cell_type": "markdown",
      "source": [
        "Converting datasets into Tensors"
      ],
      "metadata": {
        "id": "yxCq-Cw4kaXC"
      }
    },
    {
      "cell_type": "code",
      "source": [
        "train_data = tf.data.Dataset.from_tensor_slices((training_data.review.values, training_data['sentiment label'].values))\n",
        "valid_data = tf.data.Dataset.from_tensor_slices((val_data.review.values, val_data['sentiment label'].values))\n",
        "\n",
        "for text, label in train_data.take(1):\n",
        "  print(text)\n",
        "  print(label)"
      ],
      "metadata": {
        "id": "nnlShRjiEr42"
      },
      "execution_count": null,
      "outputs": []
    },
    {
      "cell_type": "markdown",
      "source": [
        "Loading pre-trained BERT model, initialising the tokenizer and defining some parameters"
      ],
      "metadata": {
        "id": "t8YTdSoVlTcv"
      }
    },
    {
      "cell_type": "code",
      "source": [
        "label_list = [0, 1] # Label categories\n",
        "max_seq_length = 128 # maximum length of (token) input sequences\n",
        "train_batch_size = 16\n",
        "bert_layer = hub.KerasLayer(\"https://tfhub.dev/tensorflow/bert_en_uncased_L-12_H-768_A-12/2\",\n",
        "                            trainable=True)\n",
        "vocab_file = bert_layer.resolved_object.vocab_file.asset_path.numpy()\n",
        "do_lower_case = bert_layer.resolved_object.do_lower_case.numpy()\n",
        "tokenizer = tokenization.FullTokenizer(vocab_file, do_lower_case)"
      ],
      "metadata": {
        "id": "6uD3ZRb6FIx8"
      },
      "execution_count": null,
      "outputs": []
    },
    {
      "cell_type": "markdown",
      "source": [
        "Functions to Create Suitable Input Representation for the BERT model"
      ],
      "metadata": {
        "id": "ELhuHL8sxep7"
      }
    },
    {
      "cell_type": "code",
      "source": [
        "def to_feature(text, label, label_list=label_list, max_seq_length=max_seq_length, tokenizer=tokenizer):\n",
        "  example = classifier_data_lib.InputExample(guid = None,\n",
        "                                            text_a = text.numpy(), \n",
        "                                            text_b = None, \n",
        "                                            label = label.numpy())\n",
        "  feature = classifier_data_lib.convert_single_example(0, example, label_list,\n",
        "                                    max_seq_length, tokenizer)\n",
        "  \n",
        "  return (feature.input_ids, feature.input_mask, feature.segment_ids, feature.label_id)"
      ],
      "metadata": {
        "id": "Nd8FR4JRHXtS"
      },
      "execution_count": null,
      "outputs": []
    },
    {
      "cell_type": "code",
      "source": [
        "def to_feature_map(text, label):\n",
        "  input_ids, input_mask, segment_ids, label_id = tf.py_function(to_feature, inp=[text, label], \n",
        "                                Tout=[tf.int32, tf.int32, tf.int32, tf.int32])\n",
        "\n",
        "  # py_func doesn't set the shape of the returned tensors.\n",
        "  input_ids.set_shape([max_seq_length])\n",
        "  input_mask.set_shape([max_seq_length])\n",
        "  segment_ids.set_shape([max_seq_length])\n",
        "  label_id.set_shape([])\n",
        "\n",
        "  x = {\n",
        "        'input_word_ids': input_ids,\n",
        "        'input_mask': input_mask,\n",
        "        'input_type_ids': segment_ids\n",
        "    }\n",
        "  return (x, label_id)"
      ],
      "metadata": {
        "id": "mUyrpifJHbe1"
      },
      "execution_count": null,
      "outputs": []
    },
    {
      "cell_type": "code",
      "source": [
        "\n",
        " # train\n",
        "train_data = (train_data.map(to_feature_map,\n",
        "                              num_parallel_calls=tf.data.experimental.AUTOTUNE)\n",
        "                          .shuffle(100)\n",
        "                          .batch(train_batch_size, drop_remainder=True)\n",
        "                          .prefetch(tf.data.experimental.AUTOTUNE))\n",
        "\n",
        "# valid\n",
        "valid_data = (valid_data.map(to_feature_map,\n",
        "                            num_parallel_calls=tf.data.experimental.AUTOTUNE)\n",
        "                          .batch(train_batch_size, drop_remainder=True)\n",
        "                          .prefetch(tf.data.experimental.AUTOTUNE)) "
      ],
      "metadata": {
        "id": "D15Qr4kPHfJH"
      },
      "execution_count": null,
      "outputs": []
    },
    {
      "cell_type": "code",
      "source": [
        "train_data.element_spec"
      ],
      "metadata": {
        "id": "kGzlEei9H5ft"
      },
      "execution_count": null,
      "outputs": []
    },
    {
      "cell_type": "code",
      "source": [
        "valid_data.element_spec"
      ],
      "metadata": {
        "id": "9Xb0pCy-DLL0"
      },
      "execution_count": null,
      "outputs": []
    },
    {
      "cell_type": "markdown",
      "source": [
        "Create Classification Head Layer "
      ],
      "metadata": {
        "id": "CKyvUdg-xvc9"
      }
    },
    {
      "cell_type": "code",
      "source": [
        "def create_model():\n",
        "  input_word_ids = tf.keras.layers.Input(shape=(max_seq_length,), dtype=tf.int32,\n",
        "                                      name=\"input_word_ids\")\n",
        "  input_mask = tf.keras.layers.Input(shape=(max_seq_length,), dtype=tf.int32,\n",
        "                                  name=\"input_mask\")\n",
        "  input_type_ids = tf.keras.layers.Input(shape=(max_seq_length,), dtype=tf.int32,\n",
        "                                  name=\"input_type_ids\")\n",
        "\n",
        "  pooled_output, sequence_output = bert_layer([input_word_ids, input_mask, input_type_ids])\n",
        "\n",
        "  drop = tf.keras.layers.Dropout(0.3)(pooled_output)\n",
        "  output = tf.keras.layers.Dense(1, activation=\"sigmoid\", name=\"output\")(drop)\n",
        "\n",
        "  model = tf.keras.Model(\n",
        "    inputs={\n",
        "        'input_word_ids': input_word_ids,\n",
        "        'input_mask': input_mask,\n",
        "        'input_type_ids': input_type_ids\n",
        "    },\n",
        "    outputs=output)\n",
        "  return model"
      ],
      "metadata": {
        "id": "8RDH9vFPC4an"
      },
      "execution_count": null,
      "outputs": []
    },
    {
      "cell_type": "markdown",
      "source": [
        "Training and Saving the Weights of the Model"
      ],
      "metadata": {
        "id": "n5AXioofx1Lr"
      }
    },
    {
      "cell_type": "code",
      "source": [
        "model_name = '100k-2e5-16-02-8April_sentiment_sample_25_75_mixed_weights'\n",
        "with tf.device('/device:GPU:0'):\n",
        "  model = create_model()\n",
        "  model.compile(optimizer=tf.keras.optimizers.Adam(learning_rate=2e-5, epsilon=1e-08, clipnorm=1.0),\n",
        "              loss=tf.keras.losses.BinaryCrossentropy(),\n",
        "              metrics=[tf.keras.metrics.BinaryAccuracy()])\n",
        "  model.summary()\n",
        "\n",
        "  history = model.fit(train_data, epochs=3, validation_data=valid_data)\n",
        "  model.save_weights(model_name)\n",
        "  model.save(model_name)"
      ],
      "metadata": {
        "colab": {
          "base_uri": "https://localhost:8080/"
        },
        "id": "-_kHfmIFiDaX",
        "outputId": "2938d495-c3d6-4061-c8eb-88e50ee562c8"
      },
      "execution_count": null,
      "outputs": [
        {
          "output_type": "stream",
          "name": "stdout",
          "text": [
            "Model: \"model\"\n",
            "__________________________________________________________________________________________________\n",
            " Layer (type)                   Output Shape         Param #     Connected to                     \n",
            "==================================================================================================\n",
            " input_word_ids (InputLayer)    [(None, 128)]        0           []                               \n",
            "                                                                                                  \n",
            " input_mask (InputLayer)        [(None, 128)]        0           []                               \n",
            "                                                                                                  \n",
            " input_type_ids (InputLayer)    [(None, 128)]        0           []                               \n",
            "                                                                                                  \n",
            " keras_layer (KerasLayer)       [(None, 768),        109482241   ['input_word_ids[0][0]',         \n",
            "                                 (None, 128, 768)]                'input_mask[0][0]',             \n",
            "                                                                  'input_type_ids[0][0]']         \n",
            "                                                                                                  \n",
            " dropout (Dropout)              (None, 768)          0           ['keras_layer[0][0]']            \n",
            "                                                                                                  \n",
            " output (Dense)                 (None, 1)            769         ['dropout[0][0]']                \n",
            "                                                                                                  \n",
            "==================================================================================================\n",
            "Total params: 109,483,010\n",
            "Trainable params: 109,483,009\n",
            "Non-trainable params: 1\n",
            "__________________________________________________________________________________________________\n",
            "Epoch 1/3\n",
            "5625/5625 [==============================] - 1602s 280ms/step - loss: 0.2798 - binary_accuracy: 0.8849 - val_loss: 0.2670 - val_binary_accuracy: 0.8928\n",
            "Epoch 2/3\n",
            "5625/5625 [==============================] - 1576s 280ms/step - loss: 0.1931 - binary_accuracy: 0.9246 - val_loss: 0.2830 - val_binary_accuracy: 0.8930\n",
            "Epoch 3/3\n",
            "5625/5625 [==============================] - 1575s 280ms/step - loss: 0.1241 - binary_accuracy: 0.9538 - val_loss: 0.3300 - val_binary_accuracy: 0.8876\n"
          ]
        },
        {
          "output_type": "stream",
          "name": "stderr",
          "text": [
            "WARNING:absl:Found untraced functions such as restored_function_body, restored_function_body, restored_function_body, restored_function_body, restored_function_body while saving (showing 5 of 378). These functions will not be directly callable after loading.\n"
          ]
        },
        {
          "output_type": "stream",
          "name": "stdout",
          "text": [
            "INFO:tensorflow:Assets written to: 100k-2e5-16-02-8April_sentiment_sample_25_75_mixed/assets\n"
          ]
        },
        {
          "output_type": "stream",
          "name": "stderr",
          "text": [
            "INFO:tensorflow:Assets written to: 100k-2e5-16-02-8April_sentiment_sample_25_75_mixed/assets\n"
          ]
        }
      ]
    },
    {
      "cell_type": "markdown",
      "source": [
        "Loading the trained model"
      ],
      "metadata": {
        "id": "wJ-BkQJQjASY"
      }
    },
    {
      "cell_type": "code",
      "source": [
        "model_name = '100k-2e5-16-02-8April_sentiment_sample_25_75_mixed_weights'\n",
        "trained_model = TFBertForSequenceClassification.from_pretrained(\"bert-base-uncased\")\n",
        "trained_model.compile(optimizer=tf.keras.optimizers.Adam(learning_rate=2e-5, epsilon=1e-08, clipnorm=1.0), \n",
        "                 loss=tf.keras.losses.SparseCategoricalCrossentropy(from_logits=True), \n",
        "                 metrics=[tf.keras.metrics.SparseCategoricalAccuracy('accuracy')])\n",
        "trained_model.load_weights(model_name)\n",
        "trained_model.summary()"
      ],
      "metadata": {
        "id": "aRtZ9qv9i89e"
      },
      "execution_count": null,
      "outputs": []
    }
  ]
}