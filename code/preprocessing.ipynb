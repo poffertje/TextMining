{
 "cells": [
  {
   "cell_type": "markdown",
   "metadata": {
    "colab_type": "text",
    "id": "view-in-github"
   },
   "source": [
    "<a href=\"https://colab.research.google.com/github/poffertje/TextMining/blob/master/1_1_data_exploration.ipynb\" target=\"_parent\"><img src=\"https://colab.research.google.com/assets/colab-badge.svg\" alt=\"Open In Colab\"/></a>"
   ]
  },
  {
   "cell_type": "markdown",
   "metadata": {
    "id": "u_xOkpYHZL5_"
   },
   "source": [
    "# Data Preporcessing"
   ]
  },
  {
   "cell_type": "markdown",
   "metadata": {
    "id": "8Bexi1xMZhif"
   },
   "source": [
    "## Mounting the Drive (Google Colab)"
   ]
  },
  {
   "cell_type": "code",
   "execution_count": null,
   "metadata": {
    "colab": {
     "base_uri": "https://localhost:8080/"
    },
    "id": "99K5AOxEZgf4",
    "outputId": "73696e46-4378-4377-ec0a-fe91c57d5d5a"
   },
   "outputs": [],
   "source": [
    "from google.colab import drive\n",
    "drive.mount('/content/gdrive')\n"
   ]
  },
  {
   "cell_type": "markdown",
   "metadata": {
    "id": "JQDL6GDgZS-7"
   },
   "source": [
    "## Importing The Packages"
   ]
  },
  {
   "cell_type": "code",
   "execution_count": 1,
   "metadata": {
    "id": "ew2ZZSInZZ3D"
   },
   "outputs": [],
   "source": [
    "import numpy as np\n",
    "import pandas as pd\n",
    "import matplotlib.pyplot as plt\n",
    "import seaborn as sns\n",
    "import warnings\n",
    "import os\n",
    "from pathlib import Path\n"
   ]
  },
  {
   "cell_type": "code",
   "execution_count": 62,
   "metadata": {},
   "outputs": [],
   "source": [
    "pd.options.display.max_rows = 15\n",
    "np.set_printoptions(precision=4, suppress=True)\n",
    "# Filter out the irrelevant warnings\n",
    "warnings.filterwarnings('ignore')\n",
    "# Plotting\n",
    "%matplotlib inline\n",
    "sns.set_style(\"darkgrid\", {\"axes.facecolor\": \".9\"})\n",
    "# sns.set(style='whitegrid', palette='muted', font_scale=1.2)\n",
    "FIG_SIZE = (12,9)\n"
   ]
  },
  {
   "cell_type": "markdown",
   "metadata": {
    "id": "uSWOsKwnadmD"
   },
   "source": [
    "## Resolving Paths"
   ]
  },
  {
   "cell_type": "markdown",
   "metadata": {
    "id": "vE7A8E0vH4c0"
   },
   "source": [
    "### Google Colab"
   ]
  },
  {
   "cell_type": "code",
   "execution_count": 4,
   "metadata": {
    "colab": {
     "base_uri": "https://localhost:8080/"
    },
    "id": "Qgg-gkrWacyu",
    "outputId": "8b6f74db-6019-4541-e1f5-7338c61c3adc"
   },
   "outputs": [
    {
     "name": "stdout",
     "output_type": "stream",
     "text": [
      "C:\\Users\\lmps\\github\\TextMining2\\code\\gdrive\\Shareddrives\\Minecraft\\Datasets\n",
      "Does path exist? -> False\n"
     ]
    }
   ],
   "source": [
    "CUR_DIR = Path().resolve()  # this should provide you with the folder in which this notebook is placed\n",
    "# use this for colab\n",
    "PATH_TO_DATASETS = Path.joinpath(CUR_DIR, 'gdrive/Shareddrives/Minecraft/Datasets')\n",
    "print(PATH_TO_DATASETS)\n",
    "print('Does path exist? ->', Path.exists(PATH_TO_DATASETS))\n"
   ]
  },
  {
   "cell_type": "markdown",
   "metadata": {
    "id": "tdrP4U78H7Ry"
   },
   "source": [
    "### Local Repository"
   ]
  },
  {
   "cell_type": "code",
   "execution_count": 5,
   "metadata": {
    "id": "WU3U0wjycZXU"
   },
   "outputs": [
    {
     "name": "stdout",
     "output_type": "stream",
     "text": [
      "C:\\Users\\lmps\\github\\TextMining2\\datasets\n",
      "Does path exist? -> True\n"
     ]
    }
   ],
   "source": [
    "os.chdir(\"../\")\n",
    "CUR_DIR = Path().resolve()  # this should provide you with the folder in which this notebook is placed\n",
    "# use this for local repository\n",
    "PATH_TO_DATASETS = Path.joinpath(CUR_DIR, 'datasets')\n",
    "print(PATH_TO_DATASETS)\n",
    "print('Does path exist? ->', Path.exists(PATH_TO_DATASETS))\n"
   ]
  },
  {
   "cell_type": "code",
   "execution_count": 6,
   "metadata": {
    "colab": {
     "base_uri": "https://localhost:8080/"
    },
    "id": "CNERFL4VaVnA",
    "outputId": "f5505f03-df76-45e7-c090-b501264479dd"
   },
   "outputs": [
    {
     "name": "stdout",
     "output_type": "stream",
     "text": [
      "C:\\Users\\lmps\\github\\TextMining2\\datasets\\YelpZip\n",
      "Does path exist? -> True\n"
     ]
    }
   ],
   "source": [
    "# same for colab and local repository\n",
    "PATH_TO_YELP = Path.joinpath(PATH_TO_DATASETS, 'YelpZip')\n",
    "print(PATH_TO_YELP)\n",
    "print('Does path exist? ->', Path.exists(PATH_TO_YELP))"
   ]
  },
  {
   "cell_type": "markdown",
   "metadata": {
    "id": "ns2WKsFVdCPw"
   },
   "source": [
    "## Processing The Data"
   ]
  },
  {
   "cell_type": "markdown",
   "metadata": {
    "id": "uaWaACbCJ2Rf"
   },
   "source": [
    "### Importing The Data"
   ]
  },
  {
   "cell_type": "code",
   "execution_count": 7,
   "metadata": {
    "colab": {
     "base_uri": "https://localhost:8080/",
     "height": 206
    },
    "id": "t5gDFsv_cSAU",
    "outputId": "2ce3a469-442b-4f5e-ec61-ca349a5031f2"
   },
   "outputs": [
    {
     "data": {
      "text/html": [
       "<div>\n",
       "<style scoped>\n",
       "    .dataframe tbody tr th:only-of-type {\n",
       "        vertical-align: middle;\n",
       "    }\n",
       "\n",
       "    .dataframe tbody tr th {\n",
       "        vertical-align: top;\n",
       "    }\n",
       "\n",
       "    .dataframe thead th {\n",
       "        text-align: right;\n",
       "    }\n",
       "</style>\n",
       "<table border=\"1\" class=\"dataframe\">\n",
       "  <thead>\n",
       "    <tr style=\"text-align: right;\">\n",
       "      <th></th>\n",
       "      <th>userID</th>\n",
       "      <th>productID</th>\n",
       "      <th>date</th>\n",
       "      <th>review</th>\n",
       "    </tr>\n",
       "  </thead>\n",
       "  <tbody>\n",
       "    <tr>\n",
       "      <th>0</th>\n",
       "      <td>5045</td>\n",
       "      <td>0</td>\n",
       "      <td>2014-09-08</td>\n",
       "      <td>This was the worst experience I've ever had a ...</td>\n",
       "    </tr>\n",
       "    <tr>\n",
       "      <th>1</th>\n",
       "      <td>5046</td>\n",
       "      <td>0</td>\n",
       "      <td>2013-10-06</td>\n",
       "      <td>This is located on the site of the old Spruce ...</td>\n",
       "    </tr>\n",
       "    <tr>\n",
       "      <th>2</th>\n",
       "      <td>5047</td>\n",
       "      <td>0</td>\n",
       "      <td>2014-11-30</td>\n",
       "      <td>I enjoyed coffee and breakfast twice at Toast ...</td>\n",
       "    </tr>\n",
       "    <tr>\n",
       "      <th>3</th>\n",
       "      <td>5048</td>\n",
       "      <td>0</td>\n",
       "      <td>2014-08-28</td>\n",
       "      <td>I love Toast! The food choices are fantastic -...</td>\n",
       "    </tr>\n",
       "    <tr>\n",
       "      <th>4</th>\n",
       "      <td>5049</td>\n",
       "      <td>0</td>\n",
       "      <td>2013-07-16</td>\n",
       "      <td>The egg on an English muffin (their take on eg...</td>\n",
       "    </tr>\n",
       "  </tbody>\n",
       "</table>\n",
       "</div>"
      ],
      "text/plain": [
       "   userID  productID        date  \\\n",
       "0    5045          0  2014-09-08   \n",
       "1    5046          0  2013-10-06   \n",
       "2    5047          0  2014-11-30   \n",
       "3    5048          0  2014-08-28   \n",
       "4    5049          0  2013-07-16   \n",
       "\n",
       "                                              review  \n",
       "0  This was the worst experience I've ever had a ...  \n",
       "1  This is located on the site of the old Spruce ...  \n",
       "2  I enjoyed coffee and breakfast twice at Toast ...  \n",
       "3  I love Toast! The food choices are fantastic -...  \n",
       "4  The egg on an English muffin (their take on eg...  "
      ]
     },
     "execution_count": 7,
     "metadata": {},
     "output_type": "execute_result"
    }
   ],
   "source": [
    "rev_content = pd.read_table(Path.joinpath(PATH_TO_YELP, 'reviewContent'), sep = '\\t')\n",
    "rev_content.columns = [\"userID\", \"productID\", \"date\", \"review\"]\n",
    "rev_content.head()"
   ]
  },
  {
   "cell_type": "code",
   "execution_count": 8,
   "metadata": {
    "colab": {
     "base_uri": "https://localhost:8080/",
     "height": 206
    },
    "id": "RLYfJ4NedK3w",
    "outputId": "4c2040bc-9574-40f4-8fa1-1797a9dfd3f7"
   },
   "outputs": [
    {
     "data": {
      "text/html": [
       "<div>\n",
       "<style scoped>\n",
       "    .dataframe tbody tr th:only-of-type {\n",
       "        vertical-align: middle;\n",
       "    }\n",
       "\n",
       "    .dataframe tbody tr th {\n",
       "        vertical-align: top;\n",
       "    }\n",
       "\n",
       "    .dataframe thead th {\n",
       "        text-align: right;\n",
       "    }\n",
       "</style>\n",
       "<table border=\"1\" class=\"dataframe\">\n",
       "  <thead>\n",
       "    <tr style=\"text-align: right;\">\n",
       "      <th></th>\n",
       "      <th>userID</th>\n",
       "      <th>productID</th>\n",
       "      <th>rating</th>\n",
       "      <th>label</th>\n",
       "      <th>date</th>\n",
       "    </tr>\n",
       "  </thead>\n",
       "  <tbody>\n",
       "    <tr>\n",
       "      <th>0</th>\n",
       "      <td>5045</td>\n",
       "      <td>0</td>\n",
       "      <td>1.0</td>\n",
       "      <td>-1</td>\n",
       "      <td>2014-09-08</td>\n",
       "    </tr>\n",
       "    <tr>\n",
       "      <th>1</th>\n",
       "      <td>5046</td>\n",
       "      <td>0</td>\n",
       "      <td>3.0</td>\n",
       "      <td>-1</td>\n",
       "      <td>2013-10-06</td>\n",
       "    </tr>\n",
       "    <tr>\n",
       "      <th>2</th>\n",
       "      <td>5047</td>\n",
       "      <td>0</td>\n",
       "      <td>5.0</td>\n",
       "      <td>-1</td>\n",
       "      <td>2014-11-30</td>\n",
       "    </tr>\n",
       "    <tr>\n",
       "      <th>3</th>\n",
       "      <td>5048</td>\n",
       "      <td>0</td>\n",
       "      <td>5.0</td>\n",
       "      <td>-1</td>\n",
       "      <td>2014-08-28</td>\n",
       "    </tr>\n",
       "    <tr>\n",
       "      <th>4</th>\n",
       "      <td>5049</td>\n",
       "      <td>0</td>\n",
       "      <td>5.0</td>\n",
       "      <td>-1</td>\n",
       "      <td>2013-07-16</td>\n",
       "    </tr>\n",
       "  </tbody>\n",
       "</table>\n",
       "</div>"
      ],
      "text/plain": [
       "   userID  productID  rating  label        date\n",
       "0    5045          0     1.0     -1  2014-09-08\n",
       "1    5046          0     3.0     -1  2013-10-06\n",
       "2    5047          0     5.0     -1  2014-11-30\n",
       "3    5048          0     5.0     -1  2014-08-28\n",
       "4    5049          0     5.0     -1  2013-07-16"
      ]
     },
     "execution_count": 8,
     "metadata": {},
     "output_type": "execute_result"
    }
   ],
   "source": [
    "metadata = pd.read_table(Path.joinpath(PATH_TO_YELP, 'metadata'), sep = '\\t')\n",
    "metadata.columns = [\"userID\", \"productID\", \"rating\", \"label\", \"date\"]\n",
    "metadata.head()"
   ]
  },
  {
   "cell_type": "code",
   "execution_count": 9,
   "metadata": {
    "colab": {
     "base_uri": "https://localhost:8080/",
     "height": 206
    },
    "id": "3ISoYHE_dzYq",
    "outputId": "ee58cbac-4e79-4d5f-95ef-1ac4ed613211"
   },
   "outputs": [
    {
     "data": {
      "text/html": [
       "<div>\n",
       "<style scoped>\n",
       "    .dataframe tbody tr th:only-of-type {\n",
       "        vertical-align: middle;\n",
       "    }\n",
       "\n",
       "    .dataframe tbody tr th {\n",
       "        vertical-align: top;\n",
       "    }\n",
       "\n",
       "    .dataframe thead th {\n",
       "        text-align: right;\n",
       "    }\n",
       "</style>\n",
       "<table border=\"1\" class=\"dataframe\">\n",
       "  <thead>\n",
       "    <tr style=\"text-align: right;\">\n",
       "      <th></th>\n",
       "      <th>name</th>\n",
       "      <th>productID</th>\n",
       "    </tr>\n",
       "  </thead>\n",
       "  <tbody>\n",
       "    <tr>\n",
       "      <th>0</th>\n",
       "      <td>Big Apple Lounge &amp; Restaurant</td>\n",
       "      <td>1</td>\n",
       "    </tr>\n",
       "    <tr>\n",
       "      <th>1</th>\n",
       "      <td>La Carreta</td>\n",
       "      <td>2</td>\n",
       "    </tr>\n",
       "    <tr>\n",
       "      <th>2</th>\n",
       "      <td>Just Subs 6</td>\n",
       "      <td>2780</td>\n",
       "    </tr>\n",
       "    <tr>\n",
       "      <th>3</th>\n",
       "      <td>Formosa Asian Fusion Restaurant</td>\n",
       "      <td>4</td>\n",
       "    </tr>\n",
       "    <tr>\n",
       "      <th>4</th>\n",
       "      <td>Dona Mercedes</td>\n",
       "      <td>5</td>\n",
       "    </tr>\n",
       "  </tbody>\n",
       "</table>\n",
       "</div>"
      ],
      "text/plain": [
       "                              name  productID\n",
       "0    Big Apple Lounge & Restaurant          1\n",
       "1                       La Carreta          2\n",
       "2                      Just Subs 6       2780\n",
       "3  Formosa Asian Fusion Restaurant          4\n",
       "4                    Dona Mercedes          5"
      ]
     },
     "execution_count": 9,
     "metadata": {},
     "output_type": "execute_result"
    }
   ],
   "source": [
    "product_map = pd.read_table(Path.joinpath(PATH_TO_YELP, 'productIdMapping'), sep = '\\t')\n",
    "product_map.columns = [\"name\", \"productID\"]\n",
    "product_map.head()"
   ]
  },
  {
   "cell_type": "code",
   "execution_count": 10,
   "metadata": {
    "colab": {
     "base_uri": "https://localhost:8080/",
     "height": 206
    },
    "id": "mVhMmVCkecQH",
    "outputId": "69ac7ec4-a97f-411e-892f-21851660caa0"
   },
   "outputs": [
    {
     "data": {
      "text/html": [
       "<div>\n",
       "<style scoped>\n",
       "    .dataframe tbody tr th:only-of-type {\n",
       "        vertical-align: middle;\n",
       "    }\n",
       "\n",
       "    .dataframe tbody tr th {\n",
       "        vertical-align: top;\n",
       "    }\n",
       "\n",
       "    .dataframe thead th {\n",
       "        text-align: right;\n",
       "    }\n",
       "</style>\n",
       "<table border=\"1\" class=\"dataframe\">\n",
       "  <thead>\n",
       "    <tr style=\"text-align: right;\">\n",
       "      <th></th>\n",
       "      <th>name</th>\n",
       "      <th>userID</th>\n",
       "    </tr>\n",
       "  </thead>\n",
       "  <tbody>\n",
       "    <tr>\n",
       "      <th>0</th>\n",
       "      <td>FzbqZaNONgR-b5iHpoGp8Q</td>\n",
       "      <td>185064</td>\n",
       "    </tr>\n",
       "    <tr>\n",
       "      <th>1</th>\n",
       "      <td>F1n8h7MtVHPxgY4U1iQ-bQ</td>\n",
       "      <td>205085</td>\n",
       "    </tr>\n",
       "    <tr>\n",
       "      <th>2</th>\n",
       "      <td>sd00TiP5ENkm6rKYPn3p3A</td>\n",
       "      <td>38645</td>\n",
       "    </tr>\n",
       "    <tr>\n",
       "      <th>3</th>\n",
       "      <td>9-QHBM5i9--nUYrrj9DXXA</td>\n",
       "      <td>133524</td>\n",
       "    </tr>\n",
       "    <tr>\n",
       "      <th>4</th>\n",
       "      <td>FBjIChlJ437HqVe134bCVw</td>\n",
       "      <td>41313</td>\n",
       "    </tr>\n",
       "  </tbody>\n",
       "</table>\n",
       "</div>"
      ],
      "text/plain": [
       "                     name  userID\n",
       "0  FzbqZaNONgR-b5iHpoGp8Q  185064\n",
       "1  F1n8h7MtVHPxgY4U1iQ-bQ  205085\n",
       "2  sd00TiP5ENkm6rKYPn3p3A   38645\n",
       "3  9-QHBM5i9--nUYrrj9DXXA  133524\n",
       "4  FBjIChlJ437HqVe134bCVw   41313"
      ]
     },
     "execution_count": 10,
     "metadata": {},
     "output_type": "execute_result"
    }
   ],
   "source": [
    "user_map = pd.read_table(Path.joinpath(PATH_TO_YELP, 'userIdMapping'), sep = '\\t')\n",
    "user_map.columns = [\"name\", \"userID\"]\n",
    "user_map.head()"
   ]
  },
  {
   "cell_type": "code",
   "execution_count": 11,
   "metadata": {
    "colab": {
     "base_uri": "https://localhost:8080/",
     "height": 206
    },
    "id": "dw2lwIzVewnZ",
    "outputId": "d5df882d-aa5a-483a-c08d-19c3e2119c68"
   },
   "outputs": [
    {
     "data": {
      "text/html": [
       "<div>\n",
       "<style scoped>\n",
       "    .dataframe tbody tr th:only-of-type {\n",
       "        vertical-align: middle;\n",
       "    }\n",
       "\n",
       "    .dataframe tbody tr th {\n",
       "        vertical-align: top;\n",
       "    }\n",
       "\n",
       "    .dataframe thead th {\n",
       "        text-align: right;\n",
       "    }\n",
       "</style>\n",
       "<table border=\"1\" class=\"dataframe\">\n",
       "  <thead>\n",
       "    <tr style=\"text-align: right;\">\n",
       "      <th></th>\n",
       "      <th>userID</th>\n",
       "      <th>productID</th>\n",
       "      <th>rating</th>\n",
       "    </tr>\n",
       "  </thead>\n",
       "  <tbody>\n",
       "    <tr>\n",
       "      <th>0</th>\n",
       "      <td>5045</td>\n",
       "      <td>0</td>\n",
       "      <td>1.0</td>\n",
       "    </tr>\n",
       "    <tr>\n",
       "      <th>1</th>\n",
       "      <td>5046</td>\n",
       "      <td>0</td>\n",
       "      <td>3.0</td>\n",
       "    </tr>\n",
       "    <tr>\n",
       "      <th>2</th>\n",
       "      <td>5047</td>\n",
       "      <td>0</td>\n",
       "      <td>5.0</td>\n",
       "    </tr>\n",
       "    <tr>\n",
       "      <th>3</th>\n",
       "      <td>5048</td>\n",
       "      <td>0</td>\n",
       "      <td>5.0</td>\n",
       "    </tr>\n",
       "    <tr>\n",
       "      <th>4</th>\n",
       "      <td>5049</td>\n",
       "      <td>0</td>\n",
       "      <td>5.0</td>\n",
       "    </tr>\n",
       "  </tbody>\n",
       "</table>\n",
       "</div>"
      ],
      "text/plain": [
       "   userID  productID  rating\n",
       "0    5045          0     1.0\n",
       "1    5046          0     3.0\n",
       "2    5047          0     5.0\n",
       "3    5048          0     5.0\n",
       "4    5049          0     5.0"
      ]
     },
     "execution_count": 11,
     "metadata": {},
     "output_type": "execute_result"
    }
   ],
   "source": [
    "graph = pd.read_table(Path.joinpath(PATH_TO_YELP, 'reviewGraph'), sep = '\\t')\n",
    "graph.columns = [\"userID\", \"productID\", \"rating\"]\n",
    "graph.head()"
   ]
  },
  {
   "cell_type": "markdown",
   "metadata": {
    "id": "9fraqm42J7xR"
   },
   "source": [
    "### Merging All The Parts of The Dataset Together"
   ]
  },
  {
   "cell_type": "code",
   "execution_count": 12,
   "metadata": {
    "colab": {
     "base_uri": "https://localhost:8080/",
     "height": 206
    },
    "id": "Bva1hnmKfNYw",
    "outputId": "be5dc987-9c29-4056-81c3-d7c578cbad44"
   },
   "outputs": [
    {
     "data": {
      "text/html": [
       "<div>\n",
       "<style scoped>\n",
       "    .dataframe tbody tr th:only-of-type {\n",
       "        vertical-align: middle;\n",
       "    }\n",
       "\n",
       "    .dataframe tbody tr th {\n",
       "        vertical-align: top;\n",
       "    }\n",
       "\n",
       "    .dataframe thead th {\n",
       "        text-align: right;\n",
       "    }\n",
       "</style>\n",
       "<table border=\"1\" class=\"dataframe\">\n",
       "  <thead>\n",
       "    <tr style=\"text-align: right;\">\n",
       "      <th></th>\n",
       "      <th>userID</th>\n",
       "      <th>productID</th>\n",
       "      <th>rating</th>\n",
       "      <th>label</th>\n",
       "      <th>date</th>\n",
       "      <th>review</th>\n",
       "    </tr>\n",
       "  </thead>\n",
       "  <tbody>\n",
       "    <tr>\n",
       "      <th>0</th>\n",
       "      <td>5045</td>\n",
       "      <td>0</td>\n",
       "      <td>1.0</td>\n",
       "      <td>-1</td>\n",
       "      <td>2014-09-08</td>\n",
       "      <td>This was the worst experience I've ever had a ...</td>\n",
       "    </tr>\n",
       "    <tr>\n",
       "      <th>1</th>\n",
       "      <td>5046</td>\n",
       "      <td>0</td>\n",
       "      <td>3.0</td>\n",
       "      <td>-1</td>\n",
       "      <td>2013-10-06</td>\n",
       "      <td>This is located on the site of the old Spruce ...</td>\n",
       "    </tr>\n",
       "    <tr>\n",
       "      <th>2</th>\n",
       "      <td>5047</td>\n",
       "      <td>0</td>\n",
       "      <td>5.0</td>\n",
       "      <td>-1</td>\n",
       "      <td>2014-11-30</td>\n",
       "      <td>I enjoyed coffee and breakfast twice at Toast ...</td>\n",
       "    </tr>\n",
       "    <tr>\n",
       "      <th>3</th>\n",
       "      <td>5048</td>\n",
       "      <td>0</td>\n",
       "      <td>5.0</td>\n",
       "      <td>-1</td>\n",
       "      <td>2014-08-28</td>\n",
       "      <td>I love Toast! The food choices are fantastic -...</td>\n",
       "    </tr>\n",
       "    <tr>\n",
       "      <th>4</th>\n",
       "      <td>5049</td>\n",
       "      <td>0</td>\n",
       "      <td>5.0</td>\n",
       "      <td>-1</td>\n",
       "      <td>2013-07-16</td>\n",
       "      <td>The egg on an English muffin (their take on eg...</td>\n",
       "    </tr>\n",
       "  </tbody>\n",
       "</table>\n",
       "</div>"
      ],
      "text/plain": [
       "   userID  productID  rating  label        date  \\\n",
       "0    5045          0     1.0     -1  2014-09-08   \n",
       "1    5046          0     3.0     -1  2013-10-06   \n",
       "2    5047          0     5.0     -1  2014-11-30   \n",
       "3    5048          0     5.0     -1  2014-08-28   \n",
       "4    5049          0     5.0     -1  2013-07-16   \n",
       "\n",
       "                                              review  \n",
       "0  This was the worst experience I've ever had a ...  \n",
       "1  This is located on the site of the old Spruce ...  \n",
       "2  I enjoyed coffee and breakfast twice at Toast ...  \n",
       "3  I love Toast! The food choices are fantastic -...  \n",
       "4  The egg on an English muffin (their take on eg...  "
      ]
     },
     "execution_count": 12,
     "metadata": {},
     "output_type": "execute_result"
    }
   ],
   "source": [
    "# left join metadata with review content=\n",
    "merged_zip = pd.merge(metadata, rev_content, on = ['userID', 'productID', 'date'], how = \"left\")\n",
    "merged_zip.head()"
   ]
  },
  {
   "cell_type": "markdown",
   "metadata": {},
   "source": [
    "Check whether there are any rows containing empty data and delete them"
   ]
  },
  {
   "cell_type": "code",
   "execution_count": 13,
   "metadata": {
    "colab": {
     "base_uri": "https://localhost:8080/"
    },
    "id": "djWF_VkllK_j",
    "outputId": "df5676b2-8fb5-47e4-81f0-d93001fe6ac1"
   },
   "outputs": [
    {
     "data": {
      "text/plain": [
       "userID         0\n",
       "productID      0\n",
       "rating         0\n",
       "label          0\n",
       "date           0\n",
       "review       140\n",
       "dtype: int64"
      ]
     },
     "execution_count": 13,
     "metadata": {},
     "output_type": "execute_result"
    }
   ],
   "source": [
    "merged_zip.isna().sum()"
   ]
  },
  {
   "cell_type": "code",
   "execution_count": 14,
   "metadata": {
    "id": "94Z9WBAplNsX"
   },
   "outputs": [],
   "source": [
    "merged_zip.dropna(inplace = True)"
   ]
  },
  {
   "cell_type": "markdown",
   "metadata": {},
   "source": [
    "### Analyzing Data"
   ]
  },
  {
   "cell_type": "markdown",
   "metadata": {
    "id": "jR0U6xGSQulZ"
   },
   "source": [
    "Analyze the star rating proportions"
   ]
  },
  {
   "cell_type": "code",
   "execution_count": 15,
   "metadata": {
    "colab": {
     "base_uri": "https://localhost:8080/"
    },
    "id": "I0wc3CUlSR-7",
    "outputId": "2c89029f-c369-4869-9c69-7bd38703e208"
   },
   "outputs": [
    {
     "data": {
      "text/plain": [
       "5.0    229364\n",
       "4.0    217400\n",
       "3.0     83117\n",
       "2.0     42982\n",
       "1.0     35594\n",
       "Name: rating, dtype: int64"
      ]
     },
     "execution_count": 15,
     "metadata": {},
     "output_type": "execute_result"
    }
   ],
   "source": [
    "star_rating_counts = merged_zip.rating.value_counts()\n",
    "star_rating_counts"
   ]
  },
  {
   "cell_type": "code",
   "execution_count": 60,
   "metadata": {
    "colab": {
     "base_uri": "https://localhost:8080/",
     "height": 871
    },
    "id": "mDv5HL_lLPkL",
    "outputId": "d38bde7d-b272-499e-a114-df62a4c825cd"
   },
   "outputs": [
    {
     "data": {
      "image/png": "[encoded data removed]",
      "text/plain": [
       "<Figure size 864x648 with 1 Axes>"
      ]
     },
     "metadata": {},
     "output_type": "display_data"
    }
   ],
   "source": [
    "# add a threshold to the series object to cutoff the genres that have less than 1% frequency\n",
    "plt.figure(figsize = FIG_SIZE)\n",
    "plt.title('Star Rating Proportions')\n",
    "colors = sns.color_palette('Blues')[::-1]\n",
    "plt.pie(star_rating_counts.values, colors = colors, startangle = 90, autopct = '%1.2f%%', shadow = True)\n",
    "plt.legend(star_rating_counts.index, loc = \"best\")\n",
    "plt.show()"
   ]
  },
  {
   "cell_type": "markdown",
   "metadata": {},
   "source": [
    "Analyze the distribution of labels:\n",
    "\n",
    "**<br>Real --> 1**\n",
    "**<br>Fake --> -1**"
   ]
  },
  {
   "cell_type": "code",
   "execution_count": 91,
   "metadata": {
    "colab": {
     "base_uri": "https://localhost:8080/"
    },
    "id": "mkcyeC1xhSLD",
    "outputId": "d05777fb-e8c8-4ea1-84cf-a417066d1e0c"
   },
   "outputs": [],
   "source": [
    "label_counts = merged_zip.label.value_counts()"
   ]
  },
  {
   "cell_type": "code",
   "execution_count": 118,
   "metadata": {},
   "outputs": [
    {
     "data": {
      "image/png": "[encoded data removed]",
      "text/plain": [
       "<Figure size 576x576 with 1 Axes>"
      ]
     },
     "metadata": {},
     "output_type": "display_data"
    }
   ],
   "source": [
    "plt.figure(figsize=(8, 8))\n",
    "sns.countplot(merged_zip['label'], palette=\"Blues\")\n",
    "plt.xticks([0, 1], ['Fake','Real'])\n",
    "plt.title('Frequencies of Labels')\n",
    "plt.show()"
   ]
  },
  {
   "cell_type": "code",
   "execution_count": 93,
   "metadata": {
    "colab": {
     "base_uri": "https://localhost:8080/"
    },
    "id": "aXURODAIiblw",
    "outputId": "96cd1ddc-dd48-4446-fbb2-2f31a519e09e"
   },
   "outputs": [
    {
     "data": {
      "text/plain": [
       "0.13219997469007672"
      ]
     },
     "execution_count": 93,
     "metadata": {},
     "output_type": "execute_result"
    }
   ],
   "source": [
    "fake_label_percentage = label_counts.loc[-1]/label_counts.sum()\n",
    "fake_label_percentage"
   ]
  },
  {
   "cell_type": "code",
   "execution_count": 94,
   "metadata": {
    "colab": {
     "base_uri": "https://localhost:8080/"
    },
    "id": "EakPcEw6k8-T",
    "outputId": "16a65c8f-cea3-4b37-833b-5974be987c5a"
   },
   "outputs": [
    {
     "data": {
      "text/plain": [
       "0.8678000253099233"
      ]
     },
     "execution_count": 94,
     "metadata": {},
     "output_type": "execute_result"
    }
   ],
   "source": [
    "real_label_percentage = label_counts.loc[1]/label_counts.sum()\n",
    "real_label_percentage"
   ]
  },
  {
   "cell_type": "markdown",
   "metadata": {},
   "source": [
    "Investigate the tokens and their statistics"
   ]
  },
  {
   "cell_type": "code",
   "execution_count": 36,
   "metadata": {},
   "outputs": [],
   "source": [
    "all_words = merged_zip.review.str.split().str.len()"
   ]
  },
  {
   "cell_type": "code",
   "execution_count": 39,
   "metadata": {},
   "outputs": [],
   "source": [
    "mean_review_length = all_words.mean()\n",
    "min_review_length = all_words.min()\n",
    "max_review_length = all_words.max()\n",
    "median_review_length = all_words.median()\n",
    "exceeding_count = len(all_words.loc[all_words.values > 512].index)\n",
    "entries_count = len(merged_zip.index)"
   ]
  },
  {
   "cell_type": "code",
   "execution_count": 42,
   "metadata": {},
   "outputs": [
    {
     "name": "stdout",
     "output_type": "stream",
     "text": [
      "Review Statistics (counting words) - \n",
      "\n",
      "Median Length: 85.00\n",
      "Mean Length: 115.32\n",
      "Max Lenght: 5333.00\n",
      "Min Length: 1.00\n",
      "Exceeding Ratio: 1.03%\n"
     ]
    }
   ],
   "source": [
    "print('Review Statistics (counting words) - \\n\\nMedian Length: {:.2f}\\nMean Length: {:.2f}\\nMax Lenght: {:.2f}\\nMin Length: {:.2f}\\nExceeding Ratio: {:.2f}%'.format(\n",
    "    median_review_length, mean_review_length, max_review_length, min_review_length, exceeding_count/entries_count * 100\n",
    "))"
   ]
  },
  {
   "cell_type": "code",
   "execution_count": 64,
   "metadata": {},
   "outputs": [
    {
     "data": {
      "image/png": "[encoded data removed]",
      "text/plain": [
       "<Figure size 864x648 with 1 Axes>"
      ]
     },
     "metadata": {},
     "output_type": "display_data"
    }
   ],
   "source": [
    "plt.figure(figsize = FIG_SIZE)\n",
    "sns.distplot(all_words)\n",
    "plt.xlabel('Review Length')\n",
    "plt.title('Distribution of Review Lengths')\n",
    "plt.show()"
   ]
  },
  {
   "cell_type": "markdown",
   "metadata": {},
   "source": [
    "The resulting distribution is right-skewed, we need to investigate the usefullness of the outliers:"
   ]
  },
  {
   "cell_type": "code",
   "execution_count": 75,
   "metadata": {},
   "outputs": [
    {
     "data": {
      "text/html": [
       "<div>\n",
       "<style scoped>\n",
       "    .dataframe tbody tr th:only-of-type {\n",
       "        vertical-align: middle;\n",
       "    }\n",
       "\n",
       "    .dataframe tbody tr th {\n",
       "        vertical-align: top;\n",
       "    }\n",
       "\n",
       "    .dataframe thead th {\n",
       "        text-align: right;\n",
       "    }\n",
       "</style>\n",
       "<table border=\"1\" class=\"dataframe\">\n",
       "  <thead>\n",
       "    <tr style=\"text-align: right;\">\n",
       "      <th></th>\n",
       "      <th>userID</th>\n",
       "      <th>productID</th>\n",
       "      <th>rating</th>\n",
       "      <th>label</th>\n",
       "      <th>date</th>\n",
       "      <th>review</th>\n",
       "    </tr>\n",
       "  </thead>\n",
       "  <tbody>\n",
       "    <tr>\n",
       "      <th>9561</th>\n",
       "      <td>14092</td>\n",
       "      <td>79</td>\n",
       "      <td>3.0</td>\n",
       "      <td>-1</td>\n",
       "      <td>2013-04-01</td>\n",
       "      <td>Sabarsky is much prettier and perhaps a bit le...</td>\n",
       "    </tr>\n",
       "    <tr>\n",
       "      <th>57709</th>\n",
       "      <td>49565</td>\n",
       "      <td>496</td>\n",
       "      <td>4.0</td>\n",
       "      <td>1</td>\n",
       "      <td>2006-05-26</td>\n",
       "      <td>One of my favorite Bistros in NYC, very Parisi...</td>\n",
       "    </tr>\n",
       "    <tr>\n",
       "      <th>133513</th>\n",
       "      <td>92780</td>\n",
       "      <td>1859</td>\n",
       "      <td>5.0</td>\n",
       "      <td>1</td>\n",
       "      <td>2014-03-05</td>\n",
       "      <td>You think I won't do it? I said as I looked up...</td>\n",
       "    </tr>\n",
       "    <tr>\n",
       "      <th>160619</th>\n",
       "      <td>105830</td>\n",
       "      <td>4223</td>\n",
       "      <td>2.0</td>\n",
       "      <td>1</td>\n",
       "      <td>2010-05-11</td>\n",
       "      <td>You gonna fight me over pizza ??? Some cheese ...</td>\n",
       "    </tr>\n",
       "    <tr>\n",
       "      <th>216676</th>\n",
       "      <td>48780</td>\n",
       "      <td>1419</td>\n",
       "      <td>4.0</td>\n",
       "      <td>1</td>\n",
       "      <td>2012-12-10</td>\n",
       "      <td>Small quaint local place. Opposite of a chain ...</td>\n",
       "    </tr>\n",
       "    <tr>\n",
       "      <th>278005</th>\n",
       "      <td>36832</td>\n",
       "      <td>4338</td>\n",
       "      <td>4.0</td>\n",
       "      <td>1</td>\n",
       "      <td>2012-08-07</td>\n",
       "      <td>From outside he never suspect that this is suc...</td>\n",
       "    </tr>\n",
       "    <tr>\n",
       "      <th>508123</th>\n",
       "      <td>60207</td>\n",
       "      <td>4196</td>\n",
       "      <td>5.0</td>\n",
       "      <td>1</td>\n",
       "      <td>2012-11-08</td>\n",
       "      <td>Love this spot! Stuck in a hotel while our hou...</td>\n",
       "    </tr>\n",
       "    <tr>\n",
       "      <th>548117</th>\n",
       "      <td>247452</td>\n",
       "      <td>3359</td>\n",
       "      <td>5.0</td>\n",
       "      <td>1</td>\n",
       "      <td>2013-07-06</td>\n",
       "      <td>Lexi is super efficient if you lack creativity...</td>\n",
       "    </tr>\n",
       "    <tr>\n",
       "      <th>571003</th>\n",
       "      <td>195189</td>\n",
       "      <td>4743</td>\n",
       "      <td>5.0</td>\n",
       "      <td>1</td>\n",
       "      <td>2012-09-06</td>\n",
       "      <td>I've been coming here for years. It's def my g...</td>\n",
       "    </tr>\n",
       "  </tbody>\n",
       "</table>\n",
       "</div>"
      ],
      "text/plain": [
       "        userID  productID  rating  label        date  \\\n",
       "9561     14092         79     3.0     -1  2013-04-01   \n",
       "57709    49565        496     4.0      1  2006-05-26   \n",
       "133513   92780       1859     5.0      1  2014-03-05   \n",
       "160619  105830       4223     2.0      1  2010-05-11   \n",
       "216676   48780       1419     4.0      1  2012-12-10   \n",
       "278005   36832       4338     4.0      1  2012-08-07   \n",
       "508123   60207       4196     5.0      1  2012-11-08   \n",
       "548117  247452       3359     5.0      1  2013-07-06   \n",
       "571003  195189       4743     5.0      1  2012-09-06   \n",
       "\n",
       "                                                   review  \n",
       "9561    Sabarsky is much prettier and perhaps a bit le...  \n",
       "57709   One of my favorite Bistros in NYC, very Parisi...  \n",
       "133513  You think I won't do it? I said as I looked up...  \n",
       "160619  You gonna fight me over pizza ??? Some cheese ...  \n",
       "216676  Small quaint local place. Opposite of a chain ...  \n",
       "278005  From outside he never suspect that this is suc...  \n",
       "508123  Love this spot! Stuck in a hotel while our hou...  \n",
       "548117  Lexi is super efficient if you lack creativity...  \n",
       "571003  I've been coming here for years. It's def my g...  "
      ]
     },
     "execution_count": 75,
     "metadata": {},
     "output_type": "execute_result"
    }
   ],
   "source": [
    "big_reviews_index = all_words.loc[all_words.values > 1000].index\n",
    "big_reviews = merged_zip.filter(items=big_reviews_index, axis=0)\n",
    "big_reviews"
   ]
  },
  {
   "cell_type": "code",
   "execution_count": 86,
   "metadata": {},
   "outputs": [
    {
     "data": {
      "text/html": [
       "<div>\n",
       "<style scoped>\n",
       "    .dataframe tbody tr th:only-of-type {\n",
       "        vertical-align: middle;\n",
       "    }\n",
       "\n",
       "    .dataframe tbody tr th {\n",
       "        vertical-align: top;\n",
       "    }\n",
       "\n",
       "    .dataframe thead th {\n",
       "        text-align: right;\n",
       "    }\n",
       "</style>\n",
       "<table border=\"1\" class=\"dataframe\">\n",
       "  <thead>\n",
       "    <tr style=\"text-align: right;\">\n",
       "      <th></th>\n",
       "      <th>userID</th>\n",
       "      <th>productID</th>\n",
       "      <th>rating</th>\n",
       "      <th>label</th>\n",
       "      <th>date</th>\n",
       "      <th>review</th>\n",
       "    </tr>\n",
       "  </thead>\n",
       "  <tbody>\n",
       "    <tr>\n",
       "      <th>525</th>\n",
       "      <td>5569</td>\n",
       "      <td>7</td>\n",
       "      <td>4.0</td>\n",
       "      <td>1</td>\n",
       "      <td>2013-02-02</td>\n",
       "      <td>-</td>\n",
       "    </tr>\n",
       "    <tr>\n",
       "      <th>788</th>\n",
       "      <td>5832</td>\n",
       "      <td>9</td>\n",
       "      <td>1.0</td>\n",
       "      <td>-1</td>\n",
       "      <td>2014-07-08</td>\n",
       "      <td>EUH!</td>\n",
       "    </tr>\n",
       "    <tr>\n",
       "      <th>826</th>\n",
       "      <td>5870</td>\n",
       "      <td>9</td>\n",
       "      <td>1.0</td>\n",
       "      <td>-1</td>\n",
       "      <td>2013-09-07</td>\n",
       "      <td>ehh</td>\n",
       "    </tr>\n",
       "    <tr>\n",
       "      <th>833</th>\n",
       "      <td>5877</td>\n",
       "      <td>9</td>\n",
       "      <td>1.0</td>\n",
       "      <td>-1</td>\n",
       "      <td>2013-08-08</td>\n",
       "      <td>Dirty</td>\n",
       "    </tr>\n",
       "    <tr>\n",
       "      <th>939</th>\n",
       "      <td>5983</td>\n",
       "      <td>9</td>\n",
       "      <td>2.0</td>\n",
       "      <td>-1</td>\n",
       "      <td>2014-09-17</td>\n",
       "      <td>Overpriced!!!!!!!!!</td>\n",
       "    </tr>\n",
       "    <tr>\n",
       "      <th>...</th>\n",
       "      <td>...</td>\n",
       "      <td>...</td>\n",
       "      <td>...</td>\n",
       "      <td>...</td>\n",
       "      <td>...</td>\n",
       "      <td>...</td>\n",
       "    </tr>\n",
       "    <tr>\n",
       "      <th>604123</th>\n",
       "      <td>67857</td>\n",
       "      <td>1955</td>\n",
       "      <td>5.0</td>\n",
       "      <td>-1</td>\n",
       "      <td>2013-01-18</td>\n",
       "      <td>superb</td>\n",
       "    </tr>\n",
       "    <tr>\n",
       "      <th>604416</th>\n",
       "      <td>264020</td>\n",
       "      <td>1955</td>\n",
       "      <td>5.0</td>\n",
       "      <td>1</td>\n",
       "      <td>2011-04-01</td>\n",
       "      <td>:)</td>\n",
       "    </tr>\n",
       "    <tr>\n",
       "      <th>605571</th>\n",
       "      <td>264378</td>\n",
       "      <td>3487</td>\n",
       "      <td>1.0</td>\n",
       "      <td>-1</td>\n",
       "      <td>2012-08-22</td>\n",
       "      <td>Closed</td>\n",
       "    </tr>\n",
       "    <tr>\n",
       "      <th>606309</th>\n",
       "      <td>264649</td>\n",
       "      <td>5025</td>\n",
       "      <td>5.0</td>\n",
       "      <td>1</td>\n",
       "      <td>2012-11-19</td>\n",
       "      <td>Awesome!</td>\n",
       "    </tr>\n",
       "    <tr>\n",
       "      <th>607412</th>\n",
       "      <td>114836</td>\n",
       "      <td>4260</td>\n",
       "      <td>5.0</td>\n",
       "      <td>1</td>\n",
       "      <td>2013-05-03</td>\n",
       "      <td>Delish</td>\n",
       "    </tr>\n",
       "  </tbody>\n",
       "</table>\n",
       "<p>948 rows × 6 columns</p>\n",
       "</div>"
      ],
      "text/plain": [
       "        userID  productID  rating  label        date               review\n",
       "525       5569          7     4.0      1  2013-02-02                    -\n",
       "788       5832          9     1.0     -1  2014-07-08                 EUH!\n",
       "826       5870          9     1.0     -1  2013-09-07                  ehh\n",
       "833       5877          9     1.0     -1  2013-08-08                Dirty\n",
       "939       5983          9     2.0     -1  2014-09-17  Overpriced!!!!!!!!!\n",
       "...        ...        ...     ...    ...         ...                  ...\n",
       "604123   67857       1955     5.0     -1  2013-01-18               superb\n",
       "604416  264020       1955     5.0      1  2011-04-01                   :)\n",
       "605571  264378       3487     1.0     -1  2012-08-22               Closed\n",
       "606309  264649       5025     5.0      1  2012-11-19             Awesome!\n",
       "607412  114836       4260     5.0      1  2013-05-03               Delish\n",
       "\n",
       "[948 rows x 6 columns]"
      ]
     },
     "execution_count": 86,
     "metadata": {},
     "output_type": "execute_result"
    }
   ],
   "source": [
    "one_words_index = all_words.loc[all_words.values == 1].index\n",
    "one_word_reviews = merged_zip.filter(items=one_words_index, axis=0)\n",
    "one_word_reviews"
   ]
  },
  {
   "cell_type": "markdown",
   "metadata": {},
   "source": [
    "We can create a vocabulary to understand what kind of words there are in the lexicon in both cases"
   ]
  },
  {
   "cell_type": "code",
   "execution_count": 87,
   "metadata": {},
   "outputs": [],
   "source": [
    "from tqdm import tqdm\n",
    "tqdm.pandas()"
   ]
  },
  {
   "cell_type": "code",
   "execution_count": 98,
   "metadata": {},
   "outputs": [],
   "source": [
    "def build_vocabulary(sentences, verbose =  True):\n",
    "    \"\"\"\n",
    "    :param sentences: list of list of words\n",
    "    :return: dictionary of words and their count\n",
    "    \"\"\"\n",
    "    vocabulary = {}\n",
    "    for sentence in tqdm(sentences, disable = (not verbose)):\n",
    "        for word in sentence:\n",
    "            try:\n",
    "                vocabulary[word] += 1\n",
    "            except KeyError:\n",
    "                vocabulary[word] = 1\n",
    "    return vocabulary"
   ]
  },
  {
   "cell_type": "code",
   "execution_count": 99,
   "metadata": {},
   "outputs": [
    {
     "name": "stderr",
     "output_type": "stream",
     "text": [
      "100%|██████████| 948/948 [00:00<00:00, 272342.48it/s]\n",
      "100%|██████████| 948/948 [00:00<00:00, 632246.81it/s]"
     ]
    },
    {
     "name": "stdout",
     "output_type": "stream",
     "text": [
      ". 32\n",
      "good 26\n",
      "Delicious! 23\n",
      "Great 17\n",
      "Awesome 16\n",
      "Excellent! 12\n",
      "Yum! 12\n",
      "Awesome! 12\n",
      "Good 11\n",
      "great 11\n",
      "amazing 11\n",
      "delicious! 11\n",
      "Ok 11\n",
      "Delicious 11\n",
      "Amazing! 10\n",
      "yum 10\n",
      ":) 9\n",
      "awesome 8\n",
      "Excellent 8\n",
      "Yummy 8\n",
      "ok 8\n",
      "Great! 7\n",
      "Excellent. 7\n",
      "Delicious. 7\n",
      "Yum. 7\n",
      "Meh. 6\n",
      "delicious 6\n",
      "amazing! 6\n",
      "Amazing 6\n",
      "YUM! 5\n",
      "Awesome!!! 5\n",
      "yummy 4\n",
      "Yummy! 4\n",
      "GREAT 4\n",
      "Amazing!!! 4\n",
      "Perfect. 4\n",
      "Amazing. 4\n",
      "Awesome. 4\n",
      "Good. 4\n",
      "meh 4\n",
      "Overrated. 4\n",
      "excellent 4\n",
      "- 3\n",
      "Perfection. 3\n",
      "perfect 3\n",
      "a 3\n",
      "fantastic 3\n",
      "yum! 3\n",
      "Excellent!! 3\n",
      "Amazing!! 3\n",
      "Great. 3\n",
      ".. 3\n",
      ";) 3\n",
      "Fantastic! 3\n",
      "yummy! 3\n",
      "Outstanding. 3\n",
      "Delicious!!! 3\n",
      "Yum 3\n",
      "A+ 3\n",
      "overrated 3\n",
      "Favorite! 3\n",
      "Ugh 2\n",
      "Bravo! 2\n",
      "Brunch! 2\n",
      "Delicious!!!! 2\n",
      "Yuck 2\n",
      "I 2\n",
      "Disappointed 2\n",
      "! 2\n",
      "Phenomenal. 2\n",
      ":( 2\n",
      "YES 2\n",
      "perfection 2\n",
      "Yum!! 2\n",
      "love 2\n",
      "GREAT! 2\n",
      "Duh. 2\n",
      "Lovely! 2\n",
      "LOVE 2\n",
      "Cool 2\n",
      "Mmmm 2\n",
      "Sucks 2\n",
      "nice 2\n",
      "overrated! 2\n",
      "h 2\n",
      "Food 2\n",
      "A 2\n",
      "solid. 2\n",
      "yum. 2\n",
      "Love! 2\n",
      "Awesomeness 2\n",
      "N 2\n",
      "Yummy!! 2\n",
      "Nice! 2\n",
      "Fantastic!!! 2\n",
      "awesome! 2\n",
      "Classic. 2\n",
      "Awesome!! 2\n",
      "Good! 2\n",
      "amazing. 2\n",
      "Underwhelming 2\n",
      "Closed 2\n",
      "crack. 2\n",
      "Classic 2\n",
      "Good!! 2\n",
      "Yummy. 2\n",
      "Yay 2\n",
      "Best. 2\n",
      "Disappointing 2\n",
      "Excellent!!! 2\n",
      "YUMMY 2\n",
      "Yuck. 2\n",
      "Incredible! 2\n",
      "... 2\n",
      "delish 2\n",
      "Love. 2\n",
      "Flawless. 2\n",
      "yumm 2\n",
      "excellent! 2\n",
      ".... 2\n",
      "eh. 2\n",
      "EUH! 1\n",
      "ehh 1\n",
      "Dirty 1\n",
      "Overpriced!!!!!!!!! 1\n",
      "greasy. 1\n",
      "a-OK 1\n",
      "avoid 1\n",
      "Pats 1\n",
      "............racists... 1\n",
      "steakumm.com/steaks.htm 1\n",
      "YUCK! 1\n",
      "第一次来费城，看到评价很高就来了，结果。。。。发自内心的说一句，特别特别不适合中国人的口味，千万别来­吃啊！！！！面包硬的挑战你的口腔，各种奇怪的意式酱真的。。。总之，同行的朋友都没怎么吃！不过估计外国­人特别享受吧，他们应该很喜欢！ 1\n",
      "Fancy 1\n",
      "planetprinceton.com/2014… 1\n",
      "Great!!!!!!!! 1\n",
      "nom 1\n",
      "Romantic! 1\n",
      "ugh 1\n",
      "Ex 1\n",
      "Best 1\n",
      "Aaaaaaaaaaaaaaaasaaaaaaaaaammmmmmmmmmmmmaaaaaaaaaa­aaaazzzzzzzziiiiiiiiinnnnnnnnngggggggggggggg!!!!!!­! 1\n",
      "Test 1\n",
      "Re-Opened! 1\n",
      "Mmm. 1\n",
      "Perfection 1\n",
      "delicious. 1\n",
      "Blech 1\n",
      "Salty. 1\n",
      "Nasty. 1\n",
      "Blah 1\n",
      "fabulous! 1\n",
      "Fun!! 1\n",
      "Perfect 1\n",
      "youtube.com/watch?v=xOdn… 1\n",
      "Adore. 1\n",
      "meh... 1\n",
      "X 1\n",
      "osewaninattemasu 1\n",
      "heaven!!!!! 1\n",
      "Solid. 1\n",
      "Go. 1\n",
      "Pantastic! 1\n",
      ".yes 1\n",
      "Delish! 1\n",
      "Mmmmmmmmmmmmmmm. 1\n",
      "I'm 1\n",
      "Amazing!!!!!!!! 1\n",
      "horrible! 1\n",
      "Yakitori...Tori...Tori... 1\n",
      "YUM 1\n",
      "overpriced.... 1\n",
      "fantastic! 1\n",
      "BREAD!!!!!!!!!!!!!!!!!!!!!! 1\n",
      "Heavanly 1\n",
      "Simply...yum. 1\n",
      "biscuits 1\n",
      "heavenly. 1\n",
      "Divine. 1\n",
      "Legit 1\n",
      "yummy!!!! 1\n",
      "Ole 1\n",
      "NOPE 1\n",
      "lifeless. 1\n",
      "J 1\n",
      "Awesome!!!!!!!!!!!!!!!Awesome!!!!!!!!!!!!!!!­Awesome!!!!!!!!!!!!!!!Awesome!!!!!!!!!!!!!!!­Awesome!!!!!!!!!!!!!!!Awesome!!!!!!!!!!!!!!!­Awesome!!!!!!!!!!!!!!!Awesome!!!!!!!!!!!!!!!­Awesome!!!!!!!!!!!!!!!Awesome!!!!!!!!!!!!!!!­Awesome!!!!!!!!!!!!!!!Awesome!!!!!!!!!!!!!!!­Awesome!!!!!!!!!!!!!!!Awesome!!!!!!!!!!!!!!!­Awesome!!!!!!!!!!!!!!!Awesome!!!!!!!!!!!!!!!­Awesome!!!!!!!!!!!!!!!Awesome!!!!!!!!!!!!!!!­Awesome!!!!!!!!!!!!!!!Awesome!!!!!!!!!!!!!!!­Awesome!!!!!!!!!!!!!!!Awesome!!!!!!!!!!!!!!!­Awesome!!!!!!!!!!!!!!!Awesome!!!!!!!!!!!!!!!­Awesome!!!!!!!!!!!!!!!Awesome!!!!!!!!!!!!!!!­Awesome!!!!!!!!!!!!!!!Awesome!!!!!!!!!!!!!!!­Awesome!!!!!!!!!!!!!!!Awesome!!!!!!!!!!!!!!!­Awesome!!!!!!!!!!!!!!!Awesome!!!!!!!!!!!!!!!­Awesome!!!!!!!!!!!!!!!Awesome!!!!!!!!!!!!!!!­Awesome!!!!!!!!!!!!!!!Awesome!!!!!!!!!!!!!!!­Awesome!!!!!!!!!!!!!!!Awesome!!!!!!!!!!!!!!!­Awesome!!!!!!!!!!!!!!!Awesome!!!!!!!!!!!!!!!­Awesome!!!!!!!!!!!!!!!Awesome!!!!!!!!!!!!!!!­Awesome!!!!!!!!!!!!!!!Awesome!!!!!!!!!!!!!!!­Awesome!!!!!!!!!!!!!!!Awesome!!!!!!!!!!!!!!!­Awesome!!!!!!!!!!!!!!!Awesome!!!!!!!!!!!!!!!­Awesome!!!!!!!!!!!!!!!Awesome!!!!!!!!!!!!!!!­Awesome!!!!!!!!!!!!!!!Awesome!!!!!!!!!!!!!!!­Awesome!!!!!!!!!!!!!!!Awesome!!!!!!!!!!!!!!!­Awesome!!!!!!!!!!!!!!!Awesome!!!!!!!!!!!!!!!­Awesome!!!!!!!!!!!!!!!Awesome!!!!!!!!!!!!!!!­Awesome!!!!!!!!!!!!!!!Awesome!!!!!!!!!!!!!!!­Awesome!!!!!!!!!!!!!!!Awesome!!!!!!!!!!!!!!!­Awesome!!!!!!!!!!!!!!!Awesome!!!!!!!!!!!!!!!­Awesome!!!!!!!!!!!!!!!Awesome!!!!!!!!!!!!!!!­Awesome!!!!!!!!!!!!!!!Awesome!!!!!!!!!!!!!!!­Awesome!!!!!!!!!!!!!!!Awesome!!!!!!!!!!!!!!!­Awesome!!!!!!!!!!!!!!!Awesome!!!!!!!!!!!!!!! 1\n",
      "my 1\n",
      "Horrible! 1\n",
      "Standard 1\n",
      "Insane!!! 1\n",
      "magnificent!!! 1\n",
      "dickheads. 1\n",
      "salty. 1\n",
      "Soso 1\n",
      "couscous! 1\n",
      "Great, 1\n",
      "Tartufata!!!! 1\n",
      "yummy!!1 1\n",
      "cold. 1\n",
      "Tremendous. 1\n",
      "Delisshhhhhh! 1\n",
      "Bruh... 1\n",
      "nevermind. 1\n",
      "Typical. 1\n",
      "Garbage!!!!!! 1\n",
      "Dope. 1\n",
      "tasty 1\n",
      "Deals 1\n",
      "Cheesyyyypoooffs! 1\n",
      "hipstercheesepuffscokieswilliamsburghipsterbikesco­nnectfourjengabeerkozymetaldrinkdealsfratboyhipste­rcheesepuffcokefixies 1\n",
      "Pierogis!!!! 1\n",
      "Sublime 1\n",
      "Delious! 1\n",
      "................ 1\n",
      "??? 1\n",
      "Delicious!!!!!!!! 1\n",
      "Recommend. 1\n",
      "love!!! 1\n",
      "decent 1\n",
      ":P 1\n",
      "expensive 1\n",
      "fun 1\n",
      "Yahhhhzzzz 1\n",
      "mmmmmmmmmmmmmm. 1\n",
      "eh... 1\n",
      "Yes! 1\n",
      "average 1\n",
      "Fantastical! 1\n",
      "Mmmmmmmmmmmmmmmmmmmmmm 1\n",
      "Frankies!!!!! 1\n",
      "A-OK. 1\n",
      "Great..... 1\n",
      "f 1\n",
      "superb!! 1\n",
      "Overhyped 1\n",
      "Wow. 1\n",
      "BYOB 1\n",
      "Solid 1\n",
      "Kambi 1\n",
      "ippudo 1\n",
      "Aazing! 1\n",
      "nice! 1\n",
      "Fresh! 1\n",
      "duh. 1\n",
      "divine! 1\n",
      "Bomb 1\n",
      "Corn. 1\n",
      "awesome!!!! 1\n",
      "Burger! 1\n",
      "Closed! 1\n",
      "nbcphiladelphia.com/show… 1\n",
      "刚从纽约旅行来到费城，一路上肚子饿得两眼冒星。查yelp就看到这个东北大烤串，就想起了大连的烧烤。­yelp上面的地址是错误的，其实就是反方向，还好电话没变,打电话就问到了具体地址。老板和老板娘人超赞­的，老板娘跟我一样是东北人，看着就呆人亲啊，烤串也不错，果然不辜负我期望啊。下次来费城我一定会再来吃­！ 1\n",
      "heaaaaaaven! 1\n",
      "addicted 1\n",
      "a-m-a-z-i-n-g 1\n",
      "yayyayyayayyayayyayyayyay 1\n",
      "racist. 1\n",
      "Dee-LI-Cious!!!!! 1\n",
      "nice!!!!!!!!!!!!!!!!!!!!!!!!! 1\n",
      "incredible! 1\n",
      "Addicted!!!! 1\n",
      "shhhhhhhhhhhhhhh 1\n",
      "overrated... 1\n",
      "Phenomenal! 1\n",
      "super!!! 1\n",
      "best.falafel.ever. 1\n",
      "Shawarma!!! 1\n",
      "Mmmmmmmmmmmmmmmmmmmmmmmm. 1\n",
      "WOW 1\n",
      "Cooool 1\n",
      "Fabulosa! 1\n",
      "!!!! 1\n",
      "adsfasdfsdfdsfsd 1\n",
      "recommendation! 1\n",
      "Pizza!!! 1\n",
      "Mediocre. 1\n",
      "yummmmmm 1\n",
      "Delicioso!!!!!! 1\n",
      "Tasty. 1\n",
      "Citgo 1\n",
      "...incredible. 1\n",
      "Gg 1\n",
      "soulful 1\n",
      "GREat!! 1\n",
      "Sabich. 1\n",
      "Wheat+Falafel+Everything+Spicy=Delicious! 1\n",
      "Outstanding 1\n",
      "LOVE. 1\n",
      "Disappointed.. 1\n",
      "Classic! 1\n",
      "Saucy 1\n",
      "Epic! 1\n",
      "High 1\n",
      "best...pizza...ever 1\n",
      "Love 1\n",
      "......Hello 1\n",
      "A-Ok 1\n",
      "Fantastic. 1\n",
      "gangster. 1\n",
      "yep. 1\n",
      "Fun 1\n",
      "Awesome.. 1\n",
      "Woohoo 1\n",
      "Fantastic 1\n",
      "beesting! 1\n",
      "yummy. 1\n",
      "newhaveneatsit.blogspot.… 1\n",
      "Good!!! 1\n",
      "Cliche 1\n",
      "b 1\n",
      "*** 1\n",
      "Puuuurfect! 1\n",
      "Lunch 1\n",
      "standard. 1\n",
      "obsessed! 1\n",
      "Adorable! 1\n",
      "Amazing!!!! 1\n",
      "Hello 1\n",
      "okay 1\n",
      "Nummy. 1\n",
      "fresh...delicious...word. 1\n",
      "first-rate 1\n",
      "excellent. 1\n",
      "amazing!!! 1\n",
      "yes 1\n",
      "incredible. 1\n",
      "dfgfd 1\n",
      "Bliss. 1\n",
      "thanks 1\n",
      "disapointing. 1\n",
      "Speechless 1\n",
      "heaven! 1\n",
      "taste 1\n",
      "ummm......azingg!!! 1\n",
      "shopkickbarcodess.com/sh… 1\n",
      "5 1\n",
      "yessss 1\n",
      "Mmmmmmmmm. 1\n",
      "best! 1\n",
      "generic 1\n",
      "mmmmmmm 1\n",
      "WOW! 1\n",
      "perfection. 1\n",
      "blah 1\n",
      "Sushi! 1\n",
      "yes!!!!!!!!!!! 1\n",
      "Correction 1\n",
      "Fair. 1\n",
      "#fuckingsolid 1\n",
      "LEGIT! 1\n",
      "Tiny! 1\n",
      "Yummmm 1\n",
      "Deelicious. 1\n",
      "yummy!!!!!!!!!!!!!!!!!! 1\n",
      "DIN. 1\n",
      "Wow! 1\n",
      "best.meal.ever. 1\n",
      "Eh. 1\n",
      "eh 1\n",
      "Yikes 1\n",
      "college 1\n",
      "Excellent!!!! 1\n",
      "socialtimes.com/top-yout… 1\n",
      "Heaven! 1\n",
      "ssssssssss 1\n",
      "S'gucci. 1\n",
      "Nice 1\n",
      "the.best.diner.ever. 1\n",
      "teasey 1\n",
      "店内は手前がBARスペースとなっており、席が空くまでお酒が飲めます。メニューは日本食全般揃っており、­もちろんラーメンもあります。夜の店内の雰囲気は音楽がガンガン流れており、ラーメン屋というよりパブかク­ラブです。肝心のラーメンの味は日本とほぼ同じで美味しいです。 1\n",
      "amazingggggg 1\n",
      "oishii 1\n",
      "great! 1\n",
      "Yummmmmmmmm 1\n",
      "wonderful! 1\n",
      "Ramen! 1\n",
      "Ramen 1\n",
      "good. 1\n",
      "Dirty! 1\n",
      "Yes 1\n",
      "addicted. 1\n",
      "list 1\n",
      "Overrated 1\n",
      "dig! 1\n",
      "love.love.love.love.love.love.love.love.love 1\n",
      "=) 1\n",
      "youtube.com/watch?v=aeF9… 1\n",
      "mmmmmaaaaaaaaaaannnnnnnnnnnggggggggggooooooo!!!!! 1\n",
      "Nirvana. 1\n",
      "Blech! 1\n",
      "lovely 1\n",
      "classic 1\n",
      "deeeeeeelicious! 1\n",
      "best 1\n",
      "no 1\n",
      "crap 1\n",
      "tasty. 1\n",
      "noita 1\n",
      "nope 1\n",
      "ew 1\n",
      "Tourists. 1\n",
      "loveeeee 1\n",
      "Chips 1\n",
      "brunch!! 1\n",
      "sucks 1\n",
      "Yumm! 1\n",
      "bffft 1\n",
      "outstanding 1\n",
      "Rippers!!!! 1\n",
      "Fabulous!! 1\n",
      "boringmac.com/2011/11/he… 1\n",
      "Wonderful 1\n",
      "Nom 1\n",
      "qoomui.wordpress.com/201… 1\n",
      "Great!! 1\n",
      "我反正吃到了我以前电视里或者梦想中的brunch！强烈推荐来这里！不过生意太好了！！推荐他家的店名同­款的brunch和一个可颂，里面是芝士加牛肉的也特别好吃！棒！最好早点去，我发现周围的人都特别勤快，­店面很小得仔细找找，水和纸巾都是自己拿。 1\n",
      "youtube.com/watch?v=KNZH… 1\n",
      "A-OK 1\n",
      "overrated.crowded. 1\n",
      "Obsessed. 1\n",
      "excellent!! 1\n",
      "Yes. 1\n",
      "Zeppnollis 1\n",
      "DANK. 1\n",
      "Lovely. 1\n",
      "Bland. 1\n",
      "Awesome!!!! 1\n",
      "Awesome!!!!!!!!!!!! 1\n",
      "Meat! 1\n",
      "Wow!!! 1\n",
      "homophobic 1\n",
      "great!!! 1\n",
      "awesome!!! 1\n",
      "swoon 1\n",
      "Yummmmn 1\n",
      "Delicious... 1\n",
      "Meh 1\n",
      "Wajima 1\n",
      "Decent. 1\n",
      "Flawless 1\n",
      "Yeah 1\n",
      "Scrumptious. 1\n",
      "convenient 1\n",
      "Eh 1\n",
      "YUMM 1\n",
      "Yumminess! 1\n",
      "Bad. 1\n",
      "Awesomeeeeeeee! 1\n",
      "Amazing!!!!!! 1\n",
      "Yawp. 1\n",
      "shit 1\n",
      "stinks 1\n",
      "Horrible 1\n",
      "disgusting 1\n",
      "overrated!!! 1\n",
      ".................. 1\n",
      "? 1\n",
      "いつも長蛇の列が出来てますが、それ程待たされません。順番がきたらチキンオーバーライスと告げ$6払うと­一瞬で料理が出て来ます。ソースは自分でかけます。ホワイトソースが凄く美味しいです(チリソースはかなり­辛いので注意)。羊肉が大丈夫な人はMixもオススメ。サフランライスの上にレタスと肉が乗っておりその上­にパンのようなものが乗っています。量は特盛クラス、日本からの女性なら2人で一つでも良いかもしれません­。 1\n",
      "Yum!!!! 1\n",
      "awesom 1\n",
      "Yum.Yum. 1\n",
      "Fan! 1\n",
      "beautiful 1\n",
      "inFUCKINcredible 1\n",
      "mint 1\n",
      "Yummers! 1\n",
      "delux 1\n",
      "Fab! 1\n",
      "mmmmmm 1\n",
      "amazing!!!! 1\n",
      "Unbelievable. 1\n",
      "amazinggggggg 1\n",
      "Yay! 1\n",
      "Perfect! 1\n",
      "Yup. 1\n",
      "meat. 1\n",
      "Ok. 1\n",
      "mmmm 1\n",
      "Fantabulous 1\n",
      "eeeeeeeeeeeeeeepppppiiiiiiiiiiiiiiiiiicccccccccccc­ccccccccccccccccccccccccccccccccccccccccccccccccc 1\n",
      "Yeah. 1\n",
      "noooooooooooo 1\n",
      "yummmmmy 1\n",
      "Dellliiiissshhhh 1\n",
      "Overhyped. 1\n",
      "Crave. 1\n",
      "Wow!!!! 1\n",
      "レビューを書き始める... 1\n",
      "woo 1\n",
      "thanks! 1\n",
      "superb! 1\n",
      "MLC. 1\n",
      "Average 1\n",
      "deeelicious. 1\n",
      "best.sammys.ever 1\n",
      "LEGIT 1\n",
      "go!! 1\n",
      "Yep 1\n",
      "YUM. 1\n",
      "divamomsnyc.wordpress.co… 1\n",
      "Incredible 1\n",
      "Fabulous! 1\n",
      "Heaven!!! 1\n",
      "GEM. 1\n",
      "quality 1\n",
      "Best.Best.Best.Best.Best.Best.Best.Best.Best.Best.­Best.Best.Best.Best.Best.Best.Best.Best.Best.Best.­Best.Best.Best.Best.Best.Best.Best.Best.Best.Best.­Best.Best.Best.Best.Best.Best.Best.Best.Best.Best.­Best.Best.Best.Best.Best.Best.Best.Best.Best.Best.­Best.Best.Best.Best.Best.Best.Best.Best.Best. 1\n",
      "o-v-e-r-r-a-t-e-d 1\n",
      "superb 1\n",
      "Delish 1\n"
     ]
    },
    {
     "name": "stderr",
     "output_type": "stream",
     "text": [
      "\n"
     ]
    }
   ],
   "source": [
    "sentences = one_word_reviews[\"review\"].progress_apply(lambda x: x.split()).values\n",
    "vocabulary = build_vocabulary(sentences)\n",
    "\n",
    "for word in (sorted(vocabulary, key=vocabulary.get, reverse=True)):\n",
    "    print(word, vocabulary[word])"
   ]
  },
  {
   "cell_type": "markdown",
   "metadata": {},
   "source": [
    "Look what is the label distribution for one word reviews"
   ]
  },
  {
   "cell_type": "code",
   "execution_count": 101,
   "metadata": {},
   "outputs": [
    {
     "data": {
      "text/plain": [
       " 1    661\n",
       "-1    287\n",
       "Name: label, dtype: int64"
      ]
     },
     "execution_count": 101,
     "metadata": {},
     "output_type": "execute_result"
    }
   ],
   "source": [
    "label_counts = one_word_reviews.label.value_counts()\n",
    "label_counts"
   ]
  },
  {
   "cell_type": "markdown",
   "metadata": {},
   "source": [
    "Drop the extremes"
   ]
  },
  {
   "cell_type": "code",
   "execution_count": 102,
   "metadata": {},
   "outputs": [],
   "source": [
    "merged_zip = merged_zip.drop(index=one_words_index)\n",
    "merged_zip = merged_zip.drop(index=big_reviews_index)"
   ]
  },
  {
   "cell_type": "code",
   "execution_count": 104,
   "metadata": {},
   "outputs": [],
   "source": [
    "all_words_new = merged_zip.review.str.split().str.len()"
   ]
  },
  {
   "cell_type": "code",
   "execution_count": 106,
   "metadata": {},
   "outputs": [
    {
     "data": {
      "image/png": "[encoded data removed]",
      "text/plain": [
       "<Figure size 864x648 with 1 Axes>"
      ]
     },
     "metadata": {},
     "output_type": "display_data"
    }
   ],
   "source": [
    "plt.figure(figsize = FIG_SIZE)\n",
    "sns.distplot(all_words_new)\n",
    "plt.xlabel('Review Length')\n",
    "plt.title('Distribution of Review Lengths')\n",
    "plt.show()"
   ]
  },
  {
   "cell_type": "code",
   "execution_count": 112,
   "metadata": {},
   "outputs": [],
   "source": [
    "mean_review_length = all_words_new.mean()\n",
    "min_review_length = all_words_new.min()\n",
    "max_review_length = all_words_new.max()\n",
    "median_review_length = all_words_new.median()\n",
    "exceeding_count = len(all_words_new.loc[all_words_new.values > 512].index)\n",
    "entries_count = len(all_words_new.index)"
   ]
  },
  {
   "cell_type": "code",
   "execution_count": 113,
   "metadata": {},
   "outputs": [
    {
     "name": "stdout",
     "output_type": "stream",
     "text": [
      "Review Statistics (counting words) - \n",
      "\n",
      "Median Length: 85.00\n",
      "Mean Length: 115.48\n",
      "Max Lenght: 983.00\n",
      "Min Length: 2.00\n",
      "Exceeding Ratio: 1.03%\n"
     ]
    }
   ],
   "source": [
    "print('Review Statistics (counting words) - \\n\\nMedian Length: {:.2f}\\nMean Length: {:.2f}\\nMax Lenght: {:.2f}\\nMin Length: {:.2f}\\nExceeding Ratio: {:.2f}%'.format(\n",
    "    median_review_length, mean_review_length, max_review_length, min_review_length, exceeding_count/entries_count * 100\n",
    "))"
   ]
  },
  {
   "cell_type": "markdown",
   "metadata": {
    "id": "cov26pexSV_d"
   },
   "source": [
    "Encode star ratings into sentiment labels"
   ]
  },
  {
   "cell_type": "code",
   "execution_count": 107,
   "metadata": {
    "colab": {
     "base_uri": "https://localhost:8080/",
     "height": 206
    },
    "id": "vd6Ni7aoSawi",
    "outputId": "95ca4f16-c1a6-4fb7-933c-638ee905bcf4"
   },
   "outputs": [
    {
     "data": {
      "text/html": [
       "<div>\n",
       "<style scoped>\n",
       "    .dataframe tbody tr th:only-of-type {\n",
       "        vertical-align: middle;\n",
       "    }\n",
       "\n",
       "    .dataframe tbody tr th {\n",
       "        vertical-align: top;\n",
       "    }\n",
       "\n",
       "    .dataframe thead th {\n",
       "        text-align: right;\n",
       "    }\n",
       "</style>\n",
       "<table border=\"1\" class=\"dataframe\">\n",
       "  <thead>\n",
       "    <tr style=\"text-align: right;\">\n",
       "      <th></th>\n",
       "      <th>userID</th>\n",
       "      <th>productID</th>\n",
       "      <th>rating</th>\n",
       "      <th>label</th>\n",
       "      <th>date</th>\n",
       "      <th>review</th>\n",
       "      <th>sentiment label</th>\n",
       "    </tr>\n",
       "  </thead>\n",
       "  <tbody>\n",
       "    <tr>\n",
       "      <th>0</th>\n",
       "      <td>5045</td>\n",
       "      <td>0</td>\n",
       "      <td>1.0</td>\n",
       "      <td>-1</td>\n",
       "      <td>2014-09-08</td>\n",
       "      <td>This was the worst experience I've ever had a ...</td>\n",
       "      <td>0</td>\n",
       "    </tr>\n",
       "    <tr>\n",
       "      <th>1</th>\n",
       "      <td>5046</td>\n",
       "      <td>0</td>\n",
       "      <td>3.0</td>\n",
       "      <td>-1</td>\n",
       "      <td>2013-10-06</td>\n",
       "      <td>This is located on the site of the old Spruce ...</td>\n",
       "      <td>0</td>\n",
       "    </tr>\n",
       "    <tr>\n",
       "      <th>2</th>\n",
       "      <td>5047</td>\n",
       "      <td>0</td>\n",
       "      <td>5.0</td>\n",
       "      <td>-1</td>\n",
       "      <td>2014-11-30</td>\n",
       "      <td>I enjoyed coffee and breakfast twice at Toast ...</td>\n",
       "      <td>1</td>\n",
       "    </tr>\n",
       "    <tr>\n",
       "      <th>3</th>\n",
       "      <td>5048</td>\n",
       "      <td>0</td>\n",
       "      <td>5.0</td>\n",
       "      <td>-1</td>\n",
       "      <td>2014-08-28</td>\n",
       "      <td>I love Toast! The food choices are fantastic -...</td>\n",
       "      <td>1</td>\n",
       "    </tr>\n",
       "    <tr>\n",
       "      <th>4</th>\n",
       "      <td>5049</td>\n",
       "      <td>0</td>\n",
       "      <td>5.0</td>\n",
       "      <td>-1</td>\n",
       "      <td>2013-07-16</td>\n",
       "      <td>The egg on an English muffin (their take on eg...</td>\n",
       "      <td>1</td>\n",
       "    </tr>\n",
       "  </tbody>\n",
       "</table>\n",
       "</div>"
      ],
      "text/plain": [
       "   userID  productID  rating  label        date  \\\n",
       "0    5045          0     1.0     -1  2014-09-08   \n",
       "1    5046          0     3.0     -1  2013-10-06   \n",
       "2    5047          0     5.0     -1  2014-11-30   \n",
       "3    5048          0     5.0     -1  2014-08-28   \n",
       "4    5049          0     5.0     -1  2013-07-16   \n",
       "\n",
       "                                              review  sentiment label  \n",
       "0  This was the worst experience I've ever had a ...                0  \n",
       "1  This is located on the site of the old Spruce ...                0  \n",
       "2  I enjoyed coffee and breakfast twice at Toast ...                1  \n",
       "3  I love Toast! The food choices are fantastic -...                1  \n",
       "4  The egg on an English muffin (their take on eg...                1  "
      ]
     },
     "execution_count": 107,
     "metadata": {},
     "output_type": "execute_result"
    }
   ],
   "source": [
    "merged_zip['sentiment label'] = merged_zip['rating'].apply(lambda x: 0 if x <= 3 else 1)\n",
    "merged_zip.head()"
   ]
  },
  {
   "cell_type": "code",
   "execution_count": 120,
   "metadata": {},
   "outputs": [
    {
     "data": {
      "image/png": "[encoded data removed]",
      "text/plain": [
       "<Figure size 576x576 with 1 Axes>"
      ]
     },
     "metadata": {},
     "output_type": "display_data"
    }
   ],
   "source": [
    "plt.figure(figsize=(8, 8))\n",
    "sns.countplot(merged_zip['sentiment label'], palette=\"Blues\")\n",
    "plt.xticks([0, 1], ['Negative','Positive'])\n",
    "plt.title('Frequencies of Sentiment Labels')\n",
    "plt.show()"
   ]
  },
  {
   "cell_type": "markdown",
   "metadata": {
    "id": "EF4UEoMsSxJ5"
   },
   "source": [
    "Before sampling the data leave out one of the restaurants for the final application testing"
   ]
  },
  {
   "cell_type": "code",
   "execution_count": 108,
   "metadata": {
    "colab": {
     "base_uri": "https://localhost:8080/",
     "height": 206
    },
    "id": "DKsxEEa8tN-n",
    "outputId": "0582021a-9c2c-40f1-dc3f-d13d7c43c2d7"
   },
   "outputs": [
    {
     "data": {
      "text/html": [
       "<div>\n",
       "<style scoped>\n",
       "    .dataframe tbody tr th:only-of-type {\n",
       "        vertical-align: middle;\n",
       "    }\n",
       "\n",
       "    .dataframe tbody tr th {\n",
       "        vertical-align: top;\n",
       "    }\n",
       "\n",
       "    .dataframe thead th {\n",
       "        text-align: right;\n",
       "    }\n",
       "</style>\n",
       "<table border=\"1\" class=\"dataframe\">\n",
       "  <thead>\n",
       "    <tr style=\"text-align: right;\">\n",
       "      <th></th>\n",
       "      <th>userID</th>\n",
       "      <th>productID</th>\n",
       "      <th>rating</th>\n",
       "      <th>label</th>\n",
       "      <th>date</th>\n",
       "      <th>review</th>\n",
       "      <th>sentiment label</th>\n",
       "    </tr>\n",
       "  </thead>\n",
       "  <tbody>\n",
       "    <tr>\n",
       "      <th>203345</th>\n",
       "      <td>125274</td>\n",
       "      <td>1814</td>\n",
       "      <td>1.0</td>\n",
       "      <td>-1</td>\n",
       "      <td>2014-12-01</td>\n",
       "      <td>Just left the spotted pig, where they should a...</td>\n",
       "      <td>0</td>\n",
       "    </tr>\n",
       "    <tr>\n",
       "      <th>203346</th>\n",
       "      <td>125275</td>\n",
       "      <td>1814</td>\n",
       "      <td>1.0</td>\n",
       "      <td>-1</td>\n",
       "      <td>2014-11-21</td>\n",
       "      <td>The food is good, the atmosphere convivial, an...</td>\n",
       "      <td>0</td>\n",
       "    </tr>\n",
       "    <tr>\n",
       "      <th>203347</th>\n",
       "      <td>125276</td>\n",
       "      <td>1814</td>\n",
       "      <td>1.0</td>\n",
       "      <td>-1</td>\n",
       "      <td>2014-11-11</td>\n",
       "      <td>First impression counts, the host, obviously t...</td>\n",
       "      <td>0</td>\n",
       "    </tr>\n",
       "    <tr>\n",
       "      <th>203348</th>\n",
       "      <td>125277</td>\n",
       "      <td>1814</td>\n",
       "      <td>1.0</td>\n",
       "      <td>-1</td>\n",
       "      <td>2014-11-07</td>\n",
       "      <td>express auto at 2 prospect st metuchen with mi...</td>\n",
       "      <td>0</td>\n",
       "    </tr>\n",
       "    <tr>\n",
       "      <th>203349</th>\n",
       "      <td>125278</td>\n",
       "      <td>1814</td>\n",
       "      <td>1.0</td>\n",
       "      <td>-1</td>\n",
       "      <td>2014-10-23</td>\n",
       "      <td>Resorts World in Queens is DEFINITELY STINGY w...</td>\n",
       "      <td>0</td>\n",
       "    </tr>\n",
       "  </tbody>\n",
       "</table>\n",
       "</div>"
      ],
      "text/plain": [
       "        userID  productID  rating  label        date  \\\n",
       "203345  125274       1814     1.0     -1  2014-12-01   \n",
       "203346  125275       1814     1.0     -1  2014-11-21   \n",
       "203347  125276       1814     1.0     -1  2014-11-11   \n",
       "203348  125277       1814     1.0     -1  2014-11-07   \n",
       "203349  125278       1814     1.0     -1  2014-10-23   \n",
       "\n",
       "                                                   review  sentiment label  \n",
       "203345  Just left the spotted pig, where they should a...                0  \n",
       "203346  The food is good, the atmosphere convivial, an...                0  \n",
       "203347  First impression counts, the host, obviously t...                0  \n",
       "203348  express auto at 2 prospect st metuchen with mi...                0  \n",
       "203349  Resorts World in Queens is DEFINITELY STINGY w...                0  "
      ]
     },
     "execution_count": 108,
     "metadata": {},
     "output_type": "execute_result"
    }
   ],
   "source": [
    "production_set = merged_zip.loc[merged_zip['productID'] == 1814]\n",
    "production_set.head()"
   ]
  },
  {
   "cell_type": "code",
   "execution_count": 109,
   "metadata": {
    "id": "w6k_X25Cd8SB"
   },
   "outputs": [],
   "source": [
    "production_set.to_csv(Path.joinpath(PATH_TO_DATASETS, 'production_set.csv'), encoding = 'utf-8', index = False)"
   ]
  },
  {
   "cell_type": "markdown",
   "metadata": {},
   "source": [
    "Get the data without the production set so we do not accidentaly train on it"
   ]
  },
  {
   "cell_type": "code",
   "execution_count": null,
   "metadata": {
    "colab": {
     "base_uri": "https://localhost:8080/",
     "height": 206
    },
    "id": "NMYvSCtWtpyh",
    "outputId": "c10cecaa-20fc-488f-b1f6-88a416db71ae"
   },
   "outputs": [
    {
     "data": {
      "text/html": [
       "\n",
       "  <div id=\"df-9ac45341-dc59-40de-a4b3-96bae18f33e8\">\n",
       "    <div class=\"colab-df-container\">\n",
       "      <div>\n",
       "<style scoped>\n",
       "    .dataframe tbody tr th:only-of-type {\n",
       "        vertical-align: middle;\n",
       "    }\n",
       "\n",
       "    .dataframe tbody tr th {\n",
       "        vertical-align: top;\n",
       "    }\n",
       "\n",
       "    .dataframe thead th {\n",
       "        text-align: right;\n",
       "    }\n",
       "</style>\n",
       "<table border=\"1\" class=\"dataframe\">\n",
       "  <thead>\n",
       "    <tr style=\"text-align: right;\">\n",
       "      <th></th>\n",
       "      <th>userID</th>\n",
       "      <th>productID</th>\n",
       "      <th>rating</th>\n",
       "      <th>label</th>\n",
       "      <th>date</th>\n",
       "      <th>review</th>\n",
       "      <th>sentiment label</th>\n",
       "    </tr>\n",
       "  </thead>\n",
       "  <tbody>\n",
       "    <tr>\n",
       "      <th>0</th>\n",
       "      <td>5045</td>\n",
       "      <td>0</td>\n",
       "      <td>1.0</td>\n",
       "      <td>-1</td>\n",
       "      <td>2014-09-08</td>\n",
       "      <td>This was the worst experience I've ever had a ...</td>\n",
       "      <td>0</td>\n",
       "    </tr>\n",
       "    <tr>\n",
       "      <th>1</th>\n",
       "      <td>5046</td>\n",
       "      <td>0</td>\n",
       "      <td>3.0</td>\n",
       "      <td>-1</td>\n",
       "      <td>2013-10-06</td>\n",
       "      <td>This is located on the site of the old Spruce ...</td>\n",
       "      <td>0</td>\n",
       "    </tr>\n",
       "    <tr>\n",
       "      <th>2</th>\n",
       "      <td>5047</td>\n",
       "      <td>0</td>\n",
       "      <td>5.0</td>\n",
       "      <td>-1</td>\n",
       "      <td>2014-11-30</td>\n",
       "      <td>I enjoyed coffee and breakfast twice at Toast ...</td>\n",
       "      <td>1</td>\n",
       "    </tr>\n",
       "    <tr>\n",
       "      <th>3</th>\n",
       "      <td>5048</td>\n",
       "      <td>0</td>\n",
       "      <td>5.0</td>\n",
       "      <td>-1</td>\n",
       "      <td>2014-08-28</td>\n",
       "      <td>I love Toast! The food choices are fantastic -...</td>\n",
       "      <td>1</td>\n",
       "    </tr>\n",
       "    <tr>\n",
       "      <th>4</th>\n",
       "      <td>5049</td>\n",
       "      <td>0</td>\n",
       "      <td>5.0</td>\n",
       "      <td>-1</td>\n",
       "      <td>2013-07-16</td>\n",
       "      <td>The egg on an English muffin (their take on eg...</td>\n",
       "      <td>1</td>\n",
       "    </tr>\n",
       "  </tbody>\n",
       "</table>\n",
       "</div>\n",
       "      <button class=\"colab-df-convert\" onclick=\"convertToInteractive('df-9ac45341-dc59-40de-a4b3-96bae18f33e8')\"\n",
       "              title=\"Convert this dataframe to an interactive table.\"\n",
       "              style=\"display:none;\">\n",
       "        \n",
       "  <svg xmlns=\"http://www.w3.org/2000/svg\" height=\"24px\"viewBox=\"0 0 24 24\"\n",
       "       width=\"24px\">\n",
       "    <path d=\"M0 0h24v24H0V0z\" fill=\"none\"/>\n",
       "    <path d=\"M18.56 5.44l.94 2.06.94-2.06 2.06-.94-2.06-.94-.94-2.06-.94 2.06-2.06.94zm-11 1L8.5 8.5l.94-2.06 2.06-.94-2.06-.94L8.5 2.5l-.94 2.06-2.06.94zm10 10l.94 2.06.94-2.06 2.06-.94-2.06-.94-.94-2.06-.94 2.06-2.06.94z\"/><path d=\"M17.41 7.96l-1.37-1.37c-.4-.4-.92-.59-1.43-.59-.52 0-1.04.2-1.43.59L10.3 9.45l-7.72 7.72c-.78.78-.78 2.05 0 2.83L4 21.41c.39.39.9.59 1.41.59.51 0 1.02-.2 1.41-.59l7.78-7.78 2.81-2.81c.8-.78.8-2.07 0-2.86zM5.41 20L4 18.59l7.72-7.72 1.47 1.35L5.41 20z\"/>\n",
       "  </svg>\n",
       "      </button>\n",
       "      \n",
       "  <style>\n",
       "    .colab-df-container {\n",
       "      display:flex;\n",
       "      flex-wrap:wrap;\n",
       "      gap: 12px;\n",
       "    }\n",
       "\n",
       "    .colab-df-convert {\n",
       "      background-color: #E8F0FE;\n",
       "      border: none;\n",
       "      border-radius: 50%;\n",
       "      cursor: pointer;\n",
       "      display: none;\n",
       "      fill: #1967D2;\n",
       "      height: 32px;\n",
       "      padding: 0 0 0 0;\n",
       "      width: 32px;\n",
       "    }\n",
       "\n",
       "    .colab-df-convert:hover {\n",
       "      background-color: #E2EBFA;\n",
       "      box-shadow: 0px 1px 2px rgba(60, 64, 67, 0.3), 0px 1px 3px 1px rgba(60, 64, 67, 0.15);\n",
       "      fill: #174EA6;\n",
       "    }\n",
       "\n",
       "    [theme=dark] .colab-df-convert {\n",
       "      background-color: #3B4455;\n",
       "      fill: #D2E3FC;\n",
       "    }\n",
       "\n",
       "    [theme=dark] .colab-df-convert:hover {\n",
       "      background-color: #434B5C;\n",
       "      box-shadow: 0px 1px 3px 1px rgba(0, 0, 0, 0.15);\n",
       "      filter: drop-shadow(0px 1px 2px rgba(0, 0, 0, 0.3));\n",
       "      fill: #FFFFFF;\n",
       "    }\n",
       "  </style>\n",
       "\n",
       "      <script>\n",
       "        const buttonEl =\n",
       "          document.querySelector('#df-9ac45341-dc59-40de-a4b3-96bae18f33e8 button.colab-df-convert');\n",
       "        buttonEl.style.display =\n",
       "          google.colab.kernel.accessAllowed ? 'block' : 'none';\n",
       "\n",
       "        async function convertToInteractive(key) {\n",
       "          const element = document.querySelector('#df-9ac45341-dc59-40de-a4b3-96bae18f33e8');\n",
       "          const dataTable =\n",
       "            await google.colab.kernel.invokeFunction('convertToInteractive',\n",
       "                                                     [key], {});\n",
       "          if (!dataTable) return;\n",
       "\n",
       "          const docLinkHtml = 'Like what you see? Visit the ' +\n",
       "            '<a target=\"_blank\" href=https://colab.research.google.com/notebooks/data_table.ipynb>data table notebook</a>'\n",
       "            + ' to learn more about interactive tables.';\n",
       "          element.innerHTML = '';\n",
       "          dataTable['output_type'] = 'display_data';\n",
       "          await google.colab.output.renderOutput(dataTable, element);\n",
       "          const docLink = document.createElement('div');\n",
       "          docLink.innerHTML = docLinkHtml;\n",
       "          element.appendChild(docLink);\n",
       "        }\n",
       "      </script>\n",
       "    </div>\n",
       "  </div>\n",
       "  "
      ],
      "text/plain": [
       "   userID  productID  rating  label        date  \\\n",
       "0    5045          0     1.0     -1  2014-09-08   \n",
       "1    5046          0     3.0     -1  2013-10-06   \n",
       "2    5047          0     5.0     -1  2014-11-30   \n",
       "3    5048          0     5.0     -1  2014-08-28   \n",
       "4    5049          0     5.0     -1  2013-07-16   \n",
       "\n",
       "                                              review  sentiment label  \n",
       "0  This was the worst experience I've ever had a ...                0  \n",
       "1  This is located on the site of the old Spruce ...                0  \n",
       "2  I enjoyed coffee and breakfast twice at Toast ...                1  \n",
       "3  I love Toast! The food choices are fantastic -...                1  \n",
       "4  The egg on an English muffin (their take on eg...                1  "
      ]
     },
     "execution_count": 71,
     "metadata": {},
     "output_type": "execute_result"
    }
   ],
   "source": [
    "merged_zip_without_1814 = merged_zip.drop(merged_zip[merged_zip['productID'] == 1814].index)\n",
    "merged_zip_without_1814.head()"
   ]
  },
  {
   "cell_type": "markdown",
   "metadata": {
    "id": "VJ03gUbhTbcs"
   },
   "source": [
    "Since we are filtering out the fake reviews at the begging of the pipeline, we won't need them for sentiment analysis and topic modelling"
   ]
  },
  {
   "cell_type": "code",
   "execution_count": null,
   "metadata": {
    "colab": {
     "base_uri": "https://localhost:8080/",
     "height": 206
    },
    "id": "KicXwz7WReX1",
    "outputId": "35f482c1-0112-412e-f35b-c2597877ce49"
   },
   "outputs": [
    {
     "data": {
      "text/html": [
       "\n",
       "  <div id=\"df-b305463d-eabd-4a9b-9e3c-dd60d8df87b0\">\n",
       "    <div class=\"colab-df-container\">\n",
       "      <div>\n",
       "<style scoped>\n",
       "    .dataframe tbody tr th:only-of-type {\n",
       "        vertical-align: middle;\n",
       "    }\n",
       "\n",
       "    .dataframe tbody tr th {\n",
       "        vertical-align: top;\n",
       "    }\n",
       "\n",
       "    .dataframe thead th {\n",
       "        text-align: right;\n",
       "    }\n",
       "</style>\n",
       "<table border=\"1\" class=\"dataframe\">\n",
       "  <thead>\n",
       "    <tr style=\"text-align: right;\">\n",
       "      <th></th>\n",
       "      <th>userID</th>\n",
       "      <th>productID</th>\n",
       "      <th>rating</th>\n",
       "      <th>label</th>\n",
       "      <th>date</th>\n",
       "      <th>review</th>\n",
       "      <th>sentiment label</th>\n",
       "    </tr>\n",
       "  </thead>\n",
       "  <tbody>\n",
       "    <tr>\n",
       "      <th>6</th>\n",
       "      <td>5051</td>\n",
       "      <td>0</td>\n",
       "      <td>1.0</td>\n",
       "      <td>1</td>\n",
       "      <td>2014-12-05</td>\n",
       "      <td>Extremely slow kitchen. I went with an hour to...</td>\n",
       "      <td>0</td>\n",
       "    </tr>\n",
       "    <tr>\n",
       "      <th>7</th>\n",
       "      <td>5052</td>\n",
       "      <td>0</td>\n",
       "      <td>2.0</td>\n",
       "      <td>1</td>\n",
       "      <td>2014-11-26</td>\n",
       "      <td>I really wanted to love toast. It's quaint and...</td>\n",
       "      <td>0</td>\n",
       "    </tr>\n",
       "    <tr>\n",
       "      <th>8</th>\n",
       "      <td>5053</td>\n",
       "      <td>0</td>\n",
       "      <td>4.0</td>\n",
       "      <td>1</td>\n",
       "      <td>2014-11-17</td>\n",
       "      <td>First brunch experience here in Philly (actual...</td>\n",
       "      <td>1</td>\n",
       "    </tr>\n",
       "    <tr>\n",
       "      <th>9</th>\n",
       "      <td>5054</td>\n",
       "      <td>0</td>\n",
       "      <td>3.0</td>\n",
       "      <td>1</td>\n",
       "      <td>2014-10-20</td>\n",
       "      <td>Coffee is great and I live close so it's conve...</td>\n",
       "      <td>0</td>\n",
       "    </tr>\n",
       "    <tr>\n",
       "      <th>10</th>\n",
       "      <td>5055</td>\n",
       "      <td>0</td>\n",
       "      <td>5.0</td>\n",
       "      <td>1</td>\n",
       "      <td>2014-10-13</td>\n",
       "      <td>My family and I found this hidden gem while we...</td>\n",
       "      <td>1</td>\n",
       "    </tr>\n",
       "  </tbody>\n",
       "</table>\n",
       "</div>\n",
       "      <button class=\"colab-df-convert\" onclick=\"convertToInteractive('df-b305463d-eabd-4a9b-9e3c-dd60d8df87b0')\"\n",
       "              title=\"Convert this dataframe to an interactive table.\"\n",
       "              style=\"display:none;\">\n",
       "        \n",
       "  <svg xmlns=\"http://www.w3.org/2000/svg\" height=\"24px\"viewBox=\"0 0 24 24\"\n",
       "       width=\"24px\">\n",
       "    <path d=\"M0 0h24v24H0V0z\" fill=\"none\"/>\n",
       "    <path d=\"M18.56 5.44l.94 2.06.94-2.06 2.06-.94-2.06-.94-.94-2.06-.94 2.06-2.06.94zm-11 1L8.5 8.5l.94-2.06 2.06-.94-2.06-.94L8.5 2.5l-.94 2.06-2.06.94zm10 10l.94 2.06.94-2.06 2.06-.94-2.06-.94-.94-2.06-.94 2.06-2.06.94z\"/><path d=\"M17.41 7.96l-1.37-1.37c-.4-.4-.92-.59-1.43-.59-.52 0-1.04.2-1.43.59L10.3 9.45l-7.72 7.72c-.78.78-.78 2.05 0 2.83L4 21.41c.39.39.9.59 1.41.59.51 0 1.02-.2 1.41-.59l7.78-7.78 2.81-2.81c.8-.78.8-2.07 0-2.86zM5.41 20L4 18.59l7.72-7.72 1.47 1.35L5.41 20z\"/>\n",
       "  </svg>\n",
       "      </button>\n",
       "      \n",
       "  <style>\n",
       "    .colab-df-container {\n",
       "      display:flex;\n",
       "      flex-wrap:wrap;\n",
       "      gap: 12px;\n",
       "    }\n",
       "\n",
       "    .colab-df-convert {\n",
       "      background-color: #E8F0FE;\n",
       "      border: none;\n",
       "      border-radius: 50%;\n",
       "      cursor: pointer;\n",
       "      display: none;\n",
       "      fill: #1967D2;\n",
       "      height: 32px;\n",
       "      padding: 0 0 0 0;\n",
       "      width: 32px;\n",
       "    }\n",
       "\n",
       "    .colab-df-convert:hover {\n",
       "      background-color: #E2EBFA;\n",
       "      box-shadow: 0px 1px 2px rgba(60, 64, 67, 0.3), 0px 1px 3px 1px rgba(60, 64, 67, 0.15);\n",
       "      fill: #174EA6;\n",
       "    }\n",
       "\n",
       "    [theme=dark] .colab-df-convert {\n",
       "      background-color: #3B4455;\n",
       "      fill: #D2E3FC;\n",
       "    }\n",
       "\n",
       "    [theme=dark] .colab-df-convert:hover {\n",
       "      background-color: #434B5C;\n",
       "      box-shadow: 0px 1px 3px 1px rgba(0, 0, 0, 0.15);\n",
       "      filter: drop-shadow(0px 1px 2px rgba(0, 0, 0, 0.3));\n",
       "      fill: #FFFFFF;\n",
       "    }\n",
       "  </style>\n",
       "\n",
       "      <script>\n",
       "        const buttonEl =\n",
       "          document.querySelector('#df-b305463d-eabd-4a9b-9e3c-dd60d8df87b0 button.colab-df-convert');\n",
       "        buttonEl.style.display =\n",
       "          google.colab.kernel.accessAllowed ? 'block' : 'none';\n",
       "\n",
       "        async function convertToInteractive(key) {\n",
       "          const element = document.querySelector('#df-b305463d-eabd-4a9b-9e3c-dd60d8df87b0');\n",
       "          const dataTable =\n",
       "            await google.colab.kernel.invokeFunction('convertToInteractive',\n",
       "                                                     [key], {});\n",
       "          if (!dataTable) return;\n",
       "\n",
       "          const docLinkHtml = 'Like what you see? Visit the ' +\n",
       "            '<a target=\"_blank\" href=https://colab.research.google.com/notebooks/data_table.ipynb>data table notebook</a>'\n",
       "            + ' to learn more about interactive tables.';\n",
       "          element.innerHTML = '';\n",
       "          dataTable['output_type'] = 'display_data';\n",
       "          await google.colab.output.renderOutput(dataTable, element);\n",
       "          const docLink = document.createElement('div');\n",
       "          docLink.innerHTML = docLinkHtml;\n",
       "          element.appendChild(docLink);\n",
       "        }\n",
       "      </script>\n",
       "    </div>\n",
       "  </div>\n",
       "  "
      ],
      "text/plain": [
       "    userID  productID  rating  label        date  \\\n",
       "6     5051          0     1.0      1  2014-12-05   \n",
       "7     5052          0     2.0      1  2014-11-26   \n",
       "8     5053          0     4.0      1  2014-11-17   \n",
       "9     5054          0     3.0      1  2014-10-20   \n",
       "10    5055          0     5.0      1  2014-10-13   \n",
       "\n",
       "                                               review  sentiment label  \n",
       "6   Extremely slow kitchen. I went with an hour to...                0  \n",
       "7   I really wanted to love toast. It's quaint and...                0  \n",
       "8   First brunch experience here in Philly (actual...                1  \n",
       "9   Coffee is great and I live close so it's conve...                0  \n",
       "10  My family and I found this hidden gem while we...                1  "
      ]
     },
     "execution_count": 72,
     "metadata": {},
     "output_type": "execute_result"
    }
   ],
   "source": [
    "merged_zip_without_1814_all_real = merged_zip_without_1814.drop(merged_zip_without_1814[merged_zip_without_1814['label'] == -1].index)\n",
    "merged_zip_without_1814_all_real.head()"
   ]
  },
  {
   "cell_type": "markdown",
   "metadata": {
    "id": "M5FnLpxigT1k"
   },
   "source": [
    "600K instances is a bit of an overkill and would take unresonably long to train and evaluate, especially with the time constraits of this course. We have decided to sample 100k instances for the training and testing data."
   ]
  },
  {
   "cell_type": "code",
   "execution_count": null,
   "metadata": {
    "id": "1XJvLfuMY52s"
   },
   "outputs": [],
   "source": [
    "sample_training_50_50 = merged_zip_without_1814_all_real.groupby('sentiment label').apply(lambda x: x.sample(n = 50000, random_state = 1984))\n",
    "sample_training_50_50 = sample_training_50_50.set_index('sentiment label').reset_index()"
   ]
  },
  {
   "cell_type": "code",
   "execution_count": null,
   "metadata": {
    "colab": {
     "base_uri": "https://localhost:8080/",
     "height": 423
    },
    "id": "dJjqMfUMl1Kx",
    "outputId": "5704ec9d-0d08-4118-98fc-0c216607041f"
   },
   "outputs": [
    {
     "data": {
      "text/html": [
       "\n",
       "  <div id=\"df-6728aced-7fb4-4ae9-af27-3438c05f1d9e\">\n",
       "    <div class=\"colab-df-container\">\n",
       "      <div>\n",
       "<style scoped>\n",
       "    .dataframe tbody tr th:only-of-type {\n",
       "        vertical-align: middle;\n",
       "    }\n",
       "\n",
       "    .dataframe tbody tr th {\n",
       "        vertical-align: top;\n",
       "    }\n",
       "\n",
       "    .dataframe thead th {\n",
       "        text-align: right;\n",
       "    }\n",
       "</style>\n",
       "<table border=\"1\" class=\"dataframe\">\n",
       "  <thead>\n",
       "    <tr style=\"text-align: right;\">\n",
       "      <th></th>\n",
       "      <th>sentiment label</th>\n",
       "      <th>userID</th>\n",
       "      <th>productID</th>\n",
       "      <th>rating</th>\n",
       "      <th>label</th>\n",
       "      <th>date</th>\n",
       "      <th>review</th>\n",
       "    </tr>\n",
       "  </thead>\n",
       "  <tbody>\n",
       "    <tr>\n",
       "      <th>0</th>\n",
       "      <td>0</td>\n",
       "      <td>222318</td>\n",
       "      <td>3876</td>\n",
       "      <td>3.0</td>\n",
       "      <td>1</td>\n",
       "      <td>2008-09-03</td>\n",
       "      <td>Had more fun watching the drama of the restaur...</td>\n",
       "    </tr>\n",
       "    <tr>\n",
       "      <th>1</th>\n",
       "      <td>0</td>\n",
       "      <td>31737</td>\n",
       "      <td>2337</td>\n",
       "      <td>2.0</td>\n",
       "      <td>1</td>\n",
       "      <td>2012-03-24</td>\n",
       "      <td>Having lived not so far from here, we were exc...</td>\n",
       "    </tr>\n",
       "    <tr>\n",
       "      <th>2</th>\n",
       "      <td>0</td>\n",
       "      <td>245404</td>\n",
       "      <td>3528</td>\n",
       "      <td>1.0</td>\n",
       "      <td>1</td>\n",
       "      <td>2009-11-23</td>\n",
       "      <td>Okay, full disclosure, my wife and I went on M...</td>\n",
       "    </tr>\n",
       "    <tr>\n",
       "      <th>3</th>\n",
       "      <td>0</td>\n",
       "      <td>158173</td>\n",
       "      <td>3754</td>\n",
       "      <td>3.0</td>\n",
       "      <td>1</td>\n",
       "      <td>2011-11-12</td>\n",
       "      <td>The Hudson Clearwater is a cute little boite d...</td>\n",
       "    </tr>\n",
       "    <tr>\n",
       "      <th>4</th>\n",
       "      <td>0</td>\n",
       "      <td>209806</td>\n",
       "      <td>3677</td>\n",
       "      <td>3.0</td>\n",
       "      <td>1</td>\n",
       "      <td>2014-09-08</td>\n",
       "      <td>Management lacks in customer service. Went the...</td>\n",
       "    </tr>\n",
       "    <tr>\n",
       "      <th>...</th>\n",
       "      <td>...</td>\n",
       "      <td>...</td>\n",
       "      <td>...</td>\n",
       "      <td>...</td>\n",
       "      <td>...</td>\n",
       "      <td>...</td>\n",
       "      <td>...</td>\n",
       "    </tr>\n",
       "    <tr>\n",
       "      <th>99995</th>\n",
       "      <td>1</td>\n",
       "      <td>6342</td>\n",
       "      <td>3876</td>\n",
       "      <td>4.0</td>\n",
       "      <td>1</td>\n",
       "      <td>2014-12-29</td>\n",
       "      <td>Myself and 3 friends decided to do a cheeseste...</td>\n",
       "    </tr>\n",
       "    <tr>\n",
       "      <th>99996</th>\n",
       "      <td>1</td>\n",
       "      <td>12933</td>\n",
       "      <td>1295</td>\n",
       "      <td>5.0</td>\n",
       "      <td>1</td>\n",
       "      <td>2007-06-11</td>\n",
       "      <td>My favorite bar in the city.  Simply perfect. ...</td>\n",
       "    </tr>\n",
       "    <tr>\n",
       "      <th>99997</th>\n",
       "      <td>1</td>\n",
       "      <td>68315</td>\n",
       "      <td>889</td>\n",
       "      <td>4.0</td>\n",
       "      <td>1</td>\n",
       "      <td>2011-08-14</td>\n",
       "      <td>great crepes, but the restaurant is a little c...</td>\n",
       "    </tr>\n",
       "    <tr>\n",
       "      <th>99998</th>\n",
       "      <td>1</td>\n",
       "      <td>12432</td>\n",
       "      <td>3188</td>\n",
       "      <td>4.0</td>\n",
       "      <td>1</td>\n",
       "      <td>2014-06-02</td>\n",
       "      <td>I had a delicious meal here! To start, my cowo...</td>\n",
       "    </tr>\n",
       "    <tr>\n",
       "      <th>99999</th>\n",
       "      <td>1</td>\n",
       "      <td>6667</td>\n",
       "      <td>1073</td>\n",
       "      <td>5.0</td>\n",
       "      <td>1</td>\n",
       "      <td>2014-08-15</td>\n",
       "      <td>WOW, what an amazing, clean and huge food cour...</td>\n",
       "    </tr>\n",
       "  </tbody>\n",
       "</table>\n",
       "<p>100000 rows × 7 columns</p>\n",
       "</div>\n",
       "      <button class=\"colab-df-convert\" onclick=\"convertToInteractive('df-6728aced-7fb4-4ae9-af27-3438c05f1d9e')\"\n",
       "              title=\"Convert this dataframe to an interactive table.\"\n",
       "              style=\"display:none;\">\n",
       "        \n",
       "  <svg xmlns=\"http://www.w3.org/2000/svg\" height=\"24px\"viewBox=\"0 0 24 24\"\n",
       "       width=\"24px\">\n",
       "    <path d=\"M0 0h24v24H0V0z\" fill=\"none\"/>\n",
       "    <path d=\"M18.56 5.44l.94 2.06.94-2.06 2.06-.94-2.06-.94-.94-2.06-.94 2.06-2.06.94zm-11 1L8.5 8.5l.94-2.06 2.06-.94-2.06-.94L8.5 2.5l-.94 2.06-2.06.94zm10 10l.94 2.06.94-2.06 2.06-.94-2.06-.94-.94-2.06-.94 2.06-2.06.94z\"/><path d=\"M17.41 7.96l-1.37-1.37c-.4-.4-.92-.59-1.43-.59-.52 0-1.04.2-1.43.59L10.3 9.45l-7.72 7.72c-.78.78-.78 2.05 0 2.83L4 21.41c.39.39.9.59 1.41.59.51 0 1.02-.2 1.41-.59l7.78-7.78 2.81-2.81c.8-.78.8-2.07 0-2.86zM5.41 20L4 18.59l7.72-7.72 1.47 1.35L5.41 20z\"/>\n",
       "  </svg>\n",
       "      </button>\n",
       "      \n",
       "  <style>\n",
       "    .colab-df-container {\n",
       "      display:flex;\n",
       "      flex-wrap:wrap;\n",
       "      gap: 12px;\n",
       "    }\n",
       "\n",
       "    .colab-df-convert {\n",
       "      background-color: #E8F0FE;\n",
       "      border: none;\n",
       "      border-radius: 50%;\n",
       "      cursor: pointer;\n",
       "      display: none;\n",
       "      fill: #1967D2;\n",
       "      height: 32px;\n",
       "      padding: 0 0 0 0;\n",
       "      width: 32px;\n",
       "    }\n",
       "\n",
       "    .colab-df-convert:hover {\n",
       "      background-color: #E2EBFA;\n",
       "      box-shadow: 0px 1px 2px rgba(60, 64, 67, 0.3), 0px 1px 3px 1px rgba(60, 64, 67, 0.15);\n",
       "      fill: #174EA6;\n",
       "    }\n",
       "\n",
       "    [theme=dark] .colab-df-convert {\n",
       "      background-color: #3B4455;\n",
       "      fill: #D2E3FC;\n",
       "    }\n",
       "\n",
       "    [theme=dark] .colab-df-convert:hover {\n",
       "      background-color: #434B5C;\n",
       "      box-shadow: 0px 1px 3px 1px rgba(0, 0, 0, 0.15);\n",
       "      filter: drop-shadow(0px 1px 2px rgba(0, 0, 0, 0.3));\n",
       "      fill: #FFFFFF;\n",
       "    }\n",
       "  </style>\n",
       "\n",
       "      <script>\n",
       "        const buttonEl =\n",
       "          document.querySelector('#df-6728aced-7fb4-4ae9-af27-3438c05f1d9e button.colab-df-convert');\n",
       "        buttonEl.style.display =\n",
       "          google.colab.kernel.accessAllowed ? 'block' : 'none';\n",
       "\n",
       "        async function convertToInteractive(key) {\n",
       "          const element = document.querySelector('#df-6728aced-7fb4-4ae9-af27-3438c05f1d9e');\n",
       "          const dataTable =\n",
       "            await google.colab.kernel.invokeFunction('convertToInteractive',\n",
       "                                                     [key], {});\n",
       "          if (!dataTable) return;\n",
       "\n",
       "          const docLinkHtml = 'Like what you see? Visit the ' +\n",
       "            '<a target=\"_blank\" href=https://colab.research.google.com/notebooks/data_table.ipynb>data table notebook</a>'\n",
       "            + ' to learn more about interactive tables.';\n",
       "          element.innerHTML = '';\n",
       "          dataTable['output_type'] = 'display_data';\n",
       "          await google.colab.output.renderOutput(dataTable, element);\n",
       "          const docLink = document.createElement('div');\n",
       "          docLink.innerHTML = docLinkHtml;\n",
       "          element.appendChild(docLink);\n",
       "        }\n",
       "      </script>\n",
       "    </div>\n",
       "  </div>\n",
       "  "
      ],
      "text/plain": [
       "       sentiment label  userID  productID  rating  label        date  \\\n",
       "0                    0  222318       3876     3.0      1  2008-09-03   \n",
       "1                    0   31737       2337     2.0      1  2012-03-24   \n",
       "2                    0  245404       3528     1.0      1  2009-11-23   \n",
       "3                    0  158173       3754     3.0      1  2011-11-12   \n",
       "4                    0  209806       3677     3.0      1  2014-09-08   \n",
       "...                ...     ...        ...     ...    ...         ...   \n",
       "99995                1    6342       3876     4.0      1  2014-12-29   \n",
       "99996                1   12933       1295     5.0      1  2007-06-11   \n",
       "99997                1   68315        889     4.0      1  2011-08-14   \n",
       "99998                1   12432       3188     4.0      1  2014-06-02   \n",
       "99999                1    6667       1073     5.0      1  2014-08-15   \n",
       "\n",
       "                                                  review  \n",
       "0      Had more fun watching the drama of the restaur...  \n",
       "1      Having lived not so far from here, we were exc...  \n",
       "2      Okay, full disclosure, my wife and I went on M...  \n",
       "3      The Hudson Clearwater is a cute little boite d...  \n",
       "4      Management lacks in customer service. Went the...  \n",
       "...                                                  ...  \n",
       "99995  Myself and 3 friends decided to do a cheeseste...  \n",
       "99996  My favorite bar in the city.  Simply perfect. ...  \n",
       "99997  great crepes, but the restaurant is a little c...  \n",
       "99998  I had a delicious meal here! To start, my cowo...  \n",
       "99999  WOW, what an amazing, clean and huge food cour...  \n",
       "\n",
       "[100000 rows x 7 columns]"
      ]
     },
     "execution_count": 74,
     "metadata": {},
     "output_type": "execute_result"
    }
   ],
   "source": [
    "sample_training_50_50"
   ]
  },
  {
   "cell_type": "code",
   "execution_count": null,
   "metadata": {
    "id": "5RbWx265cpkb"
   },
   "outputs": [],
   "source": [
    "# sample_training_50_50.to_csv(Path.joinpath(gdrive_path_to_datasets, '100k_sentiment_sample_50_50.csv'), encoding = 'utf-8', index = False)"
   ]
  },
  {
   "cell_type": "code",
   "execution_count": null,
   "metadata": {
    "colab": {
     "base_uri": "https://localhost:8080/"
    },
    "id": "Se0b0P7Tavvu",
    "outputId": "ce74e59b-3287-427c-af7c-83ee190058e1"
   },
   "outputs": [
    {
     "data": {
      "text/plain": [
       "0    50000\n",
       "1    50000\n",
       "Name: sentiment label, dtype: int64"
      ]
     },
     "execution_count": 76,
     "metadata": {},
     "output_type": "execute_result"
    }
   ],
   "source": [
    "sentiment_counts = sample_training_50_50['sentiment label'].value_counts()\n",
    "sentiment_counts"
   ]
  },
  {
   "cell_type": "code",
   "execution_count": null,
   "metadata": {
    "id": "XafRWnJqfts0"
   },
   "outputs": [],
   "source": [
    "sample_training_25_75 = merged_zip_without_1814_all_real.sample(n = 100000, random_state = 1984)\n",
    "sample_training_25_75 = sample_training_25_75.set_index('sentiment label').reset_index()"
   ]
  },
  {
   "cell_type": "code",
   "execution_count": null,
   "metadata": {
    "colab": {
     "base_uri": "https://localhost:8080/",
     "height": 423
    },
    "id": "dC9fbY36mKtN",
    "outputId": "bc04cd7e-81d8-4617-e0d8-8304334e1b5b"
   },
   "outputs": [
    {
     "data": {
      "text/html": [
       "\n",
       "  <div id=\"df-1f632a35-05ec-48a1-8091-777f43c71422\">\n",
       "    <div class=\"colab-df-container\">\n",
       "      <div>\n",
       "<style scoped>\n",
       "    .dataframe tbody tr th:only-of-type {\n",
       "        vertical-align: middle;\n",
       "    }\n",
       "\n",
       "    .dataframe tbody tr th {\n",
       "        vertical-align: top;\n",
       "    }\n",
       "\n",
       "    .dataframe thead th {\n",
       "        text-align: right;\n",
       "    }\n",
       "</style>\n",
       "<table border=\"1\" class=\"dataframe\">\n",
       "  <thead>\n",
       "    <tr style=\"text-align: right;\">\n",
       "      <th></th>\n",
       "      <th>sentiment label</th>\n",
       "      <th>userID</th>\n",
       "      <th>productID</th>\n",
       "      <th>rating</th>\n",
       "      <th>label</th>\n",
       "      <th>date</th>\n",
       "      <th>review</th>\n",
       "    </tr>\n",
       "  </thead>\n",
       "  <tbody>\n",
       "    <tr>\n",
       "      <th>0</th>\n",
       "      <td>1</td>\n",
       "      <td>70995</td>\n",
       "      <td>3685</td>\n",
       "      <td>5.0</td>\n",
       "      <td>1</td>\n",
       "      <td>2014-07-12</td>\n",
       "      <td>I had the dry aged steakhouse burger and it is...</td>\n",
       "    </tr>\n",
       "    <tr>\n",
       "      <th>1</th>\n",
       "      <td>1</td>\n",
       "      <td>261977</td>\n",
       "      <td>4961</td>\n",
       "      <td>4.0</td>\n",
       "      <td>1</td>\n",
       "      <td>2010-07-22</td>\n",
       "      <td>This little gem is fantastic. It has a very la...</td>\n",
       "    </tr>\n",
       "    <tr>\n",
       "      <th>2</th>\n",
       "      <td>1</td>\n",
       "      <td>30765</td>\n",
       "      <td>3526</td>\n",
       "      <td>5.0</td>\n",
       "      <td>1</td>\n",
       "      <td>2012-07-05</td>\n",
       "      <td>Came here with my fiance today. I had the fres...</td>\n",
       "    </tr>\n",
       "    <tr>\n",
       "      <th>3</th>\n",
       "      <td>1</td>\n",
       "      <td>49617</td>\n",
       "      <td>3349</td>\n",
       "      <td>5.0</td>\n",
       "      <td>1</td>\n",
       "      <td>2014-07-02</td>\n",
       "      <td>Just ordered take out and ate it... AWESOME BA...</td>\n",
       "    </tr>\n",
       "    <tr>\n",
       "      <th>4</th>\n",
       "      <td>1</td>\n",
       "      <td>21812</td>\n",
       "      <td>128</td>\n",
       "      <td>4.0</td>\n",
       "      <td>1</td>\n",
       "      <td>2014-08-23</td>\n",
       "      <td>Pizza place is very small. Had the pepperoni s...</td>\n",
       "    </tr>\n",
       "    <tr>\n",
       "      <th>...</th>\n",
       "      <td>...</td>\n",
       "      <td>...</td>\n",
       "      <td>...</td>\n",
       "      <td>...</td>\n",
       "      <td>...</td>\n",
       "      <td>...</td>\n",
       "      <td>...</td>\n",
       "    </tr>\n",
       "    <tr>\n",
       "      <th>99995</th>\n",
       "      <td>1</td>\n",
       "      <td>13943</td>\n",
       "      <td>185</td>\n",
       "      <td>4.0</td>\n",
       "      <td>1</td>\n",
       "      <td>2012-09-13</td>\n",
       "      <td>Nice little wine bar with a couple decent beer...</td>\n",
       "    </tr>\n",
       "    <tr>\n",
       "      <th>99996</th>\n",
       "      <td>0</td>\n",
       "      <td>8206</td>\n",
       "      <td>148</td>\n",
       "      <td>3.0</td>\n",
       "      <td>1</td>\n",
       "      <td>2007-06-29</td>\n",
       "      <td>They have good shows here, was there last nigh...</td>\n",
       "    </tr>\n",
       "    <tr>\n",
       "      <th>99997</th>\n",
       "      <td>1</td>\n",
       "      <td>33537</td>\n",
       "      <td>3473</td>\n",
       "      <td>4.0</td>\n",
       "      <td>1</td>\n",
       "      <td>2012-06-03</td>\n",
       "      <td>Stopped here w/ a buddy of mine at his recomme...</td>\n",
       "    </tr>\n",
       "    <tr>\n",
       "      <th>99998</th>\n",
       "      <td>1</td>\n",
       "      <td>38848</td>\n",
       "      <td>3875</td>\n",
       "      <td>5.0</td>\n",
       "      <td>1</td>\n",
       "      <td>2014-12-12</td>\n",
       "      <td>Do you like french fries? Okay, now imagine th...</td>\n",
       "    </tr>\n",
       "    <tr>\n",
       "      <th>99999</th>\n",
       "      <td>1</td>\n",
       "      <td>33459</td>\n",
       "      <td>682</td>\n",
       "      <td>5.0</td>\n",
       "      <td>1</td>\n",
       "      <td>2014-03-08</td>\n",
       "      <td>Another update...the waitstaff is more cheerfu...</td>\n",
       "    </tr>\n",
       "  </tbody>\n",
       "</table>\n",
       "<p>100000 rows × 7 columns</p>\n",
       "</div>\n",
       "      <button class=\"colab-df-convert\" onclick=\"convertToInteractive('df-1f632a35-05ec-48a1-8091-777f43c71422')\"\n",
       "              title=\"Convert this dataframe to an interactive table.\"\n",
       "              style=\"display:none;\">\n",
       "        \n",
       "  <svg xmlns=\"http://www.w3.org/2000/svg\" height=\"24px\"viewBox=\"0 0 24 24\"\n",
       "       width=\"24px\">\n",
       "    <path d=\"M0 0h24v24H0V0z\" fill=\"none\"/>\n",
       "    <path d=\"M18.56 5.44l.94 2.06.94-2.06 2.06-.94-2.06-.94-.94-2.06-.94 2.06-2.06.94zm-11 1L8.5 8.5l.94-2.06 2.06-.94-2.06-.94L8.5 2.5l-.94 2.06-2.06.94zm10 10l.94 2.06.94-2.06 2.06-.94-2.06-.94-.94-2.06-.94 2.06-2.06.94z\"/><path d=\"M17.41 7.96l-1.37-1.37c-.4-.4-.92-.59-1.43-.59-.52 0-1.04.2-1.43.59L10.3 9.45l-7.72 7.72c-.78.78-.78 2.05 0 2.83L4 21.41c.39.39.9.59 1.41.59.51 0 1.02-.2 1.41-.59l7.78-7.78 2.81-2.81c.8-.78.8-2.07 0-2.86zM5.41 20L4 18.59l7.72-7.72 1.47 1.35L5.41 20z\"/>\n",
       "  </svg>\n",
       "      </button>\n",
       "      \n",
       "  <style>\n",
       "    .colab-df-container {\n",
       "      display:flex;\n",
       "      flex-wrap:wrap;\n",
       "      gap: 12px;\n",
       "    }\n",
       "\n",
       "    .colab-df-convert {\n",
       "      background-color: #E8F0FE;\n",
       "      border: none;\n",
       "      border-radius: 50%;\n",
       "      cursor: pointer;\n",
       "      display: none;\n",
       "      fill: #1967D2;\n",
       "      height: 32px;\n",
       "      padding: 0 0 0 0;\n",
       "      width: 32px;\n",
       "    }\n",
       "\n",
       "    .colab-df-convert:hover {\n",
       "      background-color: #E2EBFA;\n",
       "      box-shadow: 0px 1px 2px rgba(60, 64, 67, 0.3), 0px 1px 3px 1px rgba(60, 64, 67, 0.15);\n",
       "      fill: #174EA6;\n",
       "    }\n",
       "\n",
       "    [theme=dark] .colab-df-convert {\n",
       "      background-color: #3B4455;\n",
       "      fill: #D2E3FC;\n",
       "    }\n",
       "\n",
       "    [theme=dark] .colab-df-convert:hover {\n",
       "      background-color: #434B5C;\n",
       "      box-shadow: 0px 1px 3px 1px rgba(0, 0, 0, 0.15);\n",
       "      filter: drop-shadow(0px 1px 2px rgba(0, 0, 0, 0.3));\n",
       "      fill: #FFFFFF;\n",
       "    }\n",
       "  </style>\n",
       "\n",
       "      <script>\n",
       "        const buttonEl =\n",
       "          document.querySelector('#df-1f632a35-05ec-48a1-8091-777f43c71422 button.colab-df-convert');\n",
       "        buttonEl.style.display =\n",
       "          google.colab.kernel.accessAllowed ? 'block' : 'none';\n",
       "\n",
       "        async function convertToInteractive(key) {\n",
       "          const element = document.querySelector('#df-1f632a35-05ec-48a1-8091-777f43c71422');\n",
       "          const dataTable =\n",
       "            await google.colab.kernel.invokeFunction('convertToInteractive',\n",
       "                                                     [key], {});\n",
       "          if (!dataTable) return;\n",
       "\n",
       "          const docLinkHtml = 'Like what you see? Visit the ' +\n",
       "            '<a target=\"_blank\" href=https://colab.research.google.com/notebooks/data_table.ipynb>data table notebook</a>'\n",
       "            + ' to learn more about interactive tables.';\n",
       "          element.innerHTML = '';\n",
       "          dataTable['output_type'] = 'display_data';\n",
       "          await google.colab.output.renderOutput(dataTable, element);\n",
       "          const docLink = document.createElement('div');\n",
       "          docLink.innerHTML = docLinkHtml;\n",
       "          element.appendChild(docLink);\n",
       "        }\n",
       "      </script>\n",
       "    </div>\n",
       "  </div>\n",
       "  "
      ],
      "text/plain": [
       "       sentiment label  userID  productID  rating  label        date  \\\n",
       "0                    1   70995       3685     5.0      1  2014-07-12   \n",
       "1                    1  261977       4961     4.0      1  2010-07-22   \n",
       "2                    1   30765       3526     5.0      1  2012-07-05   \n",
       "3                    1   49617       3349     5.0      1  2014-07-02   \n",
       "4                    1   21812        128     4.0      1  2014-08-23   \n",
       "...                ...     ...        ...     ...    ...         ...   \n",
       "99995                1   13943        185     4.0      1  2012-09-13   \n",
       "99996                0    8206        148     3.0      1  2007-06-29   \n",
       "99997                1   33537       3473     4.0      1  2012-06-03   \n",
       "99998                1   38848       3875     5.0      1  2014-12-12   \n",
       "99999                1   33459        682     5.0      1  2014-03-08   \n",
       "\n",
       "                                                  review  \n",
       "0      I had the dry aged steakhouse burger and it is...  \n",
       "1      This little gem is fantastic. It has a very la...  \n",
       "2      Came here with my fiance today. I had the fres...  \n",
       "3      Just ordered take out and ate it... AWESOME BA...  \n",
       "4      Pizza place is very small. Had the pepperoni s...  \n",
       "...                                                  ...  \n",
       "99995  Nice little wine bar with a couple decent beer...  \n",
       "99996  They have good shows here, was there last nigh...  \n",
       "99997  Stopped here w/ a buddy of mine at his recomme...  \n",
       "99998  Do you like french fries? Okay, now imagine th...  \n",
       "99999  Another update...the waitstaff is more cheerfu...  \n",
       "\n",
       "[100000 rows x 7 columns]"
      ]
     },
     "execution_count": 78,
     "metadata": {},
     "output_type": "execute_result"
    }
   ],
   "source": [
    "sample_training_25_75"
   ]
  },
  {
   "cell_type": "code",
   "execution_count": null,
   "metadata": {
    "id": "q1qRZ3HBdr5Q"
   },
   "outputs": [],
   "source": [
    "# sample_training_25_75.to_csv(Path.joinpath(gdrive_path_to_datasets, '100k_sentiment_sample_25_75.csv'), encoding = 'utf-8', index = False)"
   ]
  },
  {
   "cell_type": "code",
   "execution_count": null,
   "metadata": {
    "colab": {
     "base_uri": "https://localhost:8080/"
    },
    "id": "JyWbiEzhPELr",
    "outputId": "acd607ed-beaa-467d-8e16-66b83c8ac8c2"
   },
   "outputs": [
    {
     "data": {
      "text/plain": [
       "1    73958\n",
       "0    26042\n",
       "Name: sentiment label, dtype: int64"
      ]
     },
     "execution_count": 80,
     "metadata": {},
     "output_type": "execute_result"
    }
   ],
   "source": [
    "star_rating_counts = sample_training_25_75['sentiment label'].value_counts()\n",
    "star_rating_counts"
   ]
  }
 ],
 "metadata": {
  "colab": {
   "authorship_tag": "ABX9TyMi0qQOYBzC+1C/1Gk5H7jU",
   "collapsed_sections": [],
   "include_colab_link": true,
   "name": "1.1_data_exploration.ipynb",
   "provenance": []
  },
  "kernelspec": {
   "display_name": "Python 3 (ipykernel)",
   "language": "python",
   "name": "python3"
  },
  "language_info": {
   "codemirror_mode": {
    "name": "ipython",
    "version": 3
   },
   "file_extension": ".py",
   "mimetype": "text/x-python",
   "name": "python",
   "nbconvert_exporter": "python",
   "pygments_lexer": "ipython3",
   "version": "3.7.7"
  }
 },
 "nbformat": 4,
 "nbformat_minor": 4
}
