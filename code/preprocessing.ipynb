{
 "cells": [
  {
   "cell_type": "markdown",
   "metadata": {
    "colab_type": "text",
    "id": "view-in-github"
   },
   "source": [
    "<a href=\"https://colab.research.google.com/github/poffertje/TextMining/blob/master/1_1_data_exploration.ipynb\" target=\"_parent\"><img src=\"https://colab.research.google.com/assets/colab-badge.svg\" alt=\"Open In Colab\"/></a>"
   ]
  },
  {
   "cell_type": "markdown",
   "metadata": {
    "id": "u_xOkpYHZL5_"
   },
   "source": [
    "# Data Preporcessing"
   ]
  },
  {
   "cell_type": "markdown",
   "metadata": {
    "id": "8Bexi1xMZhif"
   },
   "source": [
    "## Mounting the Drive (Google Colab)"
   ]
  },
  {
   "cell_type": "code",
   "execution_count": null,
   "metadata": {
    "colab": {
     "base_uri": "https://localhost:8080/"
    },
    "id": "99K5AOxEZgf4",
    "outputId": "73696e46-4378-4377-ec0a-fe91c57d5d5a"
   },
   "outputs": [],
   "source": [
    "from google.colab import drive\n",
    "\n",
    "drive.mount(\"/content/gdrive\")"
   ]
  },
  {
   "cell_type": "markdown",
   "metadata": {
    "id": "JQDL6GDgZS-7"
   },
   "source": [
    "## Importing The Packages"
   ]
  },
  {
   "cell_type": "code",
   "execution_count": 2,
   "metadata": {
    "id": "ew2ZZSInZZ3D"
   },
   "outputs": [],
   "source": [
    "import os\n",
    "import warnings\n",
    "from pathlib import Path\n",
    "\n",
    "import matplotlib.pyplot as plt\n",
    "import numpy as np\n",
    "import pandas as pd\n",
    "import seaborn as sns"
   ]
  },
  {
   "cell_type": "code",
   "execution_count": 3,
   "metadata": {},
   "outputs": [],
   "source": [
    "pd.options.display.max_rows = 15\n",
    "np.set_printoptions(precision=4, suppress=True)\n",
    "# Filter out the irrelevant warnings\n",
    "warnings.filterwarnings(\"ignore\")\n",
    "# Plotting\n",
    "%matplotlib inline\n",
    "sns.set_style(\"darkgrid\", {\"axes.facecolor\": \".9\"})\n",
    "# sns.set(style='whitegrid', palette='muted', font_scale=1.2)\n",
    "FIG_SIZE = (12, 9)"
   ]
  },
  {
   "cell_type": "markdown",
   "metadata": {
    "id": "uSWOsKwnadmD"
   },
   "source": [
    "## Resolving Paths"
   ]
  },
  {
   "cell_type": "markdown",
   "metadata": {
    "id": "vE7A8E0vH4c0"
   },
   "source": [
    "### Google Colab"
   ]
  },
  {
   "cell_type": "code",
   "execution_count": 3,
   "metadata": {
    "colab": {
     "base_uri": "https://localhost:8080/"
    },
    "id": "Qgg-gkrWacyu",
    "outputId": "8b6f74db-6019-4541-e1f5-7338c61c3adc"
   },
   "outputs": [
    {
     "name": "stdout",
     "output_type": "stream",
     "text": [
      "C:\\Users\\lmps\\github\\TextMining2\\code\\gdrive\\Shareddrives\\Minecraft\\Datasets\n",
      "Does path exist? -> False\n"
     ]
    }
   ],
   "source": [
    "CUR_DIR = (\n",
    "    Path().resolve()\n",
    ")  # this should provide you with the folder in which this notebook is placed\n",
    "# use this for colab\n",
    "PATH_TO_DATASETS = Path.joinpath(CUR_DIR, \"gdrive/Shareddrives/Minecraft/Datasets\")\n",
    "print(PATH_TO_DATASETS)\n",
    "print(\"Does path exist? ->\", Path.exists(PATH_TO_DATASETS))"
   ]
  },
  {
   "cell_type": "markdown",
   "metadata": {
    "id": "tdrP4U78H7Ry"
   },
   "source": [
    "### Local Repository"
   ]
  },
  {
   "cell_type": "code",
   "execution_count": 4,
   "metadata": {
    "id": "WU3U0wjycZXU"
   },
   "outputs": [
    {
     "name": "stdout",
     "output_type": "stream",
     "text": [
      "C:\\Users\\lmps\\github\\TextMining2\\datasets\n",
      "Does path exist? -> True\n"
     ]
    }
   ],
   "source": [
    "os.chdir(\"../\")\n",
    "CUR_DIR = (\n",
    "    Path().resolve()\n",
    ")  # this should provide you with the folder in which this notebook is placed\n",
    "# use this for local repository\n",
    "PATH_TO_DATASETS = Path.joinpath(CUR_DIR, \"datasets\")\n",
    "print(PATH_TO_DATASETS)\n",
    "print(\"Does path exist? ->\", Path.exists(PATH_TO_DATASETS))"
   ]
  },
  {
   "cell_type": "code",
   "execution_count": 5,
   "metadata": {
    "colab": {
     "base_uri": "https://localhost:8080/"
    },
    "id": "CNERFL4VaVnA",
    "outputId": "f5505f03-df76-45e7-c090-b501264479dd"
   },
   "outputs": [
    {
     "name": "stdout",
     "output_type": "stream",
     "text": [
      "C:\\Users\\lmps\\github\\TextMining2\\datasets\\YelpZip\n",
      "Does path exist? -> True\n"
     ]
    }
   ],
   "source": [
    "# same for colab and local repository\n",
    "PATH_TO_YELP = Path.joinpath(PATH_TO_DATASETS, \"YelpZip\")\n",
    "print(PATH_TO_YELP)\n",
    "print(\"Does path exist? ->\", Path.exists(PATH_TO_YELP))"
   ]
  },
  {
   "cell_type": "markdown",
   "metadata": {
    "id": "ns2WKsFVdCPw"
   },
   "source": [
    "## Processing The Data"
   ]
  },
  {
   "cell_type": "markdown",
   "metadata": {
    "id": "uaWaACbCJ2Rf"
   },
   "source": [
    "### Importing The Data"
   ]
  },
  {
   "cell_type": "code",
   "execution_count": 6,
   "metadata": {
    "colab": {
     "base_uri": "https://localhost:8080/",
     "height": 206
    },
    "id": "t5gDFsv_cSAU",
    "outputId": "2ce3a469-442b-4f5e-ec61-ca349a5031f2"
   },
   "outputs": [
    {
     "data": {
      "text/html": [
       "<div>\n",
       "<style scoped>\n",
       "    .dataframe tbody tr th:only-of-type {\n",
       "        vertical-align: middle;\n",
       "    }\n",
       "\n",
       "    .dataframe tbody tr th {\n",
       "        vertical-align: top;\n",
       "    }\n",
       "\n",
       "    .dataframe thead th {\n",
       "        text-align: right;\n",
       "    }\n",
       "</style>\n",
       "<table border=\"1\" class=\"dataframe\">\n",
       "  <thead>\n",
       "    <tr style=\"text-align: right;\">\n",
       "      <th></th>\n",
       "      <th>userID</th>\n",
       "      <th>productID</th>\n",
       "      <th>date</th>\n",
       "      <th>review</th>\n",
       "    </tr>\n",
       "  </thead>\n",
       "  <tbody>\n",
       "    <tr>\n",
       "      <th>0</th>\n",
       "      <td>5045</td>\n",
       "      <td>0</td>\n",
       "      <td>2014-09-08</td>\n",
       "      <td>This was the worst experience I've ever had a ...</td>\n",
       "    </tr>\n",
       "    <tr>\n",
       "      <th>1</th>\n",
       "      <td>5046</td>\n",
       "      <td>0</td>\n",
       "      <td>2013-10-06</td>\n",
       "      <td>This is located on the site of the old Spruce ...</td>\n",
       "    </tr>\n",
       "    <tr>\n",
       "      <th>2</th>\n",
       "      <td>5047</td>\n",
       "      <td>0</td>\n",
       "      <td>2014-11-30</td>\n",
       "      <td>I enjoyed coffee and breakfast twice at Toast ...</td>\n",
       "    </tr>\n",
       "    <tr>\n",
       "      <th>3</th>\n",
       "      <td>5048</td>\n",
       "      <td>0</td>\n",
       "      <td>2014-08-28</td>\n",
       "      <td>I love Toast! The food choices are fantastic -...</td>\n",
       "    </tr>\n",
       "    <tr>\n",
       "      <th>4</th>\n",
       "      <td>5049</td>\n",
       "      <td>0</td>\n",
       "      <td>2013-07-16</td>\n",
       "      <td>The egg on an English muffin (their take on eg...</td>\n",
       "    </tr>\n",
       "  </tbody>\n",
       "</table>\n",
       "</div>"
      ],
      "text/plain": [
       "   userID  productID        date  \\\n",
       "0    5045          0  2014-09-08   \n",
       "1    5046          0  2013-10-06   \n",
       "2    5047          0  2014-11-30   \n",
       "3    5048          0  2014-08-28   \n",
       "4    5049          0  2013-07-16   \n",
       "\n",
       "                                              review  \n",
       "0  This was the worst experience I've ever had a ...  \n",
       "1  This is located on the site of the old Spruce ...  \n",
       "2  I enjoyed coffee and breakfast twice at Toast ...  \n",
       "3  I love Toast! The food choices are fantastic -...  \n",
       "4  The egg on an English muffin (their take on eg...  "
      ]
     },
     "execution_count": 6,
     "metadata": {},
     "output_type": "execute_result"
    }
   ],
   "source": [
    "rev_content = pd.read_table(Path.joinpath(PATH_TO_YELP, \"reviewContent\"), sep=\"\\t\")\n",
    "rev_content.columns = [\"userID\", \"productID\", \"date\", \"review\"]\n",
    "rev_content.head()"
   ]
  },
  {
   "cell_type": "code",
   "execution_count": 7,
   "metadata": {
    "colab": {
     "base_uri": "https://localhost:8080/",
     "height": 206
    },
    "id": "RLYfJ4NedK3w",
    "outputId": "4c2040bc-9574-40f4-8fa1-1797a9dfd3f7"
   },
   "outputs": [
    {
     "data": {
      "text/html": [
       "<div>\n",
       "<style scoped>\n",
       "    .dataframe tbody tr th:only-of-type {\n",
       "        vertical-align: middle;\n",
       "    }\n",
       "\n",
       "    .dataframe tbody tr th {\n",
       "        vertical-align: top;\n",
       "    }\n",
       "\n",
       "    .dataframe thead th {\n",
       "        text-align: right;\n",
       "    }\n",
       "</style>\n",
       "<table border=\"1\" class=\"dataframe\">\n",
       "  <thead>\n",
       "    <tr style=\"text-align: right;\">\n",
       "      <th></th>\n",
       "      <th>userID</th>\n",
       "      <th>productID</th>\n",
       "      <th>rating</th>\n",
       "      <th>label</th>\n",
       "      <th>date</th>\n",
       "    </tr>\n",
       "  </thead>\n",
       "  <tbody>\n",
       "    <tr>\n",
       "      <th>0</th>\n",
       "      <td>5045</td>\n",
       "      <td>0</td>\n",
       "      <td>1.0</td>\n",
       "      <td>-1</td>\n",
       "      <td>2014-09-08</td>\n",
       "    </tr>\n",
       "    <tr>\n",
       "      <th>1</th>\n",
       "      <td>5046</td>\n",
       "      <td>0</td>\n",
       "      <td>3.0</td>\n",
       "      <td>-1</td>\n",
       "      <td>2013-10-06</td>\n",
       "    </tr>\n",
       "    <tr>\n",
       "      <th>2</th>\n",
       "      <td>5047</td>\n",
       "      <td>0</td>\n",
       "      <td>5.0</td>\n",
       "      <td>-1</td>\n",
       "      <td>2014-11-30</td>\n",
       "    </tr>\n",
       "    <tr>\n",
       "      <th>3</th>\n",
       "      <td>5048</td>\n",
       "      <td>0</td>\n",
       "      <td>5.0</td>\n",
       "      <td>-1</td>\n",
       "      <td>2014-08-28</td>\n",
       "    </tr>\n",
       "    <tr>\n",
       "      <th>4</th>\n",
       "      <td>5049</td>\n",
       "      <td>0</td>\n",
       "      <td>5.0</td>\n",
       "      <td>-1</td>\n",
       "      <td>2013-07-16</td>\n",
       "    </tr>\n",
       "  </tbody>\n",
       "</table>\n",
       "</div>"
      ],
      "text/plain": [
       "   userID  productID  rating  label        date\n",
       "0    5045          0     1.0     -1  2014-09-08\n",
       "1    5046          0     3.0     -1  2013-10-06\n",
       "2    5047          0     5.0     -1  2014-11-30\n",
       "3    5048          0     5.0     -1  2014-08-28\n",
       "4    5049          0     5.0     -1  2013-07-16"
      ]
     },
     "execution_count": 7,
     "metadata": {},
     "output_type": "execute_result"
    }
   ],
   "source": [
    "metadata = pd.read_table(Path.joinpath(PATH_TO_YELP, \"metadata\"), sep=\"\\t\")\n",
    "metadata.columns = [\"userID\", \"productID\", \"rating\", \"label\", \"date\"]\n",
    "metadata.head()"
   ]
  },
  {
   "cell_type": "code",
   "execution_count": 8,
   "metadata": {
    "colab": {
     "base_uri": "https://localhost:8080/",
     "height": 206
    },
    "id": "3ISoYHE_dzYq",
    "outputId": "ee58cbac-4e79-4d5f-95ef-1ac4ed613211"
   },
   "outputs": [
    {
     "data": {
      "text/html": [
       "<div>\n",
       "<style scoped>\n",
       "    .dataframe tbody tr th:only-of-type {\n",
       "        vertical-align: middle;\n",
       "    }\n",
       "\n",
       "    .dataframe tbody tr th {\n",
       "        vertical-align: top;\n",
       "    }\n",
       "\n",
       "    .dataframe thead th {\n",
       "        text-align: right;\n",
       "    }\n",
       "</style>\n",
       "<table border=\"1\" class=\"dataframe\">\n",
       "  <thead>\n",
       "    <tr style=\"text-align: right;\">\n",
       "      <th></th>\n",
       "      <th>name</th>\n",
       "      <th>productID</th>\n",
       "    </tr>\n",
       "  </thead>\n",
       "  <tbody>\n",
       "    <tr>\n",
       "      <th>0</th>\n",
       "      <td>Big Apple Lounge &amp; Restaurant</td>\n",
       "      <td>1</td>\n",
       "    </tr>\n",
       "    <tr>\n",
       "      <th>1</th>\n",
       "      <td>La Carreta</td>\n",
       "      <td>2</td>\n",
       "    </tr>\n",
       "    <tr>\n",
       "      <th>2</th>\n",
       "      <td>Just Subs 6</td>\n",
       "      <td>2780</td>\n",
       "    </tr>\n",
       "    <tr>\n",
       "      <th>3</th>\n",
       "      <td>Formosa Asian Fusion Restaurant</td>\n",
       "      <td>4</td>\n",
       "    </tr>\n",
       "    <tr>\n",
       "      <th>4</th>\n",
       "      <td>Dona Mercedes</td>\n",
       "      <td>5</td>\n",
       "    </tr>\n",
       "  </tbody>\n",
       "</table>\n",
       "</div>"
      ],
      "text/plain": [
       "                              name  productID\n",
       "0    Big Apple Lounge & Restaurant          1\n",
       "1                       La Carreta          2\n",
       "2                      Just Subs 6       2780\n",
       "3  Formosa Asian Fusion Restaurant          4\n",
       "4                    Dona Mercedes          5"
      ]
     },
     "execution_count": 8,
     "metadata": {},
     "output_type": "execute_result"
    }
   ],
   "source": [
    "product_map = pd.read_table(Path.joinpath(PATH_TO_YELP, \"productIdMapping\"), sep=\"\\t\")\n",
    "product_map.columns = [\"name\", \"productID\"]\n",
    "product_map.head()"
   ]
  },
  {
   "cell_type": "code",
   "execution_count": 9,
   "metadata": {
    "colab": {
     "base_uri": "https://localhost:8080/",
     "height": 206
    },
    "id": "mVhMmVCkecQH",
    "outputId": "69ac7ec4-a97f-411e-892f-21851660caa0"
   },
   "outputs": [
    {
     "data": {
      "text/html": [
       "<div>\n",
       "<style scoped>\n",
       "    .dataframe tbody tr th:only-of-type {\n",
       "        vertical-align: middle;\n",
       "    }\n",
       "\n",
       "    .dataframe tbody tr th {\n",
       "        vertical-align: top;\n",
       "    }\n",
       "\n",
       "    .dataframe thead th {\n",
       "        text-align: right;\n",
       "    }\n",
       "</style>\n",
       "<table border=\"1\" class=\"dataframe\">\n",
       "  <thead>\n",
       "    <tr style=\"text-align: right;\">\n",
       "      <th></th>\n",
       "      <th>name</th>\n",
       "      <th>userID</th>\n",
       "    </tr>\n",
       "  </thead>\n",
       "  <tbody>\n",
       "    <tr>\n",
       "      <th>0</th>\n",
       "      <td>FzbqZaNONgR-b5iHpoGp8Q</td>\n",
       "      <td>185064</td>\n",
       "    </tr>\n",
       "    <tr>\n",
       "      <th>1</th>\n",
       "      <td>F1n8h7MtVHPxgY4U1iQ-bQ</td>\n",
       "      <td>205085</td>\n",
       "    </tr>\n",
       "    <tr>\n",
       "      <th>2</th>\n",
       "      <td>sd00TiP5ENkm6rKYPn3p3A</td>\n",
       "      <td>38645</td>\n",
       "    </tr>\n",
       "    <tr>\n",
       "      <th>3</th>\n",
       "      <td>9-QHBM5i9--nUYrrj9DXXA</td>\n",
       "      <td>133524</td>\n",
       "    </tr>\n",
       "    <tr>\n",
       "      <th>4</th>\n",
       "      <td>FBjIChlJ437HqVe134bCVw</td>\n",
       "      <td>41313</td>\n",
       "    </tr>\n",
       "  </tbody>\n",
       "</table>\n",
       "</div>"
      ],
      "text/plain": [
       "                     name  userID\n",
       "0  FzbqZaNONgR-b5iHpoGp8Q  185064\n",
       "1  F1n8h7MtVHPxgY4U1iQ-bQ  205085\n",
       "2  sd00TiP5ENkm6rKYPn3p3A   38645\n",
       "3  9-QHBM5i9--nUYrrj9DXXA  133524\n",
       "4  FBjIChlJ437HqVe134bCVw   41313"
      ]
     },
     "execution_count": 9,
     "metadata": {},
     "output_type": "execute_result"
    }
   ],
   "source": [
    "user_map = pd.read_table(Path.joinpath(PATH_TO_YELP, \"userIdMapping\"), sep=\"\\t\")\n",
    "user_map.columns = [\"name\", \"userID\"]\n",
    "user_map.head()"
   ]
  },
  {
   "cell_type": "code",
   "execution_count": 10,
   "metadata": {
    "colab": {
     "base_uri": "https://localhost:8080/",
     "height": 206
    },
    "id": "dw2lwIzVewnZ",
    "outputId": "d5df882d-aa5a-483a-c08d-19c3e2119c68"
   },
   "outputs": [
    {
     "data": {
      "text/html": [
       "<div>\n",
       "<style scoped>\n",
       "    .dataframe tbody tr th:only-of-type {\n",
       "        vertical-align: middle;\n",
       "    }\n",
       "\n",
       "    .dataframe tbody tr th {\n",
       "        vertical-align: top;\n",
       "    }\n",
       "\n",
       "    .dataframe thead th {\n",
       "        text-align: right;\n",
       "    }\n",
       "</style>\n",
       "<table border=\"1\" class=\"dataframe\">\n",
       "  <thead>\n",
       "    <tr style=\"text-align: right;\">\n",
       "      <th></th>\n",
       "      <th>userID</th>\n",
       "      <th>productID</th>\n",
       "      <th>rating</th>\n",
       "    </tr>\n",
       "  </thead>\n",
       "  <tbody>\n",
       "    <tr>\n",
       "      <th>0</th>\n",
       "      <td>5045</td>\n",
       "      <td>0</td>\n",
       "      <td>1.0</td>\n",
       "    </tr>\n",
       "    <tr>\n",
       "      <th>1</th>\n",
       "      <td>5046</td>\n",
       "      <td>0</td>\n",
       "      <td>3.0</td>\n",
       "    </tr>\n",
       "    <tr>\n",
       "      <th>2</th>\n",
       "      <td>5047</td>\n",
       "      <td>0</td>\n",
       "      <td>5.0</td>\n",
       "    </tr>\n",
       "    <tr>\n",
       "      <th>3</th>\n",
       "      <td>5048</td>\n",
       "      <td>0</td>\n",
       "      <td>5.0</td>\n",
       "    </tr>\n",
       "    <tr>\n",
       "      <th>4</th>\n",
       "      <td>5049</td>\n",
       "      <td>0</td>\n",
       "      <td>5.0</td>\n",
       "    </tr>\n",
       "  </tbody>\n",
       "</table>\n",
       "</div>"
      ],
      "text/plain": [
       "   userID  productID  rating\n",
       "0    5045          0     1.0\n",
       "1    5046          0     3.0\n",
       "2    5047          0     5.0\n",
       "3    5048          0     5.0\n",
       "4    5049          0     5.0"
      ]
     },
     "execution_count": 10,
     "metadata": {},
     "output_type": "execute_result"
    }
   ],
   "source": [
    "graph = pd.read_table(Path.joinpath(PATH_TO_YELP, \"reviewGraph\"), sep=\"\\t\")\n",
    "graph.columns = [\"userID\", \"productID\", \"rating\"]\n",
    "graph.head()"
   ]
  },
  {
   "cell_type": "markdown",
   "metadata": {
    "id": "9fraqm42J7xR"
   },
   "source": [
    "### Merging All The Parts of The Dataset Together"
   ]
  },
  {
   "cell_type": "code",
   "execution_count": 11,
   "metadata": {
    "colab": {
     "base_uri": "https://localhost:8080/",
     "height": 206
    },
    "id": "Bva1hnmKfNYw",
    "outputId": "be5dc987-9c29-4056-81c3-d7c578cbad44"
   },
   "outputs": [
    {
     "data": {
      "text/html": [
       "<div>\n",
       "<style scoped>\n",
       "    .dataframe tbody tr th:only-of-type {\n",
       "        vertical-align: middle;\n",
       "    }\n",
       "\n",
       "    .dataframe tbody tr th {\n",
       "        vertical-align: top;\n",
       "    }\n",
       "\n",
       "    .dataframe thead th {\n",
       "        text-align: right;\n",
       "    }\n",
       "</style>\n",
       "<table border=\"1\" class=\"dataframe\">\n",
       "  <thead>\n",
       "    <tr style=\"text-align: right;\">\n",
       "      <th></th>\n",
       "      <th>userID</th>\n",
       "      <th>productID</th>\n",
       "      <th>rating</th>\n",
       "      <th>label</th>\n",
       "      <th>date</th>\n",
       "      <th>review</th>\n",
       "    </tr>\n",
       "  </thead>\n",
       "  <tbody>\n",
       "    <tr>\n",
       "      <th>0</th>\n",
       "      <td>5045</td>\n",
       "      <td>0</td>\n",
       "      <td>1.0</td>\n",
       "      <td>-1</td>\n",
       "      <td>2014-09-08</td>\n",
       "      <td>This was the worst experience I've ever had a ...</td>\n",
       "    </tr>\n",
       "    <tr>\n",
       "      <th>1</th>\n",
       "      <td>5046</td>\n",
       "      <td>0</td>\n",
       "      <td>3.0</td>\n",
       "      <td>-1</td>\n",
       "      <td>2013-10-06</td>\n",
       "      <td>This is located on the site of the old Spruce ...</td>\n",
       "    </tr>\n",
       "    <tr>\n",
       "      <th>2</th>\n",
       "      <td>5047</td>\n",
       "      <td>0</td>\n",
       "      <td>5.0</td>\n",
       "      <td>-1</td>\n",
       "      <td>2014-11-30</td>\n",
       "      <td>I enjoyed coffee and breakfast twice at Toast ...</td>\n",
       "    </tr>\n",
       "    <tr>\n",
       "      <th>3</th>\n",
       "      <td>5048</td>\n",
       "      <td>0</td>\n",
       "      <td>5.0</td>\n",
       "      <td>-1</td>\n",
       "      <td>2014-08-28</td>\n",
       "      <td>I love Toast! The food choices are fantastic -...</td>\n",
       "    </tr>\n",
       "    <tr>\n",
       "      <th>4</th>\n",
       "      <td>5049</td>\n",
       "      <td>0</td>\n",
       "      <td>5.0</td>\n",
       "      <td>-1</td>\n",
       "      <td>2013-07-16</td>\n",
       "      <td>The egg on an English muffin (their take on eg...</td>\n",
       "    </tr>\n",
       "  </tbody>\n",
       "</table>\n",
       "</div>"
      ],
      "text/plain": [
       "   userID  productID  rating  label        date  \\\n",
       "0    5045          0     1.0     -1  2014-09-08   \n",
       "1    5046          0     3.0     -1  2013-10-06   \n",
       "2    5047          0     5.0     -1  2014-11-30   \n",
       "3    5048          0     5.0     -1  2014-08-28   \n",
       "4    5049          0     5.0     -1  2013-07-16   \n",
       "\n",
       "                                              review  \n",
       "0  This was the worst experience I've ever had a ...  \n",
       "1  This is located on the site of the old Spruce ...  \n",
       "2  I enjoyed coffee and breakfast twice at Toast ...  \n",
       "3  I love Toast! The food choices are fantastic -...  \n",
       "4  The egg on an English muffin (their take on eg...  "
      ]
     },
     "execution_count": 11,
     "metadata": {},
     "output_type": "execute_result"
    }
   ],
   "source": [
    "# left join metadata with review content=\n",
    "merged_zip = pd.merge(\n",
    "    metadata, rev_content, on=[\"userID\", \"productID\", \"date\"], how=\"left\"\n",
    ")\n",
    "merged_zip.head()"
   ]
  },
  {
   "cell_type": "markdown",
   "metadata": {},
   "source": [
    "Check whether there are any rows containing empty data and delete them"
   ]
  },
  {
   "cell_type": "code",
   "execution_count": 12,
   "metadata": {
    "colab": {
     "base_uri": "https://localhost:8080/"
    },
    "id": "djWF_VkllK_j",
    "outputId": "df5676b2-8fb5-47e4-81f0-d93001fe6ac1"
   },
   "outputs": [
    {
     "data": {
      "text/plain": [
       "userID         0\n",
       "productID      0\n",
       "rating         0\n",
       "label          0\n",
       "date           0\n",
       "review       140\n",
       "dtype: int64"
      ]
     },
     "execution_count": 12,
     "metadata": {},
     "output_type": "execute_result"
    }
   ],
   "source": [
    "merged_zip.isna().sum()"
   ]
  },
  {
   "cell_type": "code",
   "execution_count": 13,
   "metadata": {
    "id": "94Z9WBAplNsX"
   },
   "outputs": [],
   "source": [
    "merged_zip.dropna(inplace=True)"
   ]
  },
  {
   "cell_type": "markdown",
   "metadata": {},
   "source": [
    "### Analyzing Data"
   ]
  },
  {
   "cell_type": "markdown",
   "metadata": {
    "id": "jR0U6xGSQulZ"
   },
   "source": [
    "Analyze the star rating proportions"
   ]
  },
  {
   "cell_type": "code",
   "execution_count": 14,
   "metadata": {
    "colab": {
     "base_uri": "https://localhost:8080/"
    },
    "id": "I0wc3CUlSR-7",
    "outputId": "2c89029f-c369-4869-9c69-7bd38703e208"
   },
   "outputs": [
    {
     "data": {
      "text/plain": [
       "5.0    229364\n",
       "4.0    217400\n",
       "3.0     83117\n",
       "2.0     42982\n",
       "1.0     35594\n",
       "Name: rating, dtype: int64"
      ]
     },
     "execution_count": 14,
     "metadata": {},
     "output_type": "execute_result"
    }
   ],
   "source": [
    "star_rating_counts = merged_zip.rating.value_counts()\n",
    "star_rating_counts"
   ]
  },
  {
   "cell_type": "code",
   "execution_count": 15,
   "metadata": {
    "colab": {
     "base_uri": "https://localhost:8080/",
     "height": 871
    },
    "id": "mDv5HL_lLPkL",
    "outputId": "d38bde7d-b272-499e-a114-df62a4c825cd"
   },
   "outputs": [
    {
     "data": {
      "image/png": "[encoded data removed]",
      "text/plain": [
       "<Figure size 864x648 with 1 Axes>"
      ]
     },
     "metadata": {},
     "output_type": "display_data"
    }
   ],
   "source": [
    "# add a threshold to the series object to cutoff the genres that have less than 1% frequency\n",
    "plt.figure(figsize=FIG_SIZE)\n",
    "plt.title(\"Star Rating Proportions\")\n",
    "colors = sns.color_palette(\"Blues\")[::-1]\n",
    "plt.pie(\n",
    "    star_rating_counts.values,\n",
    "    colors=colors,\n",
    "    startangle=90,\n",
    "    autopct=\"%1.2f%%\",\n",
    "    shadow=True,\n",
    ")\n",
    "plt.legend(star_rating_counts.index, loc=\"best\")\n",
    "plt.show()"
   ]
  },
  {
   "cell_type": "markdown",
   "metadata": {},
   "source": [
    "Analyze the distribution of labels:\n",
    "\n",
    "**<br>Real --> 1**\n",
    "**<br>Fake --> -1**"
   ]
  },
  {
   "cell_type": "code",
   "execution_count": 16,
   "metadata": {},
   "outputs": [
    {
     "data": {
      "image/png": "[encoded data removed]",
      "text/plain": [
       "<Figure size 576x576 with 1 Axes>"
      ]
     },
     "metadata": {},
     "output_type": "display_data"
    }
   ],
   "source": [
    "plt.figure(figsize=(8, 8))\n",
    "sns.countplot(merged_zip[\"label\"], palette=\"Blues\")\n",
    "plt.xticks([0, 1], [\"Fake\", \"Real\"])\n",
    "plt.title(\"Frequencies of Labels\")\n",
    "plt.show()"
   ]
  },
  {
   "cell_type": "code",
   "execution_count": 17,
   "metadata": {},
   "outputs": [],
   "source": [
    "label_counts = merged_zip.label.value_counts()"
   ]
  },
  {
   "cell_type": "code",
   "execution_count": 18,
   "metadata": {
    "colab": {
     "base_uri": "https://localhost:8080/"
    },
    "id": "aXURODAIiblw",
    "outputId": "96cd1ddc-dd48-4446-fbb2-2f31a519e09e"
   },
   "outputs": [
    {
     "data": {
      "text/plain": [
       "13.219997469007671"
      ]
     },
     "execution_count": 18,
     "metadata": {},
     "output_type": "execute_result"
    }
   ],
   "source": [
    "fake_label_percentage = label_counts.loc[-1] / label_counts.sum()\n",
    "fake_label_percentage * 100"
   ]
  },
  {
   "cell_type": "code",
   "execution_count": 19,
   "metadata": {
    "colab": {
     "base_uri": "https://localhost:8080/"
    },
    "id": "EakPcEw6k8-T",
    "outputId": "16a65c8f-cea3-4b37-833b-5974be987c5a"
   },
   "outputs": [
    {
     "data": {
      "text/plain": [
       "86.78000253099233"
      ]
     },
     "execution_count": 19,
     "metadata": {},
     "output_type": "execute_result"
    }
   ],
   "source": [
    "real_label_percentage = label_counts.loc[1] / label_counts.sum()\n",
    "real_label_percentage * 100"
   ]
  },
  {
   "cell_type": "markdown",
   "metadata": {},
   "source": [
    "Investigate the tokens and their statistics"
   ]
  },
  {
   "cell_type": "code",
   "execution_count": 20,
   "metadata": {},
   "outputs": [],
   "source": [
    "all_words = merged_zip.review.str.split().str.len()"
   ]
  },
  {
   "cell_type": "code",
   "execution_count": 21,
   "metadata": {},
   "outputs": [],
   "source": [
    "mean_review_length = all_words.mean()\n",
    "min_review_length = all_words.min()\n",
    "max_review_length = all_words.max()\n",
    "median_review_length = all_words.median()\n",
    "exceeding_count = len(all_words.loc[all_words.values > 512].index)\n",
    "entries_count = len(merged_zip.index)"
   ]
  },
  {
   "cell_type": "code",
   "execution_count": 22,
   "metadata": {},
   "outputs": [
    {
     "name": "stdout",
     "output_type": "stream",
     "text": [
      "Review Statistics (counting words) - \n",
      "\n",
      "Median Length: 85.00\n",
      "Mean Length: 115.32\n",
      "Max Lenght: 5333.00\n",
      "Min Length: 1.00\n",
      "Exceeding Ratio: 1.03%\n"
     ]
    }
   ],
   "source": [
    "print(\n",
    "    \"Review Statistics (counting words) - \\n\\nMedian Length: {:.2f}\\nMean Length: {:.2f}\\nMax Lenght: {:.2f}\\nMin Length: {:.2f}\\nExceeding Ratio: {:.2f}%\".format(\n",
    "        median_review_length,\n",
    "        mean_review_length,\n",
    "        max_review_length,\n",
    "        min_review_length,\n",
    "        exceeding_count / entries_count * 100,\n",
    "    )\n",
    ")"
   ]
  },
  {
   "cell_type": "code",
   "execution_count": 23,
   "metadata": {},
   "outputs": [
    {
     "data": {
      "image/png": "[encoded data removed]",
      "text/plain": [
       "<Figure size 864x648 with 1 Axes>"
      ]
     },
     "metadata": {},
     "output_type": "display_data"
    }
   ],
   "source": [
    "plt.figure(figsize=FIG_SIZE)\n",
    "sns.distplot(all_words)\n",
    "plt.xlabel(\"Review Length\")\n",
    "plt.title(\"Distribution of Review Lengths\")\n",
    "plt.show()"
   ]
  },
  {
   "cell_type": "markdown",
   "metadata": {},
   "source": [
    "The resulting distribution is right-skewed, we need to investigate the usefullness of the outliers:"
   ]
  },
  {
   "cell_type": "code",
   "execution_count": 24,
   "metadata": {},
   "outputs": [
    {
     "data": {
      "text/html": [
       "<div>\n",
       "<style scoped>\n",
       "    .dataframe tbody tr th:only-of-type {\n",
       "        vertical-align: middle;\n",
       "    }\n",
       "\n",
       "    .dataframe tbody tr th {\n",
       "        vertical-align: top;\n",
       "    }\n",
       "\n",
       "    .dataframe thead th {\n",
       "        text-align: right;\n",
       "    }\n",
       "</style>\n",
       "<table border=\"1\" class=\"dataframe\">\n",
       "  <thead>\n",
       "    <tr style=\"text-align: right;\">\n",
       "      <th></th>\n",
       "      <th>userID</th>\n",
       "      <th>productID</th>\n",
       "      <th>rating</th>\n",
       "      <th>label</th>\n",
       "      <th>date</th>\n",
       "      <th>review</th>\n",
       "    </tr>\n",
       "  </thead>\n",
       "  <tbody>\n",
       "    <tr>\n",
       "      <th>9561</th>\n",
       "      <td>14092</td>\n",
       "      <td>79</td>\n",
       "      <td>3.0</td>\n",
       "      <td>-1</td>\n",
       "      <td>2013-04-01</td>\n",
       "      <td>Sabarsky is much prettier and perhaps a bit le...</td>\n",
       "    </tr>\n",
       "    <tr>\n",
       "      <th>57709</th>\n",
       "      <td>49565</td>\n",
       "      <td>496</td>\n",
       "      <td>4.0</td>\n",
       "      <td>1</td>\n",
       "      <td>2006-05-26</td>\n",
       "      <td>One of my favorite Bistros in NYC, very Parisi...</td>\n",
       "    </tr>\n",
       "    <tr>\n",
       "      <th>133513</th>\n",
       "      <td>92780</td>\n",
       "      <td>1859</td>\n",
       "      <td>5.0</td>\n",
       "      <td>1</td>\n",
       "      <td>2014-03-05</td>\n",
       "      <td>You think I won't do it? I said as I looked up...</td>\n",
       "    </tr>\n",
       "    <tr>\n",
       "      <th>160619</th>\n",
       "      <td>105830</td>\n",
       "      <td>4223</td>\n",
       "      <td>2.0</td>\n",
       "      <td>1</td>\n",
       "      <td>2010-05-11</td>\n",
       "      <td>You gonna fight me over pizza ??? Some cheese ...</td>\n",
       "    </tr>\n",
       "    <tr>\n",
       "      <th>216676</th>\n",
       "      <td>48780</td>\n",
       "      <td>1419</td>\n",
       "      <td>4.0</td>\n",
       "      <td>1</td>\n",
       "      <td>2012-12-10</td>\n",
       "      <td>Small quaint local place. Opposite of a chain ...</td>\n",
       "    </tr>\n",
       "    <tr>\n",
       "      <th>278005</th>\n",
       "      <td>36832</td>\n",
       "      <td>4338</td>\n",
       "      <td>4.0</td>\n",
       "      <td>1</td>\n",
       "      <td>2012-08-07</td>\n",
       "      <td>From outside he never suspect that this is suc...</td>\n",
       "    </tr>\n",
       "    <tr>\n",
       "      <th>508123</th>\n",
       "      <td>60207</td>\n",
       "      <td>4196</td>\n",
       "      <td>5.0</td>\n",
       "      <td>1</td>\n",
       "      <td>2012-11-08</td>\n",
       "      <td>Love this spot! Stuck in a hotel while our hou...</td>\n",
       "    </tr>\n",
       "    <tr>\n",
       "      <th>548117</th>\n",
       "      <td>247452</td>\n",
       "      <td>3359</td>\n",
       "      <td>5.0</td>\n",
       "      <td>1</td>\n",
       "      <td>2013-07-06</td>\n",
       "      <td>Lexi is super efficient if you lack creativity...</td>\n",
       "    </tr>\n",
       "    <tr>\n",
       "      <th>571003</th>\n",
       "      <td>195189</td>\n",
       "      <td>4743</td>\n",
       "      <td>5.0</td>\n",
       "      <td>1</td>\n",
       "      <td>2012-09-06</td>\n",
       "      <td>I've been coming here for years. It's def my g...</td>\n",
       "    </tr>\n",
       "  </tbody>\n",
       "</table>\n",
       "</div>"
      ],
      "text/plain": [
       "        userID  productID  rating  label        date  \\\n",
       "9561     14092         79     3.0     -1  2013-04-01   \n",
       "57709    49565        496     4.0      1  2006-05-26   \n",
       "133513   92780       1859     5.0      1  2014-03-05   \n",
       "160619  105830       4223     2.0      1  2010-05-11   \n",
       "216676   48780       1419     4.0      1  2012-12-10   \n",
       "278005   36832       4338     4.0      1  2012-08-07   \n",
       "508123   60207       4196     5.0      1  2012-11-08   \n",
       "548117  247452       3359     5.0      1  2013-07-06   \n",
       "571003  195189       4743     5.0      1  2012-09-06   \n",
       "\n",
       "                                                   review  \n",
       "9561    Sabarsky is much prettier and perhaps a bit le...  \n",
       "57709   One of my favorite Bistros in NYC, very Parisi...  \n",
       "133513  You think I won't do it? I said as I looked up...  \n",
       "160619  You gonna fight me over pizza ??? Some cheese ...  \n",
       "216676  Small quaint local place. Opposite of a chain ...  \n",
       "278005  From outside he never suspect that this is suc...  \n",
       "508123  Love this spot! Stuck in a hotel while our hou...  \n",
       "548117  Lexi is super efficient if you lack creativity...  \n",
       "571003  I've been coming here for years. It's def my g...  "
      ]
     },
     "execution_count": 24,
     "metadata": {},
     "output_type": "execute_result"
    }
   ],
   "source": [
    "big_reviews_index = all_words.loc[all_words.values > 1000].index\n",
    "big_reviews = merged_zip.filter(items=big_reviews_index, axis=0)\n",
    "big_reviews"
   ]
  },
  {
   "cell_type": "code",
   "execution_count": 25,
   "metadata": {},
   "outputs": [
    {
     "data": {
      "text/html": [
       "<div>\n",
       "<style scoped>\n",
       "    .dataframe tbody tr th:only-of-type {\n",
       "        vertical-align: middle;\n",
       "    }\n",
       "\n",
       "    .dataframe tbody tr th {\n",
       "        vertical-align: top;\n",
       "    }\n",
       "\n",
       "    .dataframe thead th {\n",
       "        text-align: right;\n",
       "    }\n",
       "</style>\n",
       "<table border=\"1\" class=\"dataframe\">\n",
       "  <thead>\n",
       "    <tr style=\"text-align: right;\">\n",
       "      <th></th>\n",
       "      <th>userID</th>\n",
       "      <th>productID</th>\n",
       "      <th>rating</th>\n",
       "      <th>label</th>\n",
       "      <th>date</th>\n",
       "      <th>review</th>\n",
       "    </tr>\n",
       "  </thead>\n",
       "  <tbody>\n",
       "    <tr>\n",
       "      <th>525</th>\n",
       "      <td>5569</td>\n",
       "      <td>7</td>\n",
       "      <td>4.0</td>\n",
       "      <td>1</td>\n",
       "      <td>2013-02-02</td>\n",
       "      <td>-</td>\n",
       "    </tr>\n",
       "    <tr>\n",
       "      <th>788</th>\n",
       "      <td>5832</td>\n",
       "      <td>9</td>\n",
       "      <td>1.0</td>\n",
       "      <td>-1</td>\n",
       "      <td>2014-07-08</td>\n",
       "      <td>EUH!</td>\n",
       "    </tr>\n",
       "    <tr>\n",
       "      <th>826</th>\n",
       "      <td>5870</td>\n",
       "      <td>9</td>\n",
       "      <td>1.0</td>\n",
       "      <td>-1</td>\n",
       "      <td>2013-09-07</td>\n",
       "      <td>ehh</td>\n",
       "    </tr>\n",
       "    <tr>\n",
       "      <th>833</th>\n",
       "      <td>5877</td>\n",
       "      <td>9</td>\n",
       "      <td>1.0</td>\n",
       "      <td>-1</td>\n",
       "      <td>2013-08-08</td>\n",
       "      <td>Dirty</td>\n",
       "    </tr>\n",
       "    <tr>\n",
       "      <th>939</th>\n",
       "      <td>5983</td>\n",
       "      <td>9</td>\n",
       "      <td>2.0</td>\n",
       "      <td>-1</td>\n",
       "      <td>2014-09-17</td>\n",
       "      <td>Overpriced!!!!!!!!!</td>\n",
       "    </tr>\n",
       "    <tr>\n",
       "      <th>...</th>\n",
       "      <td>...</td>\n",
       "      <td>...</td>\n",
       "      <td>...</td>\n",
       "      <td>...</td>\n",
       "      <td>...</td>\n",
       "      <td>...</td>\n",
       "    </tr>\n",
       "    <tr>\n",
       "      <th>604123</th>\n",
       "      <td>67857</td>\n",
       "      <td>1955</td>\n",
       "      <td>5.0</td>\n",
       "      <td>-1</td>\n",
       "      <td>2013-01-18</td>\n",
       "      <td>superb</td>\n",
       "    </tr>\n",
       "    <tr>\n",
       "      <th>604416</th>\n",
       "      <td>264020</td>\n",
       "      <td>1955</td>\n",
       "      <td>5.0</td>\n",
       "      <td>1</td>\n",
       "      <td>2011-04-01</td>\n",
       "      <td>:)</td>\n",
       "    </tr>\n",
       "    <tr>\n",
       "      <th>605571</th>\n",
       "      <td>264378</td>\n",
       "      <td>3487</td>\n",
       "      <td>1.0</td>\n",
       "      <td>-1</td>\n",
       "      <td>2012-08-22</td>\n",
       "      <td>Closed</td>\n",
       "    </tr>\n",
       "    <tr>\n",
       "      <th>606309</th>\n",
       "      <td>264649</td>\n",
       "      <td>5025</td>\n",
       "      <td>5.0</td>\n",
       "      <td>1</td>\n",
       "      <td>2012-11-19</td>\n",
       "      <td>Awesome!</td>\n",
       "    </tr>\n",
       "    <tr>\n",
       "      <th>607412</th>\n",
       "      <td>114836</td>\n",
       "      <td>4260</td>\n",
       "      <td>5.0</td>\n",
       "      <td>1</td>\n",
       "      <td>2013-05-03</td>\n",
       "      <td>Delish</td>\n",
       "    </tr>\n",
       "  </tbody>\n",
       "</table>\n",
       "<p>948 rows × 6 columns</p>\n",
       "</div>"
      ],
      "text/plain": [
       "        userID  productID  rating  label        date               review\n",
       "525       5569          7     4.0      1  2013-02-02                    -\n",
       "788       5832          9     1.0     -1  2014-07-08                 EUH!\n",
       "826       5870          9     1.0     -1  2013-09-07                  ehh\n",
       "833       5877          9     1.0     -1  2013-08-08                Dirty\n",
       "939       5983          9     2.0     -1  2014-09-17  Overpriced!!!!!!!!!\n",
       "...        ...        ...     ...    ...         ...                  ...\n",
       "604123   67857       1955     5.0     -1  2013-01-18               superb\n",
       "604416  264020       1955     5.0      1  2011-04-01                   :)\n",
       "605571  264378       3487     1.0     -1  2012-08-22               Closed\n",
       "606309  264649       5025     5.0      1  2012-11-19             Awesome!\n",
       "607412  114836       4260     5.0      1  2013-05-03               Delish\n",
       "\n",
       "[948 rows x 6 columns]"
      ]
     },
     "execution_count": 25,
     "metadata": {},
     "output_type": "execute_result"
    }
   ],
   "source": [
    "one_words_index = all_words.loc[all_words.values == 1].index\n",
    "one_word_reviews = merged_zip.filter(items=one_words_index, axis=0)\n",
    "one_word_reviews"
   ]
  },
  {
   "cell_type": "markdown",
   "metadata": {},
   "source": [
    "We can create a vocabulary to understand what kind of words there are in the lexicon in case of one word reviews"
   ]
  },
  {
   "cell_type": "code",
   "execution_count": 26,
   "metadata": {},
   "outputs": [],
   "source": [
    "from tqdm import tqdm\n",
    "\n",
    "tqdm.pandas()"
   ]
  },
  {
   "cell_type": "code",
   "execution_count": 27,
   "metadata": {},
   "outputs": [],
   "source": [
    "def build_vocabulary(sentences, verbose=True):\n",
    "    \"\"\"\n",
    "    :param sentences: list of list of words\n",
    "    :return: dictionary of words and their count\n",
    "    \"\"\"\n",
    "    vocabulary = {}\n",
    "    for sentence in tqdm(sentences, disable=(not verbose)):\n",
    "        for word in sentence:\n",
    "            try:\n",
    "                vocabulary[word] += 1\n",
    "            except KeyError:\n",
    "                vocabulary[word] = 1\n",
    "    return vocabulary"
   ]
  },
  {
   "cell_type": "code",
   "execution_count": 28,
   "metadata": {},
   "outputs": [
    {
     "name": "stderr",
     "output_type": "stream",
     "text": [
      "100%|██████████| 948/948 [00:00<00:00, 63159.40it/s]\n",
      "100%|██████████| 948/948 [00:00<00:00, 211725.25it/s]"
     ]
    },
    {
     "name": "stdout",
     "output_type": "stream",
     "text": [
      ". 32\n",
      "good 26\n",
      "Delicious! 23\n",
      "Great 17\n",
      "Awesome 16\n",
      "Excellent! 12\n",
      "Yum! 12\n",
      "Awesome! 12\n",
      "Good 11\n",
      "great 11\n",
      "amazing 11\n",
      "delicious! 11\n",
      "Ok 11\n",
      "Delicious 11\n",
      "Amazing! 10\n",
      "yum 10\n",
      ":) 9\n",
      "awesome 8\n",
      "Excellent 8\n",
      "Yummy 8\n",
      "ok 8\n",
      "Great! 7\n",
      "Excellent. 7\n",
      "Delicious. 7\n",
      "Yum. 7\n",
      "Meh. 6\n",
      "delicious 6\n",
      "amazing! 6\n",
      "Amazing 6\n",
      "YUM! 5\n",
      "Awesome!!! 5\n",
      "yummy 4\n",
      "Yummy! 4\n",
      "GREAT 4\n",
      "Amazing!!! 4\n",
      "Perfect. 4\n",
      "Amazing. 4\n",
      "Awesome. 4\n",
      "Good. 4\n",
      "meh 4\n",
      "Overrated. 4\n",
      "excellent 4\n",
      "- 3\n",
      "Perfection. 3\n",
      "perfect 3\n",
      "a 3\n",
      "fantastic 3\n",
      "yum! 3\n",
      "Excellent!! 3\n",
      "Amazing!! 3\n",
      "Great. 3\n",
      ".. 3\n",
      ";) 3\n",
      "Fantastic! 3\n",
      "yummy! 3\n",
      "Outstanding. 3\n",
      "Delicious!!! 3\n",
      "Yum 3\n",
      "A+ 3\n",
      "overrated 3\n",
      "Favorite! 3\n",
      "Ugh 2\n",
      "Bravo! 2\n",
      "Brunch! 2\n",
      "Delicious!!!! 2\n",
      "Yuck 2\n",
      "I 2\n",
      "Disappointed 2\n",
      "! 2\n",
      "Phenomenal. 2\n",
      ":( 2\n",
      "YES 2\n",
      "perfection 2\n",
      "Yum!! 2\n",
      "love 2\n",
      "GREAT! 2\n",
      "Duh. 2\n",
      "Lovely! 2\n",
      "LOVE 2\n",
      "Cool 2\n",
      "Mmmm 2\n",
      "Sucks 2\n",
      "nice 2\n",
      "overrated! 2\n",
      "h 2\n",
      "Food 2\n",
      "A 2\n",
      "solid. 2\n",
      "yum. 2\n",
      "Love! 2\n",
      "Awesomeness 2\n",
      "N 2\n",
      "Yummy!! 2\n",
      "Nice! 2\n",
      "Fantastic!!! 2\n",
      "awesome! 2\n",
      "Classic. 2\n",
      "Awesome!! 2\n",
      "Good! 2\n",
      "amazing. 2\n",
      "Underwhelming 2\n",
      "Closed 2\n",
      "crack. 2\n",
      "Classic 2\n",
      "Good!! 2\n",
      "Yummy. 2\n",
      "Yay 2\n",
      "Best. 2\n",
      "Disappointing 2\n",
      "Excellent!!! 2\n",
      "YUMMY 2\n",
      "Yuck. 2\n",
      "Incredible! 2\n",
      "... 2\n",
      "delish 2\n",
      "Love. 2\n",
      "Flawless. 2\n",
      "yumm 2\n",
      "excellent! 2\n",
      ".... 2\n",
      "eh. 2\n",
      "EUH! 1\n",
      "ehh 1\n",
      "Dirty 1\n",
      "Overpriced!!!!!!!!! 1\n",
      "greasy. 1\n",
      "a-OK 1\n",
      "avoid 1\n",
      "Pats 1\n",
      "............racists... 1\n",
      "steakumm.com/steaks.htm 1\n",
      "YUCK! 1\n",
      "第一次来费城，看到评价很高就来了，结果。。。。发自内心的说一句，特别特别不适合中国人的口味，千万别来­吃啊！！！！面包硬的挑战你的口腔，各种奇怪的意式酱真的。。。总之，同行的朋友都没怎么吃！不过估计外国­人特别享受吧，他们应该很喜欢！ 1\n",
      "Fancy 1\n",
      "planetprinceton.com/2014… 1\n",
      "Great!!!!!!!! 1\n",
      "nom 1\n",
      "Romantic! 1\n",
      "ugh 1\n",
      "Ex 1\n",
      "Best 1\n",
      "Aaaaaaaaaaaaaaaasaaaaaaaaaammmmmmmmmmmmmaaaaaaaaaa­aaaazzzzzzzziiiiiiiiinnnnnnnnngggggggggggggg!!!!!!­! 1\n",
      "Test 1\n",
      "Re-Opened! 1\n",
      "Mmm. 1\n",
      "Perfection 1\n",
      "delicious. 1\n",
      "Blech 1\n",
      "Salty. 1\n",
      "Nasty. 1\n",
      "Blah 1\n",
      "fabulous! 1\n",
      "Fun!! 1\n",
      "Perfect 1\n",
      "youtube.com/watch?v=xOdn… 1\n",
      "Adore. 1\n",
      "meh... 1\n",
      "X 1\n",
      "osewaninattemasu 1\n",
      "heaven!!!!! 1\n",
      "Solid. 1\n",
      "Go. 1\n",
      "Pantastic! 1\n",
      ".yes 1\n",
      "Delish! 1\n",
      "Mmmmmmmmmmmmmmm. 1\n",
      "I'm 1\n",
      "Amazing!!!!!!!! 1\n",
      "horrible! 1\n",
      "Yakitori...Tori...Tori... 1\n",
      "YUM 1\n",
      "overpriced.... 1\n",
      "fantastic! 1\n",
      "BREAD!!!!!!!!!!!!!!!!!!!!!! 1\n",
      "Heavanly 1\n",
      "Simply...yum. 1\n",
      "biscuits 1\n",
      "heavenly. 1\n",
      "Divine. 1\n",
      "Legit 1\n",
      "yummy!!!! 1\n",
      "Ole 1\n",
      "NOPE 1\n",
      "lifeless. 1\n",
      "J 1\n",
      "Awesome!!!!!!!!!!!!!!!Awesome!!!!!!!!!!!!!!!­Awesome!!!!!!!!!!!!!!!Awesome!!!!!!!!!!!!!!!­Awesome!!!!!!!!!!!!!!!Awesome!!!!!!!!!!!!!!!­Awesome!!!!!!!!!!!!!!!Awesome!!!!!!!!!!!!!!!­Awesome!!!!!!!!!!!!!!!Awesome!!!!!!!!!!!!!!!­Awesome!!!!!!!!!!!!!!!Awesome!!!!!!!!!!!!!!!­Awesome!!!!!!!!!!!!!!!Awesome!!!!!!!!!!!!!!!­Awesome!!!!!!!!!!!!!!!Awesome!!!!!!!!!!!!!!!­Awesome!!!!!!!!!!!!!!!Awesome!!!!!!!!!!!!!!!­Awesome!!!!!!!!!!!!!!!Awesome!!!!!!!!!!!!!!!­Awesome!!!!!!!!!!!!!!!Awesome!!!!!!!!!!!!!!!­Awesome!!!!!!!!!!!!!!!Awesome!!!!!!!!!!!!!!!­Awesome!!!!!!!!!!!!!!!Awesome!!!!!!!!!!!!!!!­Awesome!!!!!!!!!!!!!!!Awesome!!!!!!!!!!!!!!!­Awesome!!!!!!!!!!!!!!!Awesome!!!!!!!!!!!!!!!­Awesome!!!!!!!!!!!!!!!Awesome!!!!!!!!!!!!!!!­Awesome!!!!!!!!!!!!!!!Awesome!!!!!!!!!!!!!!!­Awesome!!!!!!!!!!!!!!!Awesome!!!!!!!!!!!!!!!­Awesome!!!!!!!!!!!!!!!Awesome!!!!!!!!!!!!!!!­Awesome!!!!!!!!!!!!!!!Awesome!!!!!!!!!!!!!!!­Awesome!!!!!!!!!!!!!!!Awesome!!!!!!!!!!!!!!!­Awesome!!!!!!!!!!!!!!!Awesome!!!!!!!!!!!!!!!­Awesome!!!!!!!!!!!!!!!Awesome!!!!!!!!!!!!!!!­Awesome!!!!!!!!!!!!!!!Awesome!!!!!!!!!!!!!!!­Awesome!!!!!!!!!!!!!!!Awesome!!!!!!!!!!!!!!!­Awesome!!!!!!!!!!!!!!!Awesome!!!!!!!!!!!!!!!­Awesome!!!!!!!!!!!!!!!Awesome!!!!!!!!!!!!!!!­Awesome!!!!!!!!!!!!!!!Awesome!!!!!!!!!!!!!!!­Awesome!!!!!!!!!!!!!!!Awesome!!!!!!!!!!!!!!!­Awesome!!!!!!!!!!!!!!!Awesome!!!!!!!!!!!!!!!­Awesome!!!!!!!!!!!!!!!Awesome!!!!!!!!!!!!!!!­Awesome!!!!!!!!!!!!!!!Awesome!!!!!!!!!!!!!!!­Awesome!!!!!!!!!!!!!!!Awesome!!!!!!!!!!!!!!!­Awesome!!!!!!!!!!!!!!!Awesome!!!!!!!!!!!!!!!­Awesome!!!!!!!!!!!!!!!Awesome!!!!!!!!!!!!!!!­Awesome!!!!!!!!!!!!!!!Awesome!!!!!!!!!!!!!!! 1\n",
      "my 1\n",
      "Horrible! 1\n",
      "Standard 1\n",
      "Insane!!! 1\n",
      "magnificent!!! 1\n",
      "dickheads. 1\n",
      "salty. 1\n",
      "Soso 1\n",
      "couscous! 1\n",
      "Great, 1\n",
      "Tartufata!!!! 1\n",
      "yummy!!1 1\n",
      "cold. 1\n",
      "Tremendous. 1\n",
      "Delisshhhhhh! 1\n",
      "Bruh... 1\n",
      "nevermind. 1\n",
      "Typical. 1\n",
      "Garbage!!!!!! 1\n",
      "Dope. 1\n",
      "tasty 1\n",
      "Deals 1\n",
      "Cheesyyyypoooffs! 1\n",
      "hipstercheesepuffscokieswilliamsburghipsterbikesco­nnectfourjengabeerkozymetaldrinkdealsfratboyhipste­rcheesepuffcokefixies 1\n",
      "Pierogis!!!! 1\n",
      "Sublime 1\n",
      "Delious! 1\n",
      "................ 1\n",
      "??? 1\n",
      "Delicious!!!!!!!! 1\n",
      "Recommend. 1\n",
      "love!!! 1\n",
      "decent 1\n",
      ":P 1\n",
      "expensive 1\n",
      "fun 1\n",
      "Yahhhhzzzz 1\n",
      "mmmmmmmmmmmmmm. 1\n",
      "eh... 1\n",
      "Yes! 1\n",
      "average 1\n",
      "Fantastical! 1\n",
      "Mmmmmmmmmmmmmmmmmmmmmm 1\n",
      "Frankies!!!!! 1\n",
      "A-OK. 1\n",
      "Great..... 1\n",
      "f 1\n",
      "superb!! 1\n",
      "Overhyped 1\n",
      "Wow. 1\n",
      "BYOB 1\n",
      "Solid 1\n",
      "Kambi 1\n",
      "ippudo 1\n",
      "Aazing! 1\n",
      "nice! 1\n",
      "Fresh! 1\n",
      "duh. 1\n",
      "divine! 1\n",
      "Bomb 1\n",
      "Corn. 1\n",
      "awesome!!!! 1\n",
      "Burger! 1\n",
      "Closed! 1\n",
      "nbcphiladelphia.com/show… 1\n",
      "刚从纽约旅行来到费城，一路上肚子饿得两眼冒星。查yelp就看到这个东北大烤串，就想起了大连的烧烤。­yelp上面的地址是错误的，其实就是反方向，还好电话没变,打电话就问到了具体地址。老板和老板娘人超赞­的，老板娘跟我一样是东北人，看着就呆人亲啊，烤串也不错，果然不辜负我期望啊。下次来费城我一定会再来吃­！ 1\n",
      "heaaaaaaven! 1\n",
      "addicted 1\n",
      "a-m-a-z-i-n-g 1\n",
      "yayyayyayayyayayyayyayyay 1\n",
      "racist. 1\n",
      "Dee-LI-Cious!!!!! 1\n",
      "nice!!!!!!!!!!!!!!!!!!!!!!!!! 1\n",
      "incredible! 1\n",
      "Addicted!!!! 1\n",
      "shhhhhhhhhhhhhhh 1\n",
      "overrated... 1\n",
      "Phenomenal! 1\n",
      "super!!! 1\n",
      "best.falafel.ever. 1\n",
      "Shawarma!!! 1\n",
      "Mmmmmmmmmmmmmmmmmmmmmmmm. 1\n",
      "WOW 1\n",
      "Cooool 1\n",
      "Fabulosa! 1\n",
      "!!!! 1\n",
      "adsfasdfsdfdsfsd 1\n",
      "recommendation! 1\n",
      "Pizza!!! 1\n",
      "Mediocre. 1\n",
      "yummmmmm 1\n",
      "Delicioso!!!!!! 1\n",
      "Tasty. 1\n",
      "Citgo 1\n",
      "...incredible. 1\n",
      "Gg 1\n",
      "soulful 1\n",
      "GREat!! 1\n",
      "Sabich. 1\n",
      "Wheat+Falafel+Everything+Spicy=Delicious! 1\n",
      "Outstanding 1\n",
      "LOVE. 1\n",
      "Disappointed.. 1\n",
      "Classic! 1\n",
      "Saucy 1\n",
      "Epic! 1\n",
      "High 1\n",
      "best...pizza...ever 1\n",
      "Love 1\n",
      "......Hello 1\n",
      "A-Ok 1\n",
      "Fantastic. 1\n",
      "gangster. 1\n",
      "yep. 1\n",
      "Fun 1\n",
      "Awesome.. 1\n",
      "Woohoo 1\n",
      "Fantastic 1\n",
      "beesting! 1\n",
      "yummy. 1\n",
      "newhaveneatsit.blogspot.… 1\n",
      "Good!!! 1\n",
      "Cliche 1\n",
      "b 1\n",
      "*** 1\n",
      "Puuuurfect! 1\n",
      "Lunch 1\n",
      "standard. 1\n",
      "obsessed! 1\n",
      "Adorable! 1\n",
      "Amazing!!!! 1\n",
      "Hello 1\n",
      "okay 1\n",
      "Nummy. 1\n",
      "fresh...delicious...word. 1\n",
      "first-rate 1\n",
      "excellent. 1\n",
      "amazing!!! 1\n",
      "yes 1\n",
      "incredible. 1\n",
      "dfgfd 1\n",
      "Bliss. 1\n",
      "thanks 1\n",
      "disapointing. 1\n",
      "Speechless 1\n",
      "heaven! 1\n",
      "taste 1\n",
      "ummm......azingg!!! 1\n",
      "shopkickbarcodess.com/sh… 1\n",
      "5 1\n",
      "yessss 1\n",
      "Mmmmmmmmm. 1\n",
      "best! 1\n",
      "generic 1\n",
      "mmmmmmm 1\n",
      "WOW! 1\n",
      "perfection. 1\n",
      "blah 1\n",
      "Sushi! 1\n",
      "yes!!!!!!!!!!! 1\n",
      "Correction 1\n",
      "Fair. 1\n",
      "#fuckingsolid 1\n",
      "LEGIT! 1\n",
      "Tiny! 1\n",
      "Yummmm 1\n",
      "Deelicious. 1\n",
      "yummy!!!!!!!!!!!!!!!!!! 1\n",
      "DIN. 1\n",
      "Wow! 1\n",
      "best.meal.ever. 1\n",
      "Eh. 1\n",
      "eh 1\n",
      "Yikes 1\n",
      "college 1\n",
      "Excellent!!!! 1\n",
      "socialtimes.com/top-yout… 1\n",
      "Heaven! 1\n",
      "ssssssssss 1\n",
      "S'gucci. 1\n",
      "Nice 1\n",
      "the.best.diner.ever. 1\n",
      "teasey 1\n",
      "店内は手前がBARスペースとなっており、席が空くまでお酒が飲めます。メニューは日本食全般揃っており、­もちろんラーメンもあります。夜の店内の雰囲気は音楽がガンガン流れており、ラーメン屋というよりパブかク­ラブです。肝心のラーメンの味は日本とほぼ同じで美味しいです。 1\n",
      "amazingggggg 1\n",
      "oishii 1\n",
      "great! 1\n",
      "Yummmmmmmmm 1\n",
      "wonderful! 1\n",
      "Ramen! 1\n",
      "Ramen 1\n",
      "good. 1\n",
      "Dirty! 1\n",
      "Yes 1\n",
      "addicted. 1\n",
      "list 1\n",
      "Overrated 1\n",
      "dig! 1\n",
      "love.love.love.love.love.love.love.love.love 1\n",
      "=) 1\n",
      "youtube.com/watch?v=aeF9… 1\n",
      "mmmmmaaaaaaaaaaannnnnnnnnnnggggggggggooooooo!!!!! 1\n",
      "Nirvana. 1\n",
      "Blech! 1\n",
      "lovely 1\n",
      "classic 1\n",
      "deeeeeeelicious! 1\n",
      "best 1\n",
      "no 1\n",
      "crap 1\n",
      "tasty. 1\n",
      "noita 1\n",
      "nope 1\n",
      "ew 1\n",
      "Tourists. 1\n",
      "loveeeee 1\n",
      "Chips 1\n",
      "brunch!! 1\n",
      "sucks 1\n",
      "Yumm! 1\n",
      "bffft 1\n",
      "outstanding 1\n",
      "Rippers!!!! 1\n",
      "Fabulous!! 1\n",
      "boringmac.com/2011/11/he… 1\n",
      "Wonderful 1\n",
      "Nom 1\n",
      "qoomui.wordpress.com/201… 1\n",
      "Great!! 1\n",
      "我反正吃到了我以前电视里或者梦想中的brunch！强烈推荐来这里！不过生意太好了！！推荐他家的店名同­款的brunch和一个可颂，里面是芝士加牛肉的也特别好吃！棒！最好早点去，我发现周围的人都特别勤快，­店面很小得仔细找找，水和纸巾都是自己拿。 1\n",
      "youtube.com/watch?v=KNZH… 1\n",
      "A-OK 1\n",
      "overrated.crowded. 1\n",
      "Obsessed. 1\n",
      "excellent!! 1\n",
      "Yes. 1\n",
      "Zeppnollis 1\n",
      "DANK. 1\n",
      "Lovely. 1\n",
      "Bland. 1\n",
      "Awesome!!!! 1\n",
      "Awesome!!!!!!!!!!!! 1\n",
      "Meat! 1\n",
      "Wow!!! 1\n",
      "homophobic 1\n",
      "great!!! 1\n",
      "awesome!!! 1\n",
      "swoon 1\n",
      "Yummmmn 1\n",
      "Delicious... 1\n",
      "Meh 1\n",
      "Wajima 1\n",
      "Decent. 1\n",
      "Flawless 1\n",
      "Yeah 1\n",
      "Scrumptious. 1\n",
      "convenient 1\n",
      "Eh 1\n",
      "YUMM 1\n",
      "Yumminess! 1\n",
      "Bad. 1\n",
      "Awesomeeeeeeee! 1\n",
      "Amazing!!!!!! 1\n",
      "Yawp. 1\n",
      "shit 1\n",
      "stinks 1\n",
      "Horrible 1\n",
      "disgusting 1\n",
      "overrated!!! 1\n",
      ".................. 1\n",
      "? 1\n",
      "いつも長蛇の列が出来てますが、それ程待たされません。順番がきたらチキンオーバーライスと告げ$6払うと­一瞬で料理が出て来ます。ソースは自分でかけます。ホワイトソースが凄く美味しいです(チリソースはかなり­辛いので注意)。羊肉が大丈夫な人はMixもオススメ。サフランライスの上にレタスと肉が乗っておりその上­にパンのようなものが乗っています。量は特盛クラス、日本からの女性なら2人で一つでも良いかもしれません­。 1\n",
      "Yum!!!! 1\n",
      "awesom 1\n",
      "Yum.Yum. 1\n",
      "Fan! 1\n",
      "beautiful 1\n",
      "inFUCKINcredible 1\n",
      "mint 1\n",
      "Yummers! 1\n",
      "delux 1\n",
      "Fab! 1\n",
      "mmmmmm 1\n",
      "amazing!!!! 1\n",
      "Unbelievable. 1\n",
      "amazinggggggg 1\n",
      "Yay! 1\n",
      "Perfect! 1\n",
      "Yup. 1\n",
      "meat. 1\n",
      "Ok. 1\n",
      "mmmm 1\n",
      "Fantabulous 1\n",
      "eeeeeeeeeeeeeeepppppiiiiiiiiiiiiiiiiiicccccccccccc­ccccccccccccccccccccccccccccccccccccccccccccccccc 1\n",
      "Yeah. 1\n",
      "noooooooooooo 1\n",
      "yummmmmy 1\n",
      "Dellliiiissshhhh 1\n",
      "Overhyped. 1\n",
      "Crave. 1\n",
      "Wow!!!! 1\n",
      "レビューを書き始める... 1\n",
      "woo 1\n",
      "thanks! 1\n",
      "superb! 1\n",
      "MLC. 1\n",
      "Average 1\n",
      "deeelicious. 1\n",
      "best.sammys.ever 1\n",
      "LEGIT 1\n",
      "go!! 1\n",
      "Yep 1\n",
      "YUM. 1\n",
      "divamomsnyc.wordpress.co… 1\n",
      "Incredible 1\n",
      "Fabulous! 1\n",
      "Heaven!!! 1\n",
      "GEM. 1\n",
      "quality 1\n",
      "Best.Best.Best.Best.Best.Best.Best.Best.Best.Best.­Best.Best.Best.Best.Best.Best.Best.Best.Best.Best.­Best.Best.Best.Best.Best.Best.Best.Best.Best.Best.­Best.Best.Best.Best.Best.Best.Best.Best.Best.Best.­Best.Best.Best.Best.Best.Best.Best.Best.Best.Best.­Best.Best.Best.Best.Best.Best.Best.Best.Best. 1\n",
      "o-v-e-r-r-a-t-e-d 1\n",
      "superb 1\n",
      "Delish 1\n"
     ]
    },
    {
     "name": "stderr",
     "output_type": "stream",
     "text": [
      "\n"
     ]
    }
   ],
   "source": [
    "sentences = one_word_reviews[\"review\"].progress_apply(lambda x: x.split()).values\n",
    "vocabulary = build_vocabulary(sentences)\n",
    "\n",
    "for word in sorted(vocabulary, key=vocabulary.get, reverse=True):\n",
    "    print(word, vocabulary[word])"
   ]
  },
  {
   "cell_type": "markdown",
   "metadata": {},
   "source": [
    "Look what is the label distribution for one word reviews"
   ]
  },
  {
   "cell_type": "code",
   "execution_count": 29,
   "metadata": {},
   "outputs": [
    {
     "data": {
      "text/plain": [
       " 1    661\n",
       "-1    287\n",
       "Name: label, dtype: int64"
      ]
     },
     "execution_count": 29,
     "metadata": {},
     "output_type": "execute_result"
    }
   ],
   "source": [
    "label_counts = one_word_reviews.label.value_counts()\n",
    "label_counts"
   ]
  },
  {
   "cell_type": "markdown",
   "metadata": {},
   "source": [
    "Drop extremely large reviews since those are unlikely in production"
   ]
  },
  {
   "cell_type": "code",
   "execution_count": 30,
   "metadata": {},
   "outputs": [],
   "source": [
    "# merged_zip = merged_zip.drop(index=one_words_index)\n",
    "merged_zip = merged_zip.drop(index=big_reviews_index)"
   ]
  },
  {
   "cell_type": "markdown",
   "metadata": {},
   "source": [
    "Delete all the urls, Chinese charachters, and one charachter reviews"
   ]
  },
  {
   "cell_type": "code",
   "execution_count": 31,
   "metadata": {},
   "outputs": [],
   "source": [
    "merged_zip_copy = merged_zip.copy()"
   ]
  },
  {
   "cell_type": "code",
   "execution_count": 32,
   "metadata": {},
   "outputs": [],
   "source": [
    "merged_zip_copy[\"review\"] = merged_zip_copy[\"review\"].replace(\n",
    "    to_replace=\"[\\u4E00-\\u9FA5]\", value=\"\", regex=True\n",
    ")"
   ]
  },
  {
   "cell_type": "code",
   "execution_count": 33,
   "metadata": {},
   "outputs": [],
   "source": [
    "merged_zip_copy[\"review\"] = merged_zip_copy[\"review\"].replace(\n",
    "    to_replace=r\"(https?:\\/\\/)?([\\da-z\\.-]+)\\.([a-z\\.]{2,6})([\\/\\w \\.-]*)\",\n",
    "    value=\"\",\n",
    "    regex=True,\n",
    ")"
   ]
  },
  {
   "cell_type": "code",
   "execution_count": 34,
   "metadata": {},
   "outputs": [],
   "source": [
    "matched_reviews = merged_zip_copy[merged_zip_copy[\"review\"].str.match(r\"[A-Za-z]+\")]"
   ]
  },
  {
   "cell_type": "code",
   "execution_count": 35,
   "metadata": {},
   "outputs": [
    {
     "name": "stdout",
     "output_type": "stream",
     "text": [
      "600570\n"
     ]
    }
   ],
   "source": [
    "merged_zip = matched_reviews[matched_reviews[\"review\"].map(len) > 1]\n",
    "print(len(merged_zip.index))"
   ]
  },
  {
   "cell_type": "markdown",
   "metadata": {},
   "source": [
    "### Get Final Statistics"
   ]
  },
  {
   "cell_type": "code",
   "execution_count": 37,
   "metadata": {},
   "outputs": [],
   "source": [
    "all_words_new = merged_zip.review.str.split().str.len()\n",
    "all_charc_new = merged_zip.review.str.len()"
   ]
  },
  {
   "cell_type": "code",
   "execution_count": 38,
   "metadata": {},
   "outputs": [
    {
     "data": {
      "image/png": "[encoded data removed]",
      "text/plain": [
       "<Figure size 864x648 with 1 Axes>"
      ]
     },
     "metadata": {},
     "output_type": "display_data"
    }
   ],
   "source": [
    "plt.figure(figsize=FIG_SIZE)\n",
    "sns.distplot(all_words_new)\n",
    "plt.xlabel(\"Review Length\")\n",
    "plt.title(\"Distribution of Review Lengths\")\n",
    "plt.show()"
   ]
  },
  {
   "cell_type": "code",
   "execution_count": 39,
   "metadata": {},
   "outputs": [],
   "source": [
    "mean_review_length = all_words_new.mean()\n",
    "min_review_length = all_words_new.min()\n",
    "max_review_length = all_words_new.max()\n",
    "median_review_length = all_words_new.median()\n",
    "exceeding_count = len(all_words_new.loc[all_words_new.values > 512].index)\n",
    "entries_count = len(all_words_new.index)"
   ]
  },
  {
   "cell_type": "code",
   "execution_count": 40,
   "metadata": {},
   "outputs": [
    {
     "name": "stdout",
     "output_type": "stream",
     "text": [
      "Review Statistics (counting words) - \n",
      "\n",
      "Median Length: 83.00\n",
      "Mean Length: 112.23\n",
      "Max Lenght: 978.00\n",
      "Min Length: 1.00\n",
      "Exceeding Ratio: 0.94%\n"
     ]
    }
   ],
   "source": [
    "print(\n",
    "    \"Review Statistics (counting words) - \\n\\nMedian Length: {:.2f}\\nMean Length: {:.2f}\\nMax Lenght: {:.2f}\\nMin Length: {:.2f}\\nExceeding Ratio: {:.2f}%\".format(\n",
    "        median_review_length,\n",
    "        mean_review_length,\n",
    "        max_review_length,\n",
    "        min_review_length,\n",
    "        exceeding_count / entries_count * 100,\n",
    "    )\n",
    ")"
   ]
  },
  {
   "cell_type": "code",
   "execution_count": 41,
   "metadata": {},
   "outputs": [],
   "source": [
    "merged_zip_analysis = merged_zip.copy()"
   ]
  },
  {
   "cell_type": "code",
   "execution_count": 42,
   "metadata": {},
   "outputs": [],
   "source": [
    "merged_zip_analysis[\"char length\"] = all_charc_new\n",
    "merged_zip_analysis[\"word length\"] = all_words_new"
   ]
  },
  {
   "cell_type": "code",
   "execution_count": 43,
   "metadata": {},
   "outputs": [],
   "source": [
    "merged_zip_analysis[\"label\"] = merged_zip_analysis[\"label\"].replace(\n",
    "    to_replace=-1, value=\"fake\"\n",
    ")\n",
    "merged_zip_analysis[\"label\"] = merged_zip_analysis[\"label\"].replace(\n",
    "    to_replace=1, value=\"real\"\n",
    ")"
   ]
  },
  {
   "cell_type": "code",
   "execution_count": 44,
   "metadata": {},
   "outputs": [
    {
     "data": {
      "text/html": [
       "<div>\n",
       "<style scoped>\n",
       "    .dataframe tbody tr th:only-of-type {\n",
       "        vertical-align: middle;\n",
       "    }\n",
       "\n",
       "    .dataframe tbody tr th {\n",
       "        vertical-align: top;\n",
       "    }\n",
       "\n",
       "    .dataframe thead tr th {\n",
       "        text-align: left;\n",
       "    }\n",
       "\n",
       "    .dataframe thead tr:last-of-type th {\n",
       "        text-align: right;\n",
       "    }\n",
       "</style>\n",
       "<table border=\"1\" class=\"dataframe\">\n",
       "  <thead>\n",
       "    <tr>\n",
       "      <th></th>\n",
       "      <th colspan=\"8\" halign=\"left\">word length</th>\n",
       "      <th colspan=\"8\" halign=\"left\">char length</th>\n",
       "    </tr>\n",
       "    <tr>\n",
       "      <th></th>\n",
       "      <th>count</th>\n",
       "      <th>mean</th>\n",
       "      <th>std</th>\n",
       "      <th>min</th>\n",
       "      <th>25%</th>\n",
       "      <th>50%</th>\n",
       "      <th>75%</th>\n",
       "      <th>max</th>\n",
       "      <th>count</th>\n",
       "      <th>mean</th>\n",
       "      <th>std</th>\n",
       "      <th>min</th>\n",
       "      <th>25%</th>\n",
       "      <th>50%</th>\n",
       "      <th>75%</th>\n",
       "      <th>max</th>\n",
       "    </tr>\n",
       "    <tr>\n",
       "      <th>label</th>\n",
       "      <th></th>\n",
       "      <th></th>\n",
       "      <th></th>\n",
       "      <th></th>\n",
       "      <th></th>\n",
       "      <th></th>\n",
       "      <th></th>\n",
       "      <th></th>\n",
       "      <th></th>\n",
       "      <th></th>\n",
       "      <th></th>\n",
       "      <th></th>\n",
       "      <th></th>\n",
       "      <th></th>\n",
       "      <th></th>\n",
       "      <th></th>\n",
       "    </tr>\n",
       "  </thead>\n",
       "  <tbody>\n",
       "    <tr>\n",
       "      <th>fake</th>\n",
       "      <td>79842.0</td>\n",
       "      <td>84.830064</td>\n",
       "      <td>88.881273</td>\n",
       "      <td>1.0</td>\n",
       "      <td>29.0</td>\n",
       "      <td>59.0</td>\n",
       "      <td>109.0</td>\n",
       "      <td>978.0</td>\n",
       "      <td>79842.0</td>\n",
       "      <td>459.454886</td>\n",
       "      <td>479.985610</td>\n",
       "      <td>2.0</td>\n",
       "      <td>159.0</td>\n",
       "      <td>318.0</td>\n",
       "      <td>590.0</td>\n",
       "      <td>4988.0</td>\n",
       "    </tr>\n",
       "    <tr>\n",
       "      <th>real</th>\n",
       "      <td>520728.0</td>\n",
       "      <td>116.425514</td>\n",
       "      <td>105.137310</td>\n",
       "      <td>1.0</td>\n",
       "      <td>45.0</td>\n",
       "      <td>87.0</td>\n",
       "      <td>153.0</td>\n",
       "      <td>976.0</td>\n",
       "      <td>520728.0</td>\n",
       "      <td>632.561460</td>\n",
       "      <td>572.654923</td>\n",
       "      <td>2.0</td>\n",
       "      <td>248.0</td>\n",
       "      <td>470.0</td>\n",
       "      <td>831.0</td>\n",
       "      <td>5000.0</td>\n",
       "    </tr>\n",
       "  </tbody>\n",
       "</table>\n",
       "</div>"
      ],
      "text/plain": [
       "      word length                                                         \\\n",
       "            count        mean         std  min   25%   50%    75%    max   \n",
       "label                                                                      \n",
       "fake      79842.0   84.830064   88.881273  1.0  29.0  59.0  109.0  978.0   \n",
       "real     520728.0  116.425514  105.137310  1.0  45.0  87.0  153.0  976.0   \n",
       "\n",
       "      char length                                                            \n",
       "            count        mean         std  min    25%    50%    75%     max  \n",
       "label                                                                        \n",
       "fake      79842.0  459.454886  479.985610  2.0  159.0  318.0  590.0  4988.0  \n",
       "real     520728.0  632.561460  572.654923  2.0  248.0  470.0  831.0  5000.0  "
      ]
     },
     "execution_count": 44,
     "metadata": {},
     "output_type": "execute_result"
    }
   ],
   "source": [
    "analysis = merged_zip_analysis.groupby(\"label\")[\n",
    "    [\"word length\", \"char length\"]\n",
    "].describe()\n",
    "analysis"
   ]
  },
  {
   "cell_type": "code",
   "execution_count": 45,
   "metadata": {},
   "outputs": [],
   "source": [
    "# import dataframe_image as dfi\n",
    "\n",
    "# analysis = analysis.style.background_gradient() #adding a gradient based on values in cell\n",
    "# dfi.export(analysis, 'dataframe.png')"
   ]
  },
  {
   "cell_type": "markdown",
   "metadata": {
    "id": "cov26pexSV_d"
   },
   "source": [
    "Encode star ratings into sentiment labels"
   ]
  },
  {
   "cell_type": "code",
   "execution_count": 46,
   "metadata": {
    "colab": {
     "base_uri": "https://localhost:8080/",
     "height": 206
    },
    "id": "vd6Ni7aoSawi",
    "outputId": "95ca4f16-c1a6-4fb7-933c-638ee905bcf4"
   },
   "outputs": [
    {
     "data": {
      "text/html": [
       "<div>\n",
       "<style scoped>\n",
       "    .dataframe tbody tr th:only-of-type {\n",
       "        vertical-align: middle;\n",
       "    }\n",
       "\n",
       "    .dataframe tbody tr th {\n",
       "        vertical-align: top;\n",
       "    }\n",
       "\n",
       "    .dataframe thead th {\n",
       "        text-align: right;\n",
       "    }\n",
       "</style>\n",
       "<table border=\"1\" class=\"dataframe\">\n",
       "  <thead>\n",
       "    <tr style=\"text-align: right;\">\n",
       "      <th></th>\n",
       "      <th>userID</th>\n",
       "      <th>productID</th>\n",
       "      <th>rating</th>\n",
       "      <th>label</th>\n",
       "      <th>date</th>\n",
       "      <th>review</th>\n",
       "      <th>sentiment label</th>\n",
       "    </tr>\n",
       "  </thead>\n",
       "  <tbody>\n",
       "    <tr>\n",
       "      <th>0</th>\n",
       "      <td>5045</td>\n",
       "      <td>0</td>\n",
       "      <td>1.0</td>\n",
       "      <td>-1</td>\n",
       "      <td>2014-09-08</td>\n",
       "      <td>This was the worst experience I've ever had a ...</td>\n",
       "      <td>0</td>\n",
       "    </tr>\n",
       "    <tr>\n",
       "      <th>1</th>\n",
       "      <td>5046</td>\n",
       "      <td>0</td>\n",
       "      <td>3.0</td>\n",
       "      <td>-1</td>\n",
       "      <td>2013-10-06</td>\n",
       "      <td>This is located on the site of the old Spruce ...</td>\n",
       "      <td>0</td>\n",
       "    </tr>\n",
       "    <tr>\n",
       "      <th>2</th>\n",
       "      <td>5047</td>\n",
       "      <td>0</td>\n",
       "      <td>5.0</td>\n",
       "      <td>-1</td>\n",
       "      <td>2014-11-30</td>\n",
       "      <td>I enjoyed coffee and breakfast twice at Toast ...</td>\n",
       "      <td>1</td>\n",
       "    </tr>\n",
       "    <tr>\n",
       "      <th>3</th>\n",
       "      <td>5048</td>\n",
       "      <td>0</td>\n",
       "      <td>5.0</td>\n",
       "      <td>-1</td>\n",
       "      <td>2014-08-28</td>\n",
       "      <td>I love Toast! The food choices are fantastic -...</td>\n",
       "      <td>1</td>\n",
       "    </tr>\n",
       "    <tr>\n",
       "      <th>4</th>\n",
       "      <td>5049</td>\n",
       "      <td>0</td>\n",
       "      <td>5.0</td>\n",
       "      <td>-1</td>\n",
       "      <td>2013-07-16</td>\n",
       "      <td>The egg on an English muffin (their take on eg...</td>\n",
       "      <td>1</td>\n",
       "    </tr>\n",
       "  </tbody>\n",
       "</table>\n",
       "</div>"
      ],
      "text/plain": [
       "   userID  productID  rating  label        date  \\\n",
       "0    5045          0     1.0     -1  2014-09-08   \n",
       "1    5046          0     3.0     -1  2013-10-06   \n",
       "2    5047          0     5.0     -1  2014-11-30   \n",
       "3    5048          0     5.0     -1  2014-08-28   \n",
       "4    5049          0     5.0     -1  2013-07-16   \n",
       "\n",
       "                                              review  sentiment label  \n",
       "0  This was the worst experience I've ever had a ...                0  \n",
       "1  This is located on the site of the old Spruce ...                0  \n",
       "2  I enjoyed coffee and breakfast twice at Toast ...                1  \n",
       "3  I love Toast! The food choices are fantastic -...                1  \n",
       "4  The egg on an English muffin (their take on eg...                1  "
      ]
     },
     "execution_count": 46,
     "metadata": {},
     "output_type": "execute_result"
    }
   ],
   "source": [
    "merged_zip[\"sentiment label\"] = merged_zip[\"rating\"].apply(lambda x: 0 if x <= 3 else 1)\n",
    "merged_zip.head()"
   ]
  },
  {
   "cell_type": "code",
   "execution_count": 47,
   "metadata": {},
   "outputs": [
    {
     "data": {
      "image/png": "[encoded data removed]",
      "text/plain": [
       "<Figure size 576x576 with 1 Axes>"
      ]
     },
     "metadata": {},
     "output_type": "display_data"
    }
   ],
   "source": [
    "plt.figure(figsize=(8, 8))\n",
    "sns.countplot(merged_zip[\"sentiment label\"], palette=\"Blues\")\n",
    "plt.xticks([0, 1], [\"Negative\", \"Positive\"])\n",
    "plt.title(\"Frequencies of Sentiment Labels\")\n",
    "plt.show()"
   ]
  },
  {
   "cell_type": "markdown",
   "metadata": {},
   "source": [
    "### Sampling"
   ]
  },
  {
   "cell_type": "markdown",
   "metadata": {
    "id": "EF4UEoMsSxJ5"
   },
   "source": [
    "Before sampling the data leave out one of the restaurants for the final application testing"
   ]
  },
  {
   "cell_type": "code",
   "execution_count": 48,
   "metadata": {
    "colab": {
     "base_uri": "https://localhost:8080/",
     "height": 206
    },
    "id": "DKsxEEa8tN-n",
    "outputId": "0582021a-9c2c-40f1-dc3f-d13d7c43c2d7"
   },
   "outputs": [
    {
     "data": {
      "text/html": [
       "<div>\n",
       "<style scoped>\n",
       "    .dataframe tbody tr th:only-of-type {\n",
       "        vertical-align: middle;\n",
       "    }\n",
       "\n",
       "    .dataframe tbody tr th {\n",
       "        vertical-align: top;\n",
       "    }\n",
       "\n",
       "    .dataframe thead th {\n",
       "        text-align: right;\n",
       "    }\n",
       "</style>\n",
       "<table border=\"1\" class=\"dataframe\">\n",
       "  <thead>\n",
       "    <tr style=\"text-align: right;\">\n",
       "      <th></th>\n",
       "      <th>userID</th>\n",
       "      <th>productID</th>\n",
       "      <th>rating</th>\n",
       "      <th>label</th>\n",
       "      <th>date</th>\n",
       "      <th>review</th>\n",
       "      <th>sentiment label</th>\n",
       "    </tr>\n",
       "  </thead>\n",
       "  <tbody>\n",
       "    <tr>\n",
       "      <th>203345</th>\n",
       "      <td>125274</td>\n",
       "      <td>1814</td>\n",
       "      <td>1.0</td>\n",
       "      <td>-1</td>\n",
       "      <td>2014-12-01</td>\n",
       "      <td>Just left the spotted pig, where they should a...</td>\n",
       "      <td>0</td>\n",
       "    </tr>\n",
       "    <tr>\n",
       "      <th>203346</th>\n",
       "      <td>125275</td>\n",
       "      <td>1814</td>\n",
       "      <td>1.0</td>\n",
       "      <td>-1</td>\n",
       "      <td>2014-11-21</td>\n",
       "      <td>The food is good, the atmosphere convivial, an...</td>\n",
       "      <td>0</td>\n",
       "    </tr>\n",
       "    <tr>\n",
       "      <th>203347</th>\n",
       "      <td>125276</td>\n",
       "      <td>1814</td>\n",
       "      <td>1.0</td>\n",
       "      <td>-1</td>\n",
       "      <td>2014-11-11</td>\n",
       "      <td>First impression counts, the host, obviously t...</td>\n",
       "      <td>0</td>\n",
       "    </tr>\n",
       "    <tr>\n",
       "      <th>203348</th>\n",
       "      <td>125277</td>\n",
       "      <td>1814</td>\n",
       "      <td>1.0</td>\n",
       "      <td>-1</td>\n",
       "      <td>2014-11-07</td>\n",
       "      <td>express auto at 2 prospect st metuchen with mi...</td>\n",
       "      <td>0</td>\n",
       "    </tr>\n",
       "    <tr>\n",
       "      <th>203349</th>\n",
       "      <td>125278</td>\n",
       "      <td>1814</td>\n",
       "      <td>1.0</td>\n",
       "      <td>-1</td>\n",
       "      <td>2014-10-23</td>\n",
       "      <td>Resorts World in Queens is DEFINITELY STINGY w...</td>\n",
       "      <td>0</td>\n",
       "    </tr>\n",
       "  </tbody>\n",
       "</table>\n",
       "</div>"
      ],
      "text/plain": [
       "        userID  productID  rating  label        date  \\\n",
       "203345  125274       1814     1.0     -1  2014-12-01   \n",
       "203346  125275       1814     1.0     -1  2014-11-21   \n",
       "203347  125276       1814     1.0     -1  2014-11-11   \n",
       "203348  125277       1814     1.0     -1  2014-11-07   \n",
       "203349  125278       1814     1.0     -1  2014-10-23   \n",
       "\n",
       "                                                   review  sentiment label  \n",
       "203345  Just left the spotted pig, where they should a...                0  \n",
       "203346  The food is good, the atmosphere convivial, an...                0  \n",
       "203347  First impression counts, the host, obviously t...                0  \n",
       "203348  express auto at 2 prospect st metuchen with mi...                0  \n",
       "203349  Resorts World in Queens is DEFINITELY STINGY w...                0  "
      ]
     },
     "execution_count": 48,
     "metadata": {},
     "output_type": "execute_result"
    }
   ],
   "source": [
    "production_set = merged_zip.loc[merged_zip[\"productID\"] == 1814]\n",
    "production_set.head()"
   ]
  },
  {
   "cell_type": "code",
   "execution_count": 49,
   "metadata": {
    "id": "w6k_X25Cd8SB"
   },
   "outputs": [],
   "source": [
    "production_set.to_csv(\n",
    "    Path.joinpath(PATH_TO_DATASETS, \"production_set.csv\"), encoding=\"utf-8\", index=False\n",
    ")"
   ]
  },
  {
   "cell_type": "code",
   "execution_count": 50,
   "metadata": {},
   "outputs": [
    {
     "data": {
      "text/html": [
       "<div>\n",
       "<style scoped>\n",
       "    .dataframe tbody tr th:only-of-type {\n",
       "        vertical-align: middle;\n",
       "    }\n",
       "\n",
       "    .dataframe tbody tr th {\n",
       "        vertical-align: top;\n",
       "    }\n",
       "\n",
       "    .dataframe thead th {\n",
       "        text-align: right;\n",
       "    }\n",
       "</style>\n",
       "<table border=\"1\" class=\"dataframe\">\n",
       "  <thead>\n",
       "    <tr style=\"text-align: right;\">\n",
       "      <th></th>\n",
       "      <th>userID</th>\n",
       "      <th>productID</th>\n",
       "      <th>rating</th>\n",
       "      <th>label</th>\n",
       "      <th>date</th>\n",
       "      <th>review</th>\n",
       "      <th>sentiment label</th>\n",
       "    </tr>\n",
       "  </thead>\n",
       "  <tbody>\n",
       "    <tr>\n",
       "      <th>205231</th>\n",
       "      <td>126148</td>\n",
       "      <td>1814</td>\n",
       "      <td>2.0</td>\n",
       "      <td>1</td>\n",
       "      <td>2009-09-12</td>\n",
       "      <td>This place gets two stars because the waitress...</td>\n",
       "      <td>0</td>\n",
       "    </tr>\n",
       "    <tr>\n",
       "      <th>204235</th>\n",
       "      <td>38342</td>\n",
       "      <td>1814</td>\n",
       "      <td>4.0</td>\n",
       "      <td>1</td>\n",
       "      <td>2013-07-03</td>\n",
       "      <td>Wow.</td>\n",
       "      <td>1</td>\n",
       "    </tr>\n",
       "    <tr>\n",
       "      <th>203918</th>\n",
       "      <td>125675</td>\n",
       "      <td>1814</td>\n",
       "      <td>5.0</td>\n",
       "      <td>1</td>\n",
       "      <td>2014-08-04</td>\n",
       "      <td>One of the best burgers I've ever had the plea...</td>\n",
       "      <td>1</td>\n",
       "    </tr>\n",
       "    <tr>\n",
       "      <th>204864</th>\n",
       "      <td>126017</td>\n",
       "      <td>1814</td>\n",
       "      <td>4.0</td>\n",
       "      <td>1</td>\n",
       "      <td>2011-03-14</td>\n",
       "      <td>My eyes filled with tears of joy when my pig e...</td>\n",
       "      <td>1</td>\n",
       "    </tr>\n",
       "    <tr>\n",
       "      <th>205276</th>\n",
       "      <td>17426</td>\n",
       "      <td>1814</td>\n",
       "      <td>4.0</td>\n",
       "      <td>1</td>\n",
       "      <td>2009-05-15</td>\n",
       "      <td>mmmm Speckled Hen beerrrr , but so much better =)</td>\n",
       "      <td>1</td>\n",
       "    </tr>\n",
       "    <tr>\n",
       "      <th>...</th>\n",
       "      <td>...</td>\n",
       "      <td>...</td>\n",
       "      <td>...</td>\n",
       "      <td>...</td>\n",
       "      <td>...</td>\n",
       "      <td>...</td>\n",
       "      <td>...</td>\n",
       "    </tr>\n",
       "    <tr>\n",
       "      <th>203376</th>\n",
       "      <td>38349</td>\n",
       "      <td>1814</td>\n",
       "      <td>1.0</td>\n",
       "      <td>-1</td>\n",
       "      <td>2010-10-10</td>\n",
       "      <td>So every now and then you go to a place that r...</td>\n",
       "      <td>0</td>\n",
       "    </tr>\n",
       "    <tr>\n",
       "      <th>203348</th>\n",
       "      <td>125277</td>\n",
       "      <td>1814</td>\n",
       "      <td>1.0</td>\n",
       "      <td>-1</td>\n",
       "      <td>2014-11-07</td>\n",
       "      <td>express auto at 2 prospect st metuchen with mi...</td>\n",
       "      <td>0</td>\n",
       "    </tr>\n",
       "    <tr>\n",
       "      <th>203370</th>\n",
       "      <td>125298</td>\n",
       "      <td>1814</td>\n",
       "      <td>1.0</td>\n",
       "      <td>-1</td>\n",
       "      <td>2012-01-04</td>\n",
       "      <td>Roquefort on a beef patty has existed for abou...</td>\n",
       "      <td>0</td>\n",
       "    </tr>\n",
       "    <tr>\n",
       "      <th>203948</th>\n",
       "      <td>125694</td>\n",
       "      <td>1814</td>\n",
       "      <td>5.0</td>\n",
       "      <td>1</td>\n",
       "      <td>2014-07-10</td>\n",
       "      <td>I don't get how people can give this place any...</td>\n",
       "      <td>1</td>\n",
       "    </tr>\n",
       "    <tr>\n",
       "      <th>203610</th>\n",
       "      <td>125481</td>\n",
       "      <td>1814</td>\n",
       "      <td>5.0</td>\n",
       "      <td>-1</td>\n",
       "      <td>2014-11-25</td>\n",
       "      <td>Without a doubt I am coming back again, They m...</td>\n",
       "      <td>1</td>\n",
       "    </tr>\n",
       "  </tbody>\n",
       "</table>\n",
       "<p>200 rows × 7 columns</p>\n",
       "</div>"
      ],
      "text/plain": [
       "        userID  productID  rating  label        date  \\\n",
       "205231  126148       1814     2.0      1  2009-09-12   \n",
       "204235   38342       1814     4.0      1  2013-07-03   \n",
       "203918  125675       1814     5.0      1  2014-08-04   \n",
       "204864  126017       1814     4.0      1  2011-03-14   \n",
       "205276   17426       1814     4.0      1  2009-05-15   \n",
       "...        ...        ...     ...    ...         ...   \n",
       "203376   38349       1814     1.0     -1  2010-10-10   \n",
       "203348  125277       1814     1.0     -1  2014-11-07   \n",
       "203370  125298       1814     1.0     -1  2012-01-04   \n",
       "203948  125694       1814     5.0      1  2014-07-10   \n",
       "203610  125481       1814     5.0     -1  2014-11-25   \n",
       "\n",
       "                                                   review  sentiment label  \n",
       "205231  This place gets two stars because the waitress...                0  \n",
       "204235                                               Wow.                1  \n",
       "203918  One of the best burgers I've ever had the plea...                1  \n",
       "204864  My eyes filled with tears of joy when my pig e...                1  \n",
       "205276  mmmm Speckled Hen beerrrr , but so much better =)                1  \n",
       "...                                                   ...              ...  \n",
       "203376  So every now and then you go to a place that r...                0  \n",
       "203348  express auto at 2 prospect st metuchen with mi...                0  \n",
       "203370  Roquefort on a beef patty has existed for abou...                0  \n",
       "203948  I don't get how people can give this place any...                1  \n",
       "203610  Without a doubt I am coming back again, They m...                1  \n",
       "\n",
       "[200 rows x 7 columns]"
      ]
     },
     "execution_count": 50,
     "metadata": {},
     "output_type": "execute_result"
    }
   ],
   "source": [
    "sample_production_set = production_set.sample(n=200, random_state=1984)\n",
    "sample_production_set"
   ]
  },
  {
   "cell_type": "code",
   "execution_count": 51,
   "metadata": {},
   "outputs": [],
   "source": [
    "sample_production_set.to_csv(\n",
    "    Path.joinpath(PATH_TO_DATASETS, \"sample_production_set.csv\"),\n",
    "    encoding=\"utf-8\",\n",
    "    index=False,\n",
    ")"
   ]
  },
  {
   "cell_type": "markdown",
   "metadata": {},
   "source": [
    "Get the data without the production set so we do not accidentaly train on it"
   ]
  },
  {
   "cell_type": "code",
   "execution_count": 52,
   "metadata": {
    "colab": {
     "base_uri": "https://localhost:8080/",
     "height": 206
    },
    "id": "NMYvSCtWtpyh",
    "outputId": "c10cecaa-20fc-488f-b1f6-88a416db71ae"
   },
   "outputs": [],
   "source": [
    "merged_zip_without_1814 = merged_zip.drop(\n",
    "    merged_zip[merged_zip[\"productID\"] == 1814].index\n",
    ")"
   ]
  },
  {
   "cell_type": "markdown",
   "metadata": {
    "id": "M5FnLpxigT1k"
   },
   "source": [
    "600K instances is a bit of an overkill and would take unresonably long to train and evaluate, especially with the time constraits of this course. We have decided to sample 100k instances for the training and testing data."
   ]
  },
  {
   "cell_type": "code",
   "execution_count": 53,
   "metadata": {
    "id": "1XJvLfuMY52s"
   },
   "outputs": [],
   "source": [
    "sample_training_50_50 = merged_zip_without_1814.groupby(\"sentiment label\").apply(\n",
    "    lambda x: x.sample(n=50000, random_state=1984)\n",
    ")\n",
    "sample_training_50_50 = sample_training_50_50.set_index(\"sentiment label\").reset_index()"
   ]
  },
  {
   "cell_type": "code",
   "execution_count": 54,
   "metadata": {
    "colab": {
     "base_uri": "https://localhost:8080/",
     "height": 423
    },
    "id": "dJjqMfUMl1Kx",
    "outputId": "5704ec9d-0d08-4118-98fc-0c216607041f"
   },
   "outputs": [
    {
     "data": {
      "text/html": [
       "<div>\n",
       "<style scoped>\n",
       "    .dataframe tbody tr th:only-of-type {\n",
       "        vertical-align: middle;\n",
       "    }\n",
       "\n",
       "    .dataframe tbody tr th {\n",
       "        vertical-align: top;\n",
       "    }\n",
       "\n",
       "    .dataframe thead th {\n",
       "        text-align: right;\n",
       "    }\n",
       "</style>\n",
       "<table border=\"1\" class=\"dataframe\">\n",
       "  <thead>\n",
       "    <tr style=\"text-align: right;\">\n",
       "      <th></th>\n",
       "      <th>sentiment label</th>\n",
       "      <th>userID</th>\n",
       "      <th>productID</th>\n",
       "      <th>rating</th>\n",
       "      <th>label</th>\n",
       "      <th>date</th>\n",
       "      <th>review</th>\n",
       "    </tr>\n",
       "  </thead>\n",
       "  <tbody>\n",
       "    <tr>\n",
       "      <th>0</th>\n",
       "      <td>0</td>\n",
       "      <td>196513</td>\n",
       "      <td>3811</td>\n",
       "      <td>3.0</td>\n",
       "      <td>1</td>\n",
       "      <td>2013-08-17</td>\n",
       "      <td>Solid breakfast menu. For people who actually ...</td>\n",
       "    </tr>\n",
       "    <tr>\n",
       "      <th>1</th>\n",
       "      <td>0</td>\n",
       "      <td>36673</td>\n",
       "      <td>4329</td>\n",
       "      <td>2.0</td>\n",
       "      <td>1</td>\n",
       "      <td>2012-08-05</td>\n",
       "      <td>FOOD:  the dumplings (dim sum) were not that i...</td>\n",
       "    </tr>\n",
       "    <tr>\n",
       "      <th>2</th>\n",
       "      <td>0</td>\n",
       "      <td>7069</td>\n",
       "      <td>4723</td>\n",
       "      <td>3.0</td>\n",
       "      <td>1</td>\n",
       "      <td>2013-06-26</td>\n",
       "      <td>The food was good. I was looking for an inexpe...</td>\n",
       "    </tr>\n",
       "    <tr>\n",
       "      <th>3</th>\n",
       "      <td>0</td>\n",
       "      <td>170452</td>\n",
       "      <td>1433</td>\n",
       "      <td>3.0</td>\n",
       "      <td>1</td>\n",
       "      <td>2010-04-21</td>\n",
       "      <td>Unique ambiance and good quality food (althoug...</td>\n",
       "    </tr>\n",
       "    <tr>\n",
       "      <th>4</th>\n",
       "      <td>0</td>\n",
       "      <td>240669</td>\n",
       "      <td>4743</td>\n",
       "      <td>1.0</td>\n",
       "      <td>-1</td>\n",
       "      <td>2012-03-24</td>\n",
       "      <td>We just got delivery from here after not havin...</td>\n",
       "    </tr>\n",
       "    <tr>\n",
       "      <th>...</th>\n",
       "      <td>...</td>\n",
       "      <td>...</td>\n",
       "      <td>...</td>\n",
       "      <td>...</td>\n",
       "      <td>...</td>\n",
       "      <td>...</td>\n",
       "      <td>...</td>\n",
       "    </tr>\n",
       "    <tr>\n",
       "      <th>99995</th>\n",
       "      <td>1</td>\n",
       "      <td>36124</td>\n",
       "      <td>2294</td>\n",
       "      <td>5.0</td>\n",
       "      <td>1</td>\n",
       "      <td>2010-06-18</td>\n",
       "      <td>Hey Johny! \"Hey man!\" \"Fist bump!\" I love hear...</td>\n",
       "    </tr>\n",
       "    <tr>\n",
       "      <th>99996</th>\n",
       "      <td>1</td>\n",
       "      <td>178412</td>\n",
       "      <td>2544</td>\n",
       "      <td>4.0</td>\n",
       "      <td>1</td>\n",
       "      <td>2013-11-08</td>\n",
       "      <td>Every time I come back to NYC, this is one of ...</td>\n",
       "    </tr>\n",
       "    <tr>\n",
       "      <th>99997</th>\n",
       "      <td>1</td>\n",
       "      <td>10339</td>\n",
       "      <td>2201</td>\n",
       "      <td>4.0</td>\n",
       "      <td>1</td>\n",
       "      <td>2011-05-23</td>\n",
       "      <td>Doma is just plain KEWL. The staff is thrilled...</td>\n",
       "    </tr>\n",
       "    <tr>\n",
       "      <th>99998</th>\n",
       "      <td>1</td>\n",
       "      <td>78686</td>\n",
       "      <td>2279</td>\n",
       "      <td>4.0</td>\n",
       "      <td>1</td>\n",
       "      <td>2013-03-12</td>\n",
       "      <td>Went here on a Sunday at around 4:00pm and the...</td>\n",
       "    </tr>\n",
       "    <tr>\n",
       "      <th>99999</th>\n",
       "      <td>1</td>\n",
       "      <td>86915</td>\n",
       "      <td>1134</td>\n",
       "      <td>4.0</td>\n",
       "      <td>1</td>\n",
       "      <td>2012-06-06</td>\n",
       "      <td>The food here is so good. I am glad it is a 30...</td>\n",
       "    </tr>\n",
       "  </tbody>\n",
       "</table>\n",
       "<p>100000 rows × 7 columns</p>\n",
       "</div>"
      ],
      "text/plain": [
       "       sentiment label  userID  productID  rating  label        date  \\\n",
       "0                    0  196513       3811     3.0      1  2013-08-17   \n",
       "1                    0   36673       4329     2.0      1  2012-08-05   \n",
       "2                    0    7069       4723     3.0      1  2013-06-26   \n",
       "3                    0  170452       1433     3.0      1  2010-04-21   \n",
       "4                    0  240669       4743     1.0     -1  2012-03-24   \n",
       "...                ...     ...        ...     ...    ...         ...   \n",
       "99995                1   36124       2294     5.0      1  2010-06-18   \n",
       "99996                1  178412       2544     4.0      1  2013-11-08   \n",
       "99997                1   10339       2201     4.0      1  2011-05-23   \n",
       "99998                1   78686       2279     4.0      1  2013-03-12   \n",
       "99999                1   86915       1134     4.0      1  2012-06-06   \n",
       "\n",
       "                                                  review  \n",
       "0      Solid breakfast menu. For people who actually ...  \n",
       "1      FOOD:  the dumplings (dim sum) were not that i...  \n",
       "2      The food was good. I was looking for an inexpe...  \n",
       "3      Unique ambiance and good quality food (althoug...  \n",
       "4      We just got delivery from here after not havin...  \n",
       "...                                                  ...  \n",
       "99995  Hey Johny! \"Hey man!\" \"Fist bump!\" I love hear...  \n",
       "99996  Every time I come back to NYC, this is one of ...  \n",
       "99997  Doma is just plain KEWL. The staff is thrilled...  \n",
       "99998  Went here on a Sunday at around 4:00pm and the...  \n",
       "99999  The food here is so good. I am glad it is a 30...  \n",
       "\n",
       "[100000 rows x 7 columns]"
      ]
     },
     "execution_count": 54,
     "metadata": {},
     "output_type": "execute_result"
    }
   ],
   "source": [
    "sample_training_50_50"
   ]
  },
  {
   "cell_type": "code",
   "execution_count": 55,
   "metadata": {
    "id": "5RbWx265cpkb"
   },
   "outputs": [],
   "source": [
    "sample_training_50_50.to_csv(\n",
    "    Path.joinpath(PATH_TO_DATASETS, \"sentiment_sample_50_50.csv\"),\n",
    "    encoding=\"utf-8\",\n",
    "    index=False,\n",
    ")"
   ]
  },
  {
   "cell_type": "code",
   "execution_count": 56,
   "metadata": {
    "id": "XafRWnJqfts0"
   },
   "outputs": [],
   "source": [
    "sample_training_25_75 = merged_zip_without_1814.sample(n=100000, random_state=1984)\n",
    "sample_training_25_75 = sample_training_25_75.set_index(\"sentiment label\").reset_index()"
   ]
  },
  {
   "cell_type": "code",
   "execution_count": 57,
   "metadata": {
    "colab": {
     "base_uri": "https://localhost:8080/",
     "height": 423
    },
    "id": "dC9fbY36mKtN",
    "outputId": "bc04cd7e-81d8-4617-e0d8-8304334e1b5b"
   },
   "outputs": [
    {
     "data": {
      "text/html": [
       "<div>\n",
       "<style scoped>\n",
       "    .dataframe tbody tr th:only-of-type {\n",
       "        vertical-align: middle;\n",
       "    }\n",
       "\n",
       "    .dataframe tbody tr th {\n",
       "        vertical-align: top;\n",
       "    }\n",
       "\n",
       "    .dataframe thead th {\n",
       "        text-align: right;\n",
       "    }\n",
       "</style>\n",
       "<table border=\"1\" class=\"dataframe\">\n",
       "  <thead>\n",
       "    <tr style=\"text-align: right;\">\n",
       "      <th></th>\n",
       "      <th>sentiment label</th>\n",
       "      <th>userID</th>\n",
       "      <th>productID</th>\n",
       "      <th>rating</th>\n",
       "      <th>label</th>\n",
       "      <th>date</th>\n",
       "      <th>review</th>\n",
       "    </tr>\n",
       "  </thead>\n",
       "  <tbody>\n",
       "    <tr>\n",
       "      <th>0</th>\n",
       "      <td>0</td>\n",
       "      <td>258836</td>\n",
       "      <td>5007</td>\n",
       "      <td>1.0</td>\n",
       "      <td>1</td>\n",
       "      <td>2014-08-25</td>\n",
       "      <td>Crap!!!!! Bad pours of the beers &amp; the German ...</td>\n",
       "    </tr>\n",
       "    <tr>\n",
       "      <th>1</th>\n",
       "      <td>0</td>\n",
       "      <td>46553</td>\n",
       "      <td>481</td>\n",
       "      <td>2.0</td>\n",
       "      <td>1</td>\n",
       "      <td>2014-06-21</td>\n",
       "      <td>My husband and I ordered a cheesecake square a...</td>\n",
       "    </tr>\n",
       "    <tr>\n",
       "      <th>2</th>\n",
       "      <td>1</td>\n",
       "      <td>42562</td>\n",
       "      <td>1397</td>\n",
       "      <td>4.0</td>\n",
       "      <td>1</td>\n",
       "      <td>2010-07-14</td>\n",
       "      <td>This is one of my favorite carts on Prospect, ...</td>\n",
       "    </tr>\n",
       "    <tr>\n",
       "      <th>3</th>\n",
       "      <td>1</td>\n",
       "      <td>234400</td>\n",
       "      <td>4169</td>\n",
       "      <td>5.0</td>\n",
       "      <td>1</td>\n",
       "      <td>2012-01-08</td>\n",
       "      <td>Love this sandwich shop!  All of the ingredien...</td>\n",
       "    </tr>\n",
       "    <tr>\n",
       "      <th>4</th>\n",
       "      <td>1</td>\n",
       "      <td>76304</td>\n",
       "      <td>940</td>\n",
       "      <td>5.0</td>\n",
       "      <td>1</td>\n",
       "      <td>2014-03-24</td>\n",
       "      <td>Atmosphere is nice for a date. Food was delici...</td>\n",
       "    </tr>\n",
       "    <tr>\n",
       "      <th>...</th>\n",
       "      <td>...</td>\n",
       "      <td>...</td>\n",
       "      <td>...</td>\n",
       "      <td>...</td>\n",
       "      <td>...</td>\n",
       "      <td>...</td>\n",
       "      <td>...</td>\n",
       "    </tr>\n",
       "    <tr>\n",
       "      <th>99995</th>\n",
       "      <td>1</td>\n",
       "      <td>234731</td>\n",
       "      <td>4746</td>\n",
       "      <td>4.0</td>\n",
       "      <td>1</td>\n",
       "      <td>2012-12-18</td>\n",
       "      <td>Like many other Yelpers, I LOVED the spinach g...</td>\n",
       "    </tr>\n",
       "    <tr>\n",
       "      <th>99996</th>\n",
       "      <td>1</td>\n",
       "      <td>82049</td>\n",
       "      <td>4599</td>\n",
       "      <td>5.0</td>\n",
       "      <td>1</td>\n",
       "      <td>2014-07-09</td>\n",
       "      <td>In the old days, Corona was a very Italian nei...</td>\n",
       "    </tr>\n",
       "    <tr>\n",
       "      <th>99997</th>\n",
       "      <td>1</td>\n",
       "      <td>6229</td>\n",
       "      <td>1882</td>\n",
       "      <td>5.0</td>\n",
       "      <td>1</td>\n",
       "      <td>2012-06-14</td>\n",
       "      <td>Amazing Happy Hour food and</td>\n",
       "    </tr>\n",
       "    <tr>\n",
       "      <th>99998</th>\n",
       "      <td>1</td>\n",
       "      <td>10890</td>\n",
       "      <td>3522</td>\n",
       "      <td>5.0</td>\n",
       "      <td>1</td>\n",
       "      <td>2011-10-12</td>\n",
       "      <td>By the time I sunk my teeth into scalding wing...</td>\n",
       "    </tr>\n",
       "    <tr>\n",
       "      <th>99999</th>\n",
       "      <td>0</td>\n",
       "      <td>28013</td>\n",
       "      <td>4091</td>\n",
       "      <td>3.0</td>\n",
       "      <td>1</td>\n",
       "      <td>2011-01-26</td>\n",
       "      <td>I went for restaurant week with a few friends....</td>\n",
       "    </tr>\n",
       "  </tbody>\n",
       "</table>\n",
       "<p>100000 rows × 7 columns</p>\n",
       "</div>"
      ],
      "text/plain": [
       "       sentiment label  userID  productID  rating  label        date  \\\n",
       "0                    0  258836       5007     1.0      1  2014-08-25   \n",
       "1                    0   46553        481     2.0      1  2014-06-21   \n",
       "2                    1   42562       1397     4.0      1  2010-07-14   \n",
       "3                    1  234400       4169     5.0      1  2012-01-08   \n",
       "4                    1   76304        940     5.0      1  2014-03-24   \n",
       "...                ...     ...        ...     ...    ...         ...   \n",
       "99995                1  234731       4746     4.0      1  2012-12-18   \n",
       "99996                1   82049       4599     5.0      1  2014-07-09   \n",
       "99997                1    6229       1882     5.0      1  2012-06-14   \n",
       "99998                1   10890       3522     5.0      1  2011-10-12   \n",
       "99999                0   28013       4091     3.0      1  2011-01-26   \n",
       "\n",
       "                                                  review  \n",
       "0      Crap!!!!! Bad pours of the beers & the German ...  \n",
       "1      My husband and I ordered a cheesecake square a...  \n",
       "2      This is one of my favorite carts on Prospect, ...  \n",
       "3      Love this sandwich shop!  All of the ingredien...  \n",
       "4      Atmosphere is nice for a date. Food was delici...  \n",
       "...                                                  ...  \n",
       "99995  Like many other Yelpers, I LOVED the spinach g...  \n",
       "99996  In the old days, Corona was a very Italian nei...  \n",
       "99997                       Amazing Happy Hour food and   \n",
       "99998  By the time I sunk my teeth into scalding wing...  \n",
       "99999  I went for restaurant week with a few friends....  \n",
       "\n",
       "[100000 rows x 7 columns]"
      ]
     },
     "execution_count": 57,
     "metadata": {},
     "output_type": "execute_result"
    }
   ],
   "source": [
    "sample_training_25_75"
   ]
  },
  {
   "cell_type": "code",
   "execution_count": 58,
   "metadata": {
    "id": "q1qRZ3HBdr5Q"
   },
   "outputs": [],
   "source": [
    "sample_training_25_75.to_csv(\n",
    "    Path.joinpath(PATH_TO_DATASETS, \"sentiment_sample_25_75.csv\"),\n",
    "    encoding=\"utf-8\",\n",
    "    index=False,\n",
    ")"
   ]
  },
  {
   "cell_type": "code",
   "execution_count": 59,
   "metadata": {
    "colab": {
     "base_uri": "https://localhost:8080/"
    },
    "id": "JyWbiEzhPELr",
    "outputId": "acd607ed-beaa-467d-8e16-66b83c8ac8c2"
   },
   "outputs": [
    {
     "data": {
      "text/plain": [
       "1    73541\n",
       "0    26459\n",
       "Name: sentiment label, dtype: int64"
      ]
     },
     "execution_count": 59,
     "metadata": {},
     "output_type": "execute_result"
    }
   ],
   "source": [
    "star_rating_counts = sample_training_25_75[\"sentiment label\"].value_counts()\n",
    "star_rating_counts"
   ]
  }
 ],
 "metadata": {
  "colab": {
   "authorship_tag": "ABX9TyMi0qQOYBzC+1C/1Gk5H7jU",
   "collapsed_sections": [],
   "include_colab_link": true,
   "name": "1.1_data_exploration.ipynb",
   "provenance": []
  },
  "kernelspec": {
   "display_name": "Python 3 (ipykernel)",
   "language": "python",
   "name": "python3"
  },
  "language_info": {
   "codemirror_mode": {
    "name": "ipython",
    "version": 3
   },
   "file_extension": ".py",
   "mimetype": "text/x-python",
   "name": "python",
   "nbconvert_exporter": "python",
   "pygments_lexer": "ipython3",
   "version": "3.7.7"
  }
 },
 "nbformat": 4,
 "nbformat_minor": 4
}
