{
 "cells": [
  {
   "cell_type": "code",
   "execution_count": 19,
   "id": "54c5b36b",
   "metadata": {},
   "outputs": [],
   "source": [
    "import re\n",
    "import numpy as np\n",
    "import pandas as pd\n",
    "\n",
    "pd.options.display.max_rows = 15\n",
    "np.set_printoptions(precision = 4, suppress=True)\n",
    "\n",
    "import warnings\n",
    "warnings.filterwarnings('ignore')"
   ]
  },
  {
   "cell_type": "code",
   "execution_count": 20,
   "id": "267712f0",
   "metadata": {},
   "outputs": [],
   "source": [
    "from pathlib import Path"
   ]
  },
  {
   "cell_type": "code",
   "execution_count": 21,
   "id": "af749184",
   "metadata": {},
   "outputs": [
    {
     "name": "stdout",
     "output_type": "stream",
     "text": [
      "C:\\Users\\lmps\\github\\TextMining\\datasets\\YelpNYC\\reviewContent\n",
      "does path exist? -> True\n"
     ]
    }
   ],
   "source": [
    "cur_dir = Path().resolve() # this should provide you with the folder in which this notebook is placed\n",
    "path_to_file = Path.joinpath(cur_dir, 'YelpNYC')\n",
    "path_to_file = Path.joinpath(path_to_file, 'reviewContent')\n",
    "print(path_to_file)\n",
    "print('does path exist? ->', Path.exists(path_to_file))"
   ]
  },
  {
   "cell_type": "code",
   "execution_count": 22,
   "id": "dd5e2d3c",
   "metadata": {},
   "outputs": [
    {
     "data": {
      "text/html": [
       "<div>\n",
       "<style scoped>\n",
       "    .dataframe tbody tr th:only-of-type {\n",
       "        vertical-align: middle;\n",
       "    }\n",
       "\n",
       "    .dataframe tbody tr th {\n",
       "        vertical-align: top;\n",
       "    }\n",
       "\n",
       "    .dataframe thead th {\n",
       "        text-align: right;\n",
       "    }\n",
       "</style>\n",
       "<table border=\"1\" class=\"dataframe\">\n",
       "  <thead>\n",
       "    <tr style=\"text-align: right;\">\n",
       "      <th></th>\n",
       "      <th>923</th>\n",
       "      <th>0</th>\n",
       "      <th>2014-12-08</th>\n",
       "      <th>The food at snack is a selection of popular Greek dishes. The appetizer tray is good as is the Greek salad. We were underwhelmed with the main courses. There are 4-5 tables here so it's sometimes hard to get seated.</th>\n",
       "    </tr>\n",
       "  </thead>\n",
       "  <tbody>\n",
       "    <tr>\n",
       "      <th>0</th>\n",
       "      <td>924</td>\n",
       "      <td>0</td>\n",
       "      <td>2013-05-16</td>\n",
       "      <td>This little place in Soho is wonderful. I had ...</td>\n",
       "    </tr>\n",
       "    <tr>\n",
       "      <th>1</th>\n",
       "      <td>925</td>\n",
       "      <td>0</td>\n",
       "      <td>2013-07-01</td>\n",
       "      <td>ordered lunch for 15 from Snack last Friday.  ...</td>\n",
       "    </tr>\n",
       "    <tr>\n",
       "      <th>2</th>\n",
       "      <td>926</td>\n",
       "      <td>0</td>\n",
       "      <td>2011-07-28</td>\n",
       "      <td>This is a beautiful quaint little restaurant o...</td>\n",
       "    </tr>\n",
       "    <tr>\n",
       "      <th>3</th>\n",
       "      <td>927</td>\n",
       "      <td>0</td>\n",
       "      <td>2010-11-01</td>\n",
       "      <td>Snack is great place for a  casual sit down lu...</td>\n",
       "    </tr>\n",
       "    <tr>\n",
       "      <th>4</th>\n",
       "      <td>928</td>\n",
       "      <td>0</td>\n",
       "      <td>2009-09-02</td>\n",
       "      <td>A solid 4 stars for this greek food spot.  If ...</td>\n",
       "    </tr>\n",
       "    <tr>\n",
       "      <th>...</th>\n",
       "      <td>...</td>\n",
       "      <td>...</td>\n",
       "      <td>...</td>\n",
       "      <td>...</td>\n",
       "    </tr>\n",
       "    <tr>\n",
       "      <th>358951</th>\n",
       "      <td>161146</td>\n",
       "      <td>349</td>\n",
       "      <td>2014-02-06</td>\n",
       "      <td>I'm very spoiled with Pizza. Really, I have tr...</td>\n",
       "    </tr>\n",
       "    <tr>\n",
       "      <th>358952</th>\n",
       "      <td>116424</td>\n",
       "      <td>349</td>\n",
       "      <td>2014-01-31</td>\n",
       "      <td>Can't say enough good things about this place....</td>\n",
       "    </tr>\n",
       "    <tr>\n",
       "      <th>358953</th>\n",
       "      <td>161147</td>\n",
       "      <td>349</td>\n",
       "      <td>2014-01-30</td>\n",
       "      <td>Had a great dinner here- fantastic pizza, the ...</td>\n",
       "    </tr>\n",
       "    <tr>\n",
       "      <th>358954</th>\n",
       "      <td>97930</td>\n",
       "      <td>349</td>\n",
       "      <td>2014-01-25</td>\n",
       "      <td>Great foods and great drinks, they have even p...</td>\n",
       "    </tr>\n",
       "    <tr>\n",
       "      <th>358955</th>\n",
       "      <td>5260</td>\n",
       "      <td>349</td>\n",
       "      <td>2014-01-25</td>\n",
       "      <td>Pizza Loves Emily and I love Emily's pizza. Th...</td>\n",
       "    </tr>\n",
       "  </tbody>\n",
       "</table>\n",
       "<p>358956 rows × 4 columns</p>\n",
       "</div>"
      ],
      "text/plain": [
       "           923    0  2014-12-08  \\\n",
       "0          924    0  2013-05-16   \n",
       "1          925    0  2013-07-01   \n",
       "2          926    0  2011-07-28   \n",
       "3          927    0  2010-11-01   \n",
       "4          928    0  2009-09-02   \n",
       "...        ...  ...         ...   \n",
       "358951  161146  349  2014-02-06   \n",
       "358952  116424  349  2014-01-31   \n",
       "358953  161147  349  2014-01-30   \n",
       "358954   97930  349  2014-01-25   \n",
       "358955    5260  349  2014-01-25   \n",
       "\n",
       "       The food at snack is a selection of popular Greek dishes. The appetizer tray is good as is the Greek salad. We were underwhelmed with the main courses. There are 4-5 tables here so it's sometimes hard to get seated.  \n",
       "0       This little place in Soho is wonderful. I had ...                                                                                                                                                                       \n",
       "1       ordered lunch for 15 from Snack last Friday.  ...                                                                                                                                                                       \n",
       "2       This is a beautiful quaint little restaurant o...                                                                                                                                                                       \n",
       "3       Snack is great place for a  casual sit down lu...                                                                                                                                                                       \n",
       "4       A solid 4 stars for this greek food spot.  If ...                                                                                                                                                                       \n",
       "...                                                   ...                                                                                                                                                                       \n",
       "358951  I'm very spoiled with Pizza. Really, I have tr...                                                                                                                                                                       \n",
       "358952  Can't say enough good things about this place....                                                                                                                                                                       \n",
       "358953  Had a great dinner here- fantastic pizza, the ...                                                                                                                                                                       \n",
       "358954  Great foods and great drinks, they have even p...                                                                                                                                                                       \n",
       "358955  Pizza Loves Emily and I love Emily's pizza. Th...                                                                                                                                                                       \n",
       "\n",
       "[358956 rows x 4 columns]"
      ]
     },
     "metadata": {},
     "output_type": "display_data"
    }
   ],
   "source": [
    "# read and display the data to inspect which columns are relevant to the project\n",
    "df = pd.read_table(path_to_file, sep = '\\t')\n",
    "display(df)"
   ]
  },
  {
   "cell_type": "code",
   "execution_count": 4,
   "id": "d84888f8",
   "metadata": {},
   "outputs": [
    {
     "name": "stderr",
     "output_type": "stream",
     "text": [
      "C:\\Users\\lmps\\AppData\\Local\\Programs\\Python\\Python37\\lib\\site-packages\\ipykernel_launcher.py:2: DeprecationWarning: executable_path has been deprecated, please pass in a Service object\n",
      "  \n"
     ]
    }
   ],
   "source": []
  },
  {
   "cell_type": "code",
   "execution_count": null,
   "id": "10389071",
   "metadata": {},
   "outputs": [],
   "source": []
  }
 ],
 "metadata": {
  "kernelspec": {
   "display_name": "Python 3 (ipykernel)",
   "language": "python",
   "name": "python3"
  },
  "language_info": {
   "codemirror_mode": {
    "name": "ipython",
    "version": 3
   },
   "file_extension": ".py",
   "mimetype": "text/x-python",
   "name": "python",
   "nbconvert_exporter": "python",
   "pygments_lexer": "ipython3",
   "version": "3.7.7"
  }
 },
 "nbformat": 4,
 "nbformat_minor": 5
}
