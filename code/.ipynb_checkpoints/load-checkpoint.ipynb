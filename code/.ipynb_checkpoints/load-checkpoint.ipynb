{
 "cells": [
  {
   "cell_type": "code",
   "execution_count": 2,
   "metadata": {},
   "outputs": [
    {
     "name": "stdout",
     "output_type": "stream",
     "text": [
      "Number of available GPU's: 1\n"
     ]
    }
   ],
   "source": [
    "# TODO: put links to the GPU setup with tensorflow\n",
    "\n",
    "import tensorflow as tf\n",
    "print(\"Number of available GPU's: {}\".format(len(tf.config.experimental.list_physical_devices('GPU'))))"
   ]
  },
  {
   "cell_type": "code",
   "execution_count": 1,
   "metadata": {},
   "outputs": [],
   "source": [
    "import numpy as np\n",
    "import pandas as pd\n",
    "\n",
    "pd.options.display.max_rows = 15\n",
    "np.set_printoptions(precision = 4, suppress = True)\n",
    "\n",
    "# import warnings\n",
    "# warnings.filterwarnings('ignore')"
   ]
  },
  {
   "cell_type": "code",
   "execution_count": 179,
   "metadata": {},
   "outputs": [],
   "source": [
    "# import sys\n",
    "# !{sys.executable} -m pip install dataframe-image --upgrade\n",
    "# !{sys.executable} -m pip install plotly --upgrade\n",
    "\n",
    "import plotly.graph_objects as go\n",
    "import dataframe_image as dfi\n",
    "import matplotlib.pyplot as plt\n",
    "%matplotlib inline\n",
    "import seaborn as sns\n",
    "sns.set_theme()"
   ]
  },
  {
   "cell_type": "code",
   "execution_count": 180,
   "metadata": {},
   "outputs": [
    {
     "name": "stdout",
     "output_type": "stream",
     "text": [
      "C:\\Users\\lmps\\github\\TextMining\\datasets\\yelp_100k.csv\n",
      "Does path exist? -> True\n"
     ]
    }
   ],
   "source": [
    "from pathlib import Path\n",
    "\n",
    "cur_dir = Path().resolve() # this should provide you with the folder in which this notebook is placed\n",
    "path_to_sentiment = Path.joinpath(cur_dir, 'yelp_100k.csv')\n",
    "print(path_to_sentiment)\n",
    "print('Does path exist? ->', Path.exists(path_to_sentiment))"
   ]
  },
  {
   "cell_type": "code",
   "execution_count": 181,
   "metadata": {},
   "outputs": [
    {
     "data": {
      "text/html": [
       "<div>\n",
       "<style scoped>\n",
       "    .dataframe tbody tr th:only-of-type {\n",
       "        vertical-align: middle;\n",
       "    }\n",
       "\n",
       "    .dataframe tbody tr th {\n",
       "        vertical-align: top;\n",
       "    }\n",
       "\n",
       "    .dataframe thead th {\n",
       "        text-align: right;\n",
       "    }\n",
       "</style>\n",
       "<table border=\"1\" class=\"dataframe\">\n",
       "  <thead>\n",
       "    <tr style=\"text-align: right;\">\n",
       "      <th></th>\n",
       "      <th>userID</th>\n",
       "      <th>productID</th>\n",
       "      <th>rating</th>\n",
       "      <th>fake</th>\n",
       "      <th>date</th>\n",
       "      <th>review</th>\n",
       "      <th>sentiment</th>\n",
       "    </tr>\n",
       "  </thead>\n",
       "  <tbody>\n",
       "    <tr>\n",
       "      <th>0</th>\n",
       "      <td>38779</td>\n",
       "      <td>1701</td>\n",
       "      <td>4.0</td>\n",
       "      <td>1</td>\n",
       "      <td>2012-06-15</td>\n",
       "      <td>Okay, so first of all... this place is BYOB. A...</td>\n",
       "      <td>positive</td>\n",
       "    </tr>\n",
       "    <tr>\n",
       "      <th>1</th>\n",
       "      <td>120326</td>\n",
       "      <td>1701</td>\n",
       "      <td>4.0</td>\n",
       "      <td>1</td>\n",
       "      <td>2012-06-06</td>\n",
       "      <td>The Chicken Fingers are to die for - also, the...</td>\n",
       "      <td>positive</td>\n",
       "    </tr>\n",
       "    <tr>\n",
       "      <th>2</th>\n",
       "      <td>87807</td>\n",
       "      <td>1701</td>\n",
       "      <td>4.0</td>\n",
       "      <td>1</td>\n",
       "      <td>2013-01-23</td>\n",
       "      <td>The only thing preventing a 5 star review here...</td>\n",
       "      <td>positive</td>\n",
       "    </tr>\n",
       "    <tr>\n",
       "      <th>3</th>\n",
       "      <td>5555</td>\n",
       "      <td>1701</td>\n",
       "      <td>5.0</td>\n",
       "      <td>1</td>\n",
       "      <td>2012-04-29</td>\n",
       "      <td>I came here last week and am still thinking ab...</td>\n",
       "      <td>positive</td>\n",
       "    </tr>\n",
       "    <tr>\n",
       "      <th>4</th>\n",
       "      <td>15686</td>\n",
       "      <td>1701</td>\n",
       "      <td>4.0</td>\n",
       "      <td>1</td>\n",
       "      <td>2012-02-26</td>\n",
       "      <td>Comfort's the right word. Yay they have itis o...</td>\n",
       "      <td>positive</td>\n",
       "    </tr>\n",
       "    <tr>\n",
       "      <th>5</th>\n",
       "      <td>120335</td>\n",
       "      <td>1701</td>\n",
       "      <td>3.0</td>\n",
       "      <td>1</td>\n",
       "      <td>2012-02-27</td>\n",
       "      <td>Came here for brunch with very high expectatio...</td>\n",
       "      <td>negative</td>\n",
       "    </tr>\n",
       "    <tr>\n",
       "      <th>6</th>\n",
       "      <td>50415</td>\n",
       "      <td>1701</td>\n",
       "      <td>3.0</td>\n",
       "      <td>1</td>\n",
       "      <td>2012-03-02</td>\n",
       "      <td>4 stars for food but... docking 1 star because...</td>\n",
       "      <td>negative</td>\n",
       "    </tr>\n",
       "    <tr>\n",
       "      <th>7</th>\n",
       "      <td>120334</td>\n",
       "      <td>1701</td>\n",
       "      <td>5.0</td>\n",
       "      <td>1</td>\n",
       "      <td>2012-03-04</td>\n",
       "      <td>Best brunch we ever had!  My wife had the Lobs...</td>\n",
       "      <td>positive</td>\n",
       "    </tr>\n",
       "    <tr>\n",
       "      <th>8</th>\n",
       "      <td>120333</td>\n",
       "      <td>1701</td>\n",
       "      <td>3.0</td>\n",
       "      <td>1</td>\n",
       "      <td>2012-03-05</td>\n",
       "      <td>The food was good, definitely not for light fa...</td>\n",
       "      <td>negative</td>\n",
       "    </tr>\n",
       "    <tr>\n",
       "      <th>9</th>\n",
       "      <td>107502</td>\n",
       "      <td>1701</td>\n",
       "      <td>4.0</td>\n",
       "      <td>1</td>\n",
       "      <td>2012-04-01</td>\n",
       "      <td>4 stars: Yay!! I am a fan!! I came here for lu...</td>\n",
       "      <td>positive</td>\n",
       "    </tr>\n",
       "  </tbody>\n",
       "</table>\n",
       "</div>"
      ],
      "text/plain": [
       "   userID  productID  rating  fake        date  \\\n",
       "0   38779       1701     4.0     1  2012-06-15   \n",
       "1  120326       1701     4.0     1  2012-06-06   \n",
       "2   87807       1701     4.0     1  2013-01-23   \n",
       "3    5555       1701     5.0     1  2012-04-29   \n",
       "4   15686       1701     4.0     1  2012-02-26   \n",
       "5  120335       1701     3.0     1  2012-02-27   \n",
       "6   50415       1701     3.0     1  2012-03-02   \n",
       "7  120334       1701     5.0     1  2012-03-04   \n",
       "8  120333       1701     3.0     1  2012-03-05   \n",
       "9  107502       1701     4.0     1  2012-04-01   \n",
       "\n",
       "                                              review sentiment  \n",
       "0  Okay, so first of all... this place is BYOB. A...  positive  \n",
       "1  The Chicken Fingers are to die for - also, the...  positive  \n",
       "2  The only thing preventing a 5 star review here...  positive  \n",
       "3  I came here last week and am still thinking ab...  positive  \n",
       "4  Comfort's the right word. Yay they have itis o...  positive  \n",
       "5  Came here for brunch with very high expectatio...  negative  \n",
       "6  4 stars for food but... docking 1 star because...  negative  \n",
       "7  Best brunch we ever had!  My wife had the Lobs...  positive  \n",
       "8  The food was good, definitely not for light fa...  negative  \n",
       "9  4 stars: Yay!! I am a fan!! I came here for lu...  positive  "
      ]
     },
     "execution_count": 181,
     "metadata": {},
     "output_type": "execute_result"
    }
   ],
   "source": [
    "sentiment_data = pd.read_csv(path_to_sentiment)\n",
    "sentiment_data.rename(columns={'label':'fake', 'sentiment label':'sentiment'}, inplace = True)\n",
    "sentiment_data.head(10)"
   ]
  },
  {
   "cell_type": "code",
   "execution_count": 184,
   "metadata": {},
   "outputs": [
    {
     "data": {
      "text/plain": [
       "positive    77441\n",
       "negative    31016\n",
       "Name: sentiment, dtype: int64"
      ]
     },
     "execution_count": 184,
     "metadata": {},
     "output_type": "execute_result"
    }
   ],
   "source": [
    "sentiment_label_counts = sentiment_data.sentiment.value_counts()\n",
    "sentiment_label_counts.head(2)"
   ]
  },
  {
   "cell_type": "code",
   "execution_count": 185,
   "metadata": {},
   "outputs": [
    {
     "data": {
      "text/plain": [
       "Text(0.5, 1.0, 'Sentiment Labels Frequency Counts')"
      ]
     },
     "execution_count": 185,
     "metadata": {},
     "output_type": "execute_result"
    },
    {
     "data": {
      "image/png": "[encoded data removed]",
      "text/plain": [
       "<Figure size 1080x576 with 1 Axes>"
      ]
     },
     "metadata": {},
     "output_type": "display_data"
    }
   ],
   "source": [
    "plt.figure(figsize = (15,8))\n",
    "\n",
    "sns.barplot(x = sentiment_label_counts.index, y = sentiment_label_counts.values)\n",
    "plt.xlabel(\"Sentiment\", fontsize = 14)\n",
    "plt.ylabel(\"Count\", fontsize = 14)\n",
    "plt.title(\"Sentiment Labels Frequency Counts\", fontsize = 14)"
   ]
  },
  {
   "cell_type": "code",
   "execution_count": 186,
   "metadata": {},
   "outputs": [
    {
     "data": {
      "text/plain": [
       "1       14\n",
       "2       13\n",
       "3       20\n",
       "4       54\n",
       "5       42\n",
       "        ..\n",
       "4992     2\n",
       "4993     1\n",
       "4997     1\n",
       "5000     1\n",
       "8581     1\n",
       "Name: review, Length: 3275, dtype: int64"
      ]
     },
     "metadata": {},
     "output_type": "display_data"
    }
   ],
   "source": [
    "review_length_counts = sentiment_data.review.str.len().value_counts().sort_index()\n",
    "display(review_length_counts)"
   ]
  },
  {
   "cell_type": "code",
   "execution_count": 187,
   "metadata": {},
   "outputs": [
    {
     "data": {
      "text/plain": [
       "Text(0.5, 1.0, 'Boxplot')"
      ]
     },
     "execution_count": 187,
     "metadata": {},
     "output_type": "execute_result"
    },
    {
     "data": {
      "image/png": "[encoded data removed]",
      "text/plain": [
       "<Figure size 2160x576 with 1 Axes>"
      ]
     },
     "metadata": {},
     "output_type": "display_data"
    }
   ],
   "source": [
    "plt.figure(figsize = (30,8))\n",
    "\n",
    "sns.barplot(x = review_length_counts.index)\n",
    "plt.xlabel(\"Review Length\", fontsize = 14)\n",
    "plt.title(\"Boxplot\", fontsize = 14)"
   ]
  },
  {
   "cell_type": "code",
   "execution_count": 190,
   "metadata": {},
   "outputs": [
    {
     "data": {
      "text/plain": [
       "0    3\n",
       "Name: review, dtype: int64"
      ]
     },
     "metadata": {},
     "output_type": "display_data"
    }
   ],
   "source": [
    "import nltk.data\n",
    "\n",
    "tokenizer = nltk.data.load('tokenizers/punkt/english.pickle')\n",
    "# print(len(tokenizer.tokenize('The food at snack is a selection of popular Greek. ASDADASDADAS')))\n",
    "\n",
    "# display(sentiment_data.head(1).Review)\n",
    "\n",
    "display(sentiment_data.head(1).review.apply(lambda x: len(tokenizer.tokenize(x))))"
   ]
  },
  {
   "cell_type": "code",
   "execution_count": 191,
   "metadata": {},
   "outputs": [],
   "source": [
    "mean_review_length = sentiment_data.review.str.len().mean()\n",
    "min_review_length = sentiment_data.review.str.len().min()\n",
    "max_review_length = sentiment_data.review.str.len().max()\n",
    "median_review_length = sentiment_data.review.str.len().median()\n",
    "# avg_number_of_sentences = sentiment_data.Review.apply(lambda x: len(tokenizer.tokenize(x)) if x is not np.nan else np.nan)\n",
    "exceeding_count = len(sentiment_data.loc[sentiment_data['review'].str.len() > 512].index)\n",
    "entries_count = len(sentiment_data.index)"
   ]
  },
  {
   "cell_type": "code",
   "execution_count": 192,
   "metadata": {},
   "outputs": [
    {
     "name": "stdout",
     "output_type": "stream",
     "text": [
      "Review Statistics - \n",
      "\n",
      "Median Length: 363.00\n",
      "Mean Length: 518.78\n",
      "Max Lenght: 8581.00\n",
      "Min Length: 1.00\n",
      "Exceeding Ratio: 35.36%\n"
     ]
    }
   ],
   "source": [
    "print('Review Statistics - \\n\\nMedian Length: {:.2f}\\nMean Length: {:.2f}\\nMax Lenght: {:.2f}\\nMin Length: {:.2f}\\nExceeding Ratio: {:.2f}%'.format(\n",
    "    median_review_length, mean_review_length, max_review_length, min_review_length, exceeding_count/entries_count * 100\n",
    "))"
   ]
  },
  {
   "cell_type": "code",
   "execution_count": 193,
   "metadata": {},
   "outputs": [],
   "source": [
    "sentiment_data_cleaned = sentiment_data.drop(sentiment_data[sentiment_data.review.str.len() > 2000].index)"
   ]
  },
  {
   "cell_type": "code",
   "execution_count": 194,
   "metadata": {},
   "outputs": [],
   "source": [
    "mean_review_length = sentiment_data_cleaned.review.str.len().mean()\n",
    "min_review_length = sentiment_data_cleaned.review.str.len().min()\n",
    "max_review_length = sentiment_data_cleaned.review.str.len().max()\n",
    "median_review_length = sentiment_data_cleaned.review.str.len().median()\n",
    "# avg_number_of_sentences = sentiment_data.Review.apply(lambda x: len(tokenizer.tokenize(x)) if x is not np.nan else np.nan)\n",
    "exceeding_count = len(sentiment_data_cleaned.loc[sentiment_data_cleaned['review'].str.len() > 512].index)\n",
    "entries_count = len(sentiment_data_cleaned.index)"
   ]
  },
  {
   "cell_type": "code",
   "execution_count": 195,
   "metadata": {},
   "outputs": [
    {
     "name": "stdout",
     "output_type": "stream",
     "text": [
      "Review Statistics - \n",
      "\n",
      "Median Length: 353.00\n",
      "Mean Length: 467.81\n",
      "Max Lenght: 2000.00\n",
      "Min Length: 1.00\n",
      "Exceeding Ratio: 33.87%\n"
     ]
    }
   ],
   "source": [
    "print('Review Statistics - \\n\\nMedian Length: {:.2f}\\nMean Length: {:.2f}\\nMax Lenght: {:.2f}\\nMin Length: {:.2f}\\nExceeding Ratio: {:.2f}%'.format(\n",
    "    median_review_length, mean_review_length, max_review_length, min_review_length, exceeding_count/entries_count * 100\n",
    "))"
   ]
  },
  {
   "cell_type": "code",
   "execution_count": 196,
   "metadata": {},
   "outputs": [],
   "source": [
    "sentiment_label_counts = sentiment_data_cleaned.sentiment.value_counts()"
   ]
  },
  {
   "cell_type": "code",
   "execution_count": 197,
   "metadata": {},
   "outputs": [
    {
     "data": {
      "text/plain": [
       "Text(0.5, 1.0, 'Sentiment Labels Frequency Counts')"
      ]
     },
     "execution_count": 197,
     "metadata": {},
     "output_type": "execute_result"
    },
    {
     "data": {
      "image/png": "[encoded data removed]",
      "text/plain": [
       "<Figure size 1080x576 with 1 Axes>"
      ]
     },
     "metadata": {},
     "output_type": "display_data"
    }
   ],
   "source": [
    "plt.figure(figsize = (15,8))\n",
    "\n",
    "sns.barplot(x = sentiment_label_counts.index, y = sentiment_label_counts.values)\n",
    "plt.xlabel(\"Sentiment\", fontsize = 14)\n",
    "plt.ylabel(\"Count\", fontsize = 14)\n",
    "plt.title(\"Sentiment Labels Frequency Counts\", fontsize = 14)"
   ]
  },
  {
   "cell_type": "code",
   "execution_count": 198,
   "metadata": {},
   "outputs": [
    {
     "name": "stdout",
     "output_type": "stream",
     "text": [
      "Summary of Missing Values -\n",
      "\n"
     ]
    },
    {
     "data": {
      "text/plain": [
       "userID       0\n",
       "productID    0\n",
       "rating       0\n",
       "fake         0\n",
       "date         0\n",
       "review       0\n",
       "sentiment    0\n",
       "dtype: int64"
      ]
     },
     "execution_count": 198,
     "metadata": {},
     "output_type": "execute_result"
    }
   ],
   "source": [
    "print('Summary of Missing Values -\\n')\n",
    "sentiment_data.isna().sum()"
   ]
  },
  {
   "cell_type": "code",
   "execution_count": null,
   "metadata": {},
   "outputs": [],
   "source": []
  }
 ],
 "metadata": {
  "interpreter": {
   "hash": "ec99ae316fbbe0bd891f8050ff2814e7f9d0a3d3d21b99a2bff1252b4ef2729a"
  },
  "kernelspec": {
   "display_name": "Python 3.7.7 64-bit",
   "language": "python",
   "name": "python3"
  },
  "language_info": {
   "codemirror_mode": {
    "name": "ipython",
    "version": 3
   },
   "file_extension": ".py",
   "mimetype": "text/x-python",
   "name": "python",
   "nbconvert_exporter": "python",
   "pygments_lexer": "ipython3",
   "version": "3.7.7"
  },
  "orig_nbformat": 4
 },
 "nbformat": 4,
 "nbformat_minor": 2
}
