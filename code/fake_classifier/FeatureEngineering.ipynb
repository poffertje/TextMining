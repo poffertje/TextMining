{
  "cells": [
    {
      "cell_type": "markdown",
      "metadata": {
        "colab_type": "text",
        "id": "view-in-github"
      },
      "source": [
        "<a href=\"https://colab.research.google.com/github/poffertje/TextMining/blob/master/code/fake_classifier/FeatureEngineering.ipynb\" target=\"_parent\"><img src=\"https://colab.research.google.com/assets/colab-badge.svg\" alt=\"Open In Colab\"/></a>"
      ]
    },
    {
      "cell_type": "markdown",
      "metadata": {},
      "source": [
        "# Feature Engineering"
      ]
    },
    {
      "cell_type": "markdown",
      "metadata": {},
      "source": [
        "## Mounting the Drive (Google Colab)"
      ]
    },
    {
      "cell_type": "code",
      "execution_count": null,
      "metadata": {
        "colab": {
          "base_uri": "https://localhost:8080/"
        },
        "id": "QvuWICD1Budo",
        "outputId": "26b51742-a599-4bb4-a153-592b6c7e51af"
      },
      "outputs": [
        {
          "name": "stdout",
          "output_type": "stream",
          "text": [
            "Drive already mounted at /content/gdrive; to attempt to forcibly remount, call drive.mount(\"/content/gdrive\", force_remount=True).\n"
          ]
        }
      ],
      "source": [
        "# from google.colab import drive\n",
        "# drive.mount('/content/gdrive')"
      ]
    },
    {
      "cell_type": "code",
      "execution_count": 1,
      "metadata": {
        "id": "4-v2vHHZF5Qa"
      },
      "outputs": [],
      "source": [
        "import re\n",
        "import string\n",
        "import warnings\n",
        "import numpy as np\n",
        "import pandas as pd\n",
        "import scipy as scipy\n",
        "\n",
        "from pathlib import Path\n",
        "\n",
        "pd.options.display.max_rows = 15\n",
        "np.set_printoptions(precision = 4, suppress=True)\n",
        "\n",
        "warnings.filterwarnings('ignore')"
      ]
    },
    {
      "cell_type": "markdown",
      "metadata": {
        "id": "WNrd0FsOGHku"
      },
      "source": [
        "## Resolving Paths"
      ]
    },
    {
      "cell_type": "markdown",
      "metadata": {},
      "source": [
        "### Local Repository"
      ]
    },
    {
      "cell_type": "code",
      "execution_count": 7,
      "metadata": {},
      "outputs": [
        {
          "name": "stdout",
          "output_type": "stream",
          "text": [
            "C:\\Users\\lmps\\github\\TextMining2\\datasets\n",
            "Does path exist? -> True\n",
            "C:\\Users\\lmps\\github\\TextMining2\\datasets\\processed_yelp.csv\n",
            "Does path exist? -> True\n"
          ]
        }
      ],
      "source": [
        "CUR_DIR = (\n",
        "    Path().resolve()\n",
        ")  # this should provide you with the folder in which this notebook is placed\n",
        "# use this for local repository\n",
        "PATH_TO_DATASETS = Path.joinpath(CUR_DIR.parents[1], \"datasets\")\n",
        "print(PATH_TO_DATASETS)\n",
        "print(\"Does path exist? ->\", Path.exists(PATH_TO_DATASETS))\n",
        "\n",
        "# same for colab and local repository\n",
        "PATH_TO_YELP = Path.joinpath(PATH_TO_DATASETS, \"processed_yelp.csv\")\n",
        "print(PATH_TO_YELP)\n",
        "print(\"Does path exist? ->\", Path.exists(PATH_TO_YELP))"
      ]
    },
    {
      "cell_type": "markdown",
      "metadata": {
        "id": "pqXJpbku4THE"
      },
      "source": [
        "# **Data processing**"
      ]
    },
    {
      "cell_type": "markdown",
      "metadata": {
        "id": "vEu-egETvhGe"
      },
      "source": [
        "### Importing and reading the dataset"
      ]
    },
    {
      "cell_type": "code",
      "execution_count": 8,
      "metadata": {
        "id": "i6il_3tJU0NS"
      },
      "outputs": [],
      "source": [
        "# read in the file \n",
        "yelp_merged = pd.read_csv(PATH_TO_YELP)"
      ]
    },
    {
      "cell_type": "code",
      "execution_count": 9,
      "metadata": {
        "colab": {
          "base_uri": "https://localhost:8080/",
          "height": 424
        },
        "id": "TvASyMHK41_C",
        "outputId": "5310d2c8-2f76-49f2-edfe-9ed92b1dcd44"
      },
      "outputs": [
        {
          "data": {
            "text/html": [
              "<div>\n",
              "<style scoped>\n",
              "    .dataframe tbody tr th:only-of-type {\n",
              "        vertical-align: middle;\n",
              "    }\n",
              "\n",
              "    .dataframe tbody tr th {\n",
              "        vertical-align: top;\n",
              "    }\n",
              "\n",
              "    .dataframe thead th {\n",
              "        text-align: right;\n",
              "    }\n",
              "</style>\n",
              "<table border=\"1\" class=\"dataframe\">\n",
              "  <thead>\n",
              "    <tr style=\"text-align: right;\">\n",
              "      <th></th>\n",
              "      <th>userID</th>\n",
              "      <th>productID</th>\n",
              "      <th>rating</th>\n",
              "      <th>label</th>\n",
              "      <th>date</th>\n",
              "      <th>review</th>\n",
              "      <th>sentiment label</th>\n",
              "    </tr>\n",
              "  </thead>\n",
              "  <tbody>\n",
              "    <tr>\n",
              "      <th>0</th>\n",
              "      <td>5045</td>\n",
              "      <td>0</td>\n",
              "      <td>1.0</td>\n",
              "      <td>-1</td>\n",
              "      <td>2014-09-08</td>\n",
              "      <td>This was the worst experience I've ever had a ...</td>\n",
              "      <td>0</td>\n",
              "    </tr>\n",
              "    <tr>\n",
              "      <th>1</th>\n",
              "      <td>5046</td>\n",
              "      <td>0</td>\n",
              "      <td>3.0</td>\n",
              "      <td>-1</td>\n",
              "      <td>2013-10-06</td>\n",
              "      <td>This is located on the site of the old Spruce ...</td>\n",
              "      <td>0</td>\n",
              "    </tr>\n",
              "    <tr>\n",
              "      <th>2</th>\n",
              "      <td>5047</td>\n",
              "      <td>0</td>\n",
              "      <td>5.0</td>\n",
              "      <td>-1</td>\n",
              "      <td>2014-11-30</td>\n",
              "      <td>I enjoyed coffee and breakfast twice at Toast ...</td>\n",
              "      <td>1</td>\n",
              "    </tr>\n",
              "    <tr>\n",
              "      <th>3</th>\n",
              "      <td>5048</td>\n",
              "      <td>0</td>\n",
              "      <td>5.0</td>\n",
              "      <td>-1</td>\n",
              "      <td>2014-08-28</td>\n",
              "      <td>I love Toast! The food choices are fantastic -...</td>\n",
              "      <td>1</td>\n",
              "    </tr>\n",
              "    <tr>\n",
              "      <th>4</th>\n",
              "      <td>5049</td>\n",
              "      <td>0</td>\n",
              "      <td>5.0</td>\n",
              "      <td>-1</td>\n",
              "      <td>2013-07-16</td>\n",
              "      <td>The egg on an English muffin (their take on eg...</td>\n",
              "      <td>1</td>\n",
              "    </tr>\n",
              "    <tr>\n",
              "      <th>...</th>\n",
              "      <td>...</td>\n",
              "      <td>...</td>\n",
              "      <td>...</td>\n",
              "      <td>...</td>\n",
              "      <td>...</td>\n",
              "      <td>...</td>\n",
              "      <td>...</td>\n",
              "    </tr>\n",
              "    <tr>\n",
              "      <th>598412</th>\n",
              "      <td>119664</td>\n",
              "      <td>5039</td>\n",
              "      <td>4.0</td>\n",
              "      <td>1</td>\n",
              "      <td>2013-01-20</td>\n",
              "      <td>When I first moved to the area I must say I wa...</td>\n",
              "      <td>1</td>\n",
              "    </tr>\n",
              "    <tr>\n",
              "      <th>598413</th>\n",
              "      <td>56277</td>\n",
              "      <td>5039</td>\n",
              "      <td>2.0</td>\n",
              "      <td>1</td>\n",
              "      <td>2012-11-12</td>\n",
              "      <td>Kind of pricey. I guess I expected a ridiculou...</td>\n",
              "      <td>0</td>\n",
              "    </tr>\n",
              "    <tr>\n",
              "      <th>598414</th>\n",
              "      <td>265320</td>\n",
              "      <td>5039</td>\n",
              "      <td>1.0</td>\n",
              "      <td>1</td>\n",
              "      <td>2012-08-22</td>\n",
              "      <td>Stopped by this restaurant yesterday, we just ...</td>\n",
              "      <td>0</td>\n",
              "    </tr>\n",
              "    <tr>\n",
              "      <th>598415</th>\n",
              "      <td>161722</td>\n",
              "      <td>5039</td>\n",
              "      <td>4.0</td>\n",
              "      <td>1</td>\n",
              "      <td>2011-05-11</td>\n",
              "      <td>Finally checked out The Best Subs in Claremont...</td>\n",
              "      <td>1</td>\n",
              "    </tr>\n",
              "    <tr>\n",
              "      <th>598416</th>\n",
              "      <td>78454</td>\n",
              "      <td>5039</td>\n",
              "      <td>4.0</td>\n",
              "      <td>1</td>\n",
              "      <td>2010-07-17</td>\n",
              "      <td>Just got me some \"Best Subs\" and I gotta say, ...</td>\n",
              "      <td>1</td>\n",
              "    </tr>\n",
              "  </tbody>\n",
              "</table>\n",
              "<p>598417 rows × 7 columns</p>\n",
              "</div>"
            ],
            "text/plain": [
              "        userID  productID  rating  label        date  \\\n",
              "0         5045          0     1.0     -1  2014-09-08   \n",
              "1         5046          0     3.0     -1  2013-10-06   \n",
              "2         5047          0     5.0     -1  2014-11-30   \n",
              "3         5048          0     5.0     -1  2014-08-28   \n",
              "4         5049          0     5.0     -1  2013-07-16   \n",
              "...        ...        ...     ...    ...         ...   \n",
              "598412  119664       5039     4.0      1  2013-01-20   \n",
              "598413   56277       5039     2.0      1  2012-11-12   \n",
              "598414  265320       5039     1.0      1  2012-08-22   \n",
              "598415  161722       5039     4.0      1  2011-05-11   \n",
              "598416   78454       5039     4.0      1  2010-07-17   \n",
              "\n",
              "                                                   review  sentiment label  \n",
              "0       This was the worst experience I've ever had a ...                0  \n",
              "1       This is located on the site of the old Spruce ...                0  \n",
              "2       I enjoyed coffee and breakfast twice at Toast ...                1  \n",
              "3       I love Toast! The food choices are fantastic -...                1  \n",
              "4       The egg on an English muffin (their take on eg...                1  \n",
              "...                                                   ...              ...  \n",
              "598412  When I first moved to the area I must say I wa...                1  \n",
              "598413  Kind of pricey. I guess I expected a ridiculou...                0  \n",
              "598414  Stopped by this restaurant yesterday, we just ...                0  \n",
              "598415  Finally checked out The Best Subs in Claremont...                1  \n",
              "598416  Just got me some \"Best Subs\" and I gotta say, ...                1  \n",
              "\n",
              "[598417 rows x 7 columns]"
            ]
          },
          "metadata": {},
          "output_type": "display_data"
        }
      ],
      "source": [
        "# display to see structure\n",
        "display(yelp_merged)"
      ]
    },
    {
      "cell_type": "markdown",
      "metadata": {
        "id": "5WxrERGIv4HN"
      },
      "source": [
        "### Defining helper methods"
      ]
    },
    {
      "cell_type": "code",
      "execution_count": 10,
      "metadata": {
        "id": "4U5DNjzIyBVB"
      },
      "outputs": [],
      "source": [
        "# helper function for removing punctuation\n",
        "def remove_punctuation(text):\n",
        "  return text.translate(str.maketrans('', '', string.punctuation))"
      ]
    },
    {
      "cell_type": "code",
      "execution_count": 11,
      "metadata": {
        "id": "aGZ35qUGZt04"
      },
      "outputs": [],
      "source": [
        "# count number of exclamation marks\n",
        "def count_exlaim(review):\n",
        "    count = 0\n",
        "    for i in range(len(review)):\n",
        "        if review[i] == '!':\n",
        "            count += 1\n",
        "    return count\n",
        "\n",
        "# count number of capital words\n",
        "def count_caps(review):\n",
        "    count = 0\n",
        "    for item in review.split():\n",
        "        if item.isupper():\n",
        "            count += 1\n",
        "    return count\n"
      ]
    },
    {
      "cell_type": "markdown",
      "metadata": {
        "id": "bOyKW5BMv8ie"
      },
      "source": [
        "### Dataframe refinement and processing"
      ]
    },
    {
      "cell_type": "code",
      "execution_count": 12,
      "metadata": {
        "id": "xY62yqjfZZZR"
      },
      "outputs": [],
      "source": [
        "# drop NaN rows\n",
        "yelp_merged.dropna(inplace = True)"
      ]
    },
    {
      "cell_type": "code",
      "execution_count": 13,
      "metadata": {
        "id": "zbB4SoliMWX1"
      },
      "outputs": [],
      "source": [
        "# remove the test restaurant\n",
        "yelp_merged = yelp_merged.loc[yelp_merged['productID']!=1814].reset_index(drop=True)"
      ]
    },
    {
      "cell_type": "code",
      "execution_count": 14,
      "metadata": {
        "id": "u5BcfjvTN5Z1"
      },
      "outputs": [],
      "source": [
        "# encoding the labels from -1 and 1 to 0 and 1\n",
        "encode_label = {-1 : 0, 1 : 1}"
      ]
    },
    {
      "cell_type": "code",
      "execution_count": 15,
      "metadata": {
        "id": "XjkYyd7Lo5P6"
      },
      "outputs": [],
      "source": [
        "# encoding \n",
        "yelp_merged['label'] = yelp_merged['label'].map(encode_label)"
      ]
    },
    {
      "cell_type": "code",
      "execution_count": 16,
      "metadata": {
        "colab": {
          "base_uri": "https://localhost:8080/"
        },
        "id": "hZEFf48E3yKG",
        "outputId": "e470dc10-288e-4d48-d6a7-dbc7e257feb2"
      },
      "outputs": [
        {
          "data": {
            "text/plain": [
              "label\n",
              "1    518921\n",
              "0     79496\n",
              "dtype: int64"
            ]
          },
          "execution_count": 16,
          "metadata": {},
          "output_type": "execute_result"
        }
      ],
      "source": [
        "yelp_merged.value_counts(\"label\")"
      ]
    },
    {
      "cell_type": "code",
      "execution_count": 17,
      "metadata": {
        "colab": {
          "base_uri": "https://localhost:8080/",
          "height": 49
        },
        "id": "CYCKK_iR7uU_",
        "outputId": "12b1d71b-5dd8-4254-c65a-80cf0c98019c"
      },
      "outputs": [
        {
          "data": {
            "text/html": [
              "<div>\n",
              "<style scoped>\n",
              "    .dataframe tbody tr th:only-of-type {\n",
              "        vertical-align: middle;\n",
              "    }\n",
              "\n",
              "    .dataframe tbody tr th {\n",
              "        vertical-align: top;\n",
              "    }\n",
              "\n",
              "    .dataframe thead th {\n",
              "        text-align: right;\n",
              "    }\n",
              "</style>\n",
              "<table border=\"1\" class=\"dataframe\">\n",
              "  <thead>\n",
              "    <tr style=\"text-align: right;\">\n",
              "      <th></th>\n",
              "      <th>userID</th>\n",
              "      <th>productID</th>\n",
              "      <th>rating</th>\n",
              "      <th>label</th>\n",
              "      <th>date</th>\n",
              "      <th>review</th>\n",
              "      <th>sentiment label</th>\n",
              "    </tr>\n",
              "  </thead>\n",
              "  <tbody>\n",
              "  </tbody>\n",
              "</table>\n",
              "</div>"
            ],
            "text/plain": [
              "Empty DataFrame\n",
              "Columns: [userID, productID, rating, label, date, review, sentiment label]\n",
              "Index: []"
            ]
          },
          "execution_count": 17,
          "metadata": {},
          "output_type": "execute_result"
        }
      ],
      "source": [
        "# check for empty reviews\n",
        "yelp_merged.loc[yelp_merged[\"review\"] == '']"
      ]
    },
    {
      "cell_type": "code",
      "execution_count": 18,
      "metadata": {
        "id": "RXwSLJEC8Fcy"
      },
      "outputs": [],
      "source": [
        "# add review length column\n",
        "yelp_merged[\"review_length\"] = yelp_merged['review'].str.split().str.len()"
      ]
    },
    {
      "cell_type": "code",
      "execution_count": 19,
      "metadata": {
        "id": "twTWq9z1Czjz"
      },
      "outputs": [],
      "source": [
        "# add average product rating column\n",
        "yelp_merged[\"average_product_rating\"] = yelp_merged.groupby('productID')['rating'].transform('mean')"
      ]
    },
    {
      "cell_type": "code",
      "execution_count": 20,
      "metadata": {
        "id": "LlHjh0fDF-a8"
      },
      "outputs": [],
      "source": [
        "# add average user rating column\n",
        "yelp_merged[\"average_user_rating\"] = yelp_merged.groupby('userID')['rating'].transform('mean')"
      ]
    },
    {
      "cell_type": "code",
      "execution_count": 21,
      "metadata": {
        "id": "xp2xBklFKlzs"
      },
      "outputs": [],
      "source": [
        "# count number of instances per user\n",
        "nr_rows = yelp_merged.groupby('userID').size().astype(float).reset_index(name=\"nr of rows\")"
      ]
    },
    {
      "cell_type": "code",
      "execution_count": 22,
      "metadata": {
        "id": "qkdYafaAMSJx"
      },
      "outputs": [],
      "source": [
        "# get the number of extreme reviews (1 or 5 stars)\n",
        "extreme_count = (yelp_merged.groupby('userID')['rating'].apply(lambda x: (x == (1.0 or 5.0) ).sum())).reset_index(name=\"extreme_count_ratio\")"
      ]
    },
    {
      "cell_type": "code",
      "execution_count": 23,
      "metadata": {
        "id": "fl86-GXsVU_N"
      },
      "outputs": [],
      "source": [
        "# construct an extreme ratio count table that has the ratio of extreme reviews per user\n",
        "extreme_count[\"extreme_count_ratio\"] = extreme_count[\"extreme_count_ratio\"].astype(float).div(nr_rows[\"nr of rows\"].values,axis=0)"
      ]
    },
    {
      "cell_type": "code",
      "execution_count": 24,
      "metadata": {
        "id": "I1k9f7i9C7on"
      },
      "outputs": [],
      "source": [
        "# left merge it with the original dataset\n",
        "yelp_merged = pd.merge(yelp_merged, extreme_count, how='left', on = 'userID')"
      ]
    },
    {
      "cell_type": "code",
      "execution_count": 25,
      "metadata": {
        "id": "PWyCfEgf4ZVQ"
      },
      "outputs": [],
      "source": [
        "# add number of reviews per user to the dataset\n",
        "yelp_merged[\"nr_of_reviews\"] = yelp_merged.groupby('userID')[\"userID\"].transform('count')"
      ]
    },
    {
      "cell_type": "code",
      "execution_count": 26,
      "metadata": {
        "id": "gEC8_su4Zu0o"
      },
      "outputs": [],
      "source": [
        "# add number of exclamation marks and number of capital letters to the dataframe\n",
        "yelp_merged['exclaim_cnt'] = yelp_merged['review'].apply(count_exlaim)\n",
        "yelp_merged['all_cap'] = yelp_merged['review'].apply(count_caps)"
      ]
    },
    {
      "cell_type": "markdown",
      "metadata": {
        "id": "XeQzmAhlwGS7"
      },
      "source": [
        "### Final dataset creation and export"
      ]
    },
    {
      "cell_type": "code",
      "execution_count": 27,
      "metadata": {
        "id": "Q2Q6Tri-OnDM"
      },
      "outputs": [],
      "source": [
        "# to create class balance in the datasets, add 80k instances from each label\n",
        "sub_0 = yelp_merged.loc[(yelp_merged[\"label\"] == 0) & (yelp_merged[\"review\"] != '')][:80000].reset_index(drop=True)\n",
        "sub_1 = yelp_merged.loc[(yelp_merged[\"label\"] == 1) & (yelp_merged[\"review\"] != '')][:80000].reset_index(drop=True)"
      ]
    },
    {
      "cell_type": "code",
      "execution_count": 28,
      "metadata": {
        "id": "8OyFXMxOXWqG"
      },
      "outputs": [],
      "source": [
        "# create a final dataset that joined the two previous sub-sets together\n",
        "final_classifier_dataset = pd.concat([sub_0,sub_1]).reset_index(drop=True)"
      ]
    },
    {
      "cell_type": "code",
      "execution_count": 29,
      "metadata": {
        "colab": {
          "base_uri": "https://localhost:8080/",
          "height": 49
        },
        "id": "9UkE7y-d2qes",
        "outputId": "546e9480-b13e-4d95-b2d1-60b089d9693b"
      },
      "outputs": [
        {
          "data": {
            "text/html": [
              "<div>\n",
              "<style scoped>\n",
              "    .dataframe tbody tr th:only-of-type {\n",
              "        vertical-align: middle;\n",
              "    }\n",
              "\n",
              "    .dataframe tbody tr th {\n",
              "        vertical-align: top;\n",
              "    }\n",
              "\n",
              "    .dataframe thead th {\n",
              "        text-align: right;\n",
              "    }\n",
              "</style>\n",
              "<table border=\"1\" class=\"dataframe\">\n",
              "  <thead>\n",
              "    <tr style=\"text-align: right;\">\n",
              "      <th></th>\n",
              "      <th>userID</th>\n",
              "      <th>productID</th>\n",
              "      <th>rating</th>\n",
              "      <th>label</th>\n",
              "      <th>date</th>\n",
              "      <th>review</th>\n",
              "      <th>sentiment label</th>\n",
              "      <th>review_length</th>\n",
              "      <th>average_product_rating</th>\n",
              "      <th>average_user_rating</th>\n",
              "      <th>extreme_count_ratio</th>\n",
              "      <th>nr_of_reviews</th>\n",
              "      <th>exclaim_cnt</th>\n",
              "      <th>all_cap</th>\n",
              "    </tr>\n",
              "  </thead>\n",
              "  <tbody>\n",
              "  </tbody>\n",
              "</table>\n",
              "</div>"
            ],
            "text/plain": [
              "Empty DataFrame\n",
              "Columns: [userID, productID, rating, label, date, review, sentiment label, review_length, average_product_rating, average_user_rating, extreme_count_ratio, nr_of_reviews, exclaim_cnt, all_cap]\n",
              "Index: []"
            ]
          },
          "execution_count": 29,
          "metadata": {},
          "output_type": "execute_result"
        }
      ],
      "source": [
        "# additional check for empty cells\n",
        "final_classifier_dataset[final_classifier_dataset.isnull().any(axis=1)]"
      ]
    },
    {
      "cell_type": "code",
      "execution_count": 30,
      "metadata": {
        "id": "SJXc0LJ8YlgA"
      },
      "outputs": [],
      "source": [
        "# export final dataset to be easily accesible\n",
        "final_classifier_dataset.to_csv(\n",
        "    Path.joinpath(PATH_TO_DATASETS, \"classifier_sample.csv\"),\n",
        "    encoding=\"utf-8\",\n",
        "    index=False\n",
        "    )"
      ]
    }
  ],
  "metadata": {
    "colab": {
      "collapsed_sections": [],
      "include_colab_link": true,
      "machine_shape": "hm",
      "name": "Dataset creation for LR.ipynb",
      "provenance": []
    },
    "kernelspec": {
      "display_name": "Python (text_mining)",
      "language": "python",
      "name": "text_mining"
    },
    "language_info": {
      "codemirror_mode": {
        "name": "ipython",
        "version": 3
      },
      "file_extension": ".py",
      "mimetype": "text/x-python",
      "name": "python",
      "nbconvert_exporter": "python",
      "pygments_lexer": "ipython3",
      "version": "3.7.7"
    }
  },
  "nbformat": 4,
  "nbformat_minor": 0
}
